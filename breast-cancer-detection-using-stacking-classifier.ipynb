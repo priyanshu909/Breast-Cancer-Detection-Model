{
 "cells": [
  {
   "cell_type": "markdown",
   "id": "650f009a",
   "metadata": {
    "papermill": {
     "duration": 0.036758,
     "end_time": "2022-07-24T05:55:26.822030",
     "exception": false,
     "start_time": "2022-07-24T05:55:26.785272",
     "status": "completed"
    },
    "tags": []
   },
   "source": [
    "# Breast Cancer Detection - Wisconsin Breast Cancer Dataset"
   ]
  },
  {
   "cell_type": "markdown",
   "id": "c917bdc1",
   "metadata": {
    "papermill": {
     "duration": 0.033791,
     "end_time": "2022-07-24T05:55:26.889669",
     "exception": false,
     "start_time": "2022-07-24T05:55:26.855878",
     "status": "completed"
    },
    "tags": []
   },
   "source": [
    "#### Project Description"
   ]
  },
  {
   "cell_type": "markdown",
   "id": "f53092fb",
   "metadata": {
    "papermill": {
     "duration": 0.032541,
     "end_time": "2022-07-24T05:55:26.955641",
     "exception": false,
     "start_time": "2022-07-24T05:55:26.923100",
     "status": "completed"
    },
    "tags": []
   },
   "source": [
    "Breast cancer is the most common cancer amongst women in the world. It accounts for 25% of all cancer cases, and affected over 2.1 Million people in 2015 alone. It starts when cells in the breast begin to grow out of control. These cells usually form tumors that can be seen via X-ray or felt as lumps in the breast area.\n",
    "\n",
    "The key challenges against it’s detection is how to classify tumors into malignant (cancerous) or benign (non cancerous)."
   ]
  },
  {
   "cell_type": "markdown",
   "id": "7ec69a39",
   "metadata": {
    "papermill": {
     "duration": 0.032604,
     "end_time": "2022-07-24T05:55:27.020685",
     "exception": false,
     "start_time": "2022-07-24T05:55:26.988081",
     "status": "completed"
    },
    "tags": []
   },
   "source": [
    "### 1. Importing the libraries"
   ]
  },
  {
   "cell_type": "markdown",
   "id": "e1dd3e63",
   "metadata": {
    "papermill": {
     "duration": 0.0328,
     "end_time": "2022-07-24T05:55:27.086442",
     "exception": false,
     "start_time": "2022-07-24T05:55:27.053642",
     "status": "completed"
    },
    "tags": []
   },
   "source": [
    "A Python library is a collection of related modules. It contains bundles of code that can be used repeatedly in different programs. It makes Python Programming simpler and convenient for the programmer. As we don't need to write the same code again and again for different programs.\n",
    "\n",
    "In this notebook, we will be using the following libraries."
   ]
  },
  {
   "cell_type": "code",
   "execution_count": 1,
   "id": "b859f7fe",
   "metadata": {
    "execution": {
     "iopub.execute_input": "2022-07-24T05:55:27.156653Z",
     "iopub.status.busy": "2022-07-24T05:55:27.155736Z",
     "iopub.status.idle": "2022-07-24T05:55:28.819552Z",
     "shell.execute_reply": "2022-07-24T05:55:28.818479Z"
    },
    "papermill": {
     "duration": 1.701941,
     "end_time": "2022-07-24T05:55:28.822394",
     "exception": false,
     "start_time": "2022-07-24T05:55:27.120453",
     "status": "completed"
    },
    "tags": []
   },
   "outputs": [],
   "source": [
    "### Data Wrangling \n",
    "\n",
    "import numpy as np\n",
    "import pandas as pd\n",
    "import missingno\n",
    "from collections import Counter\n",
    "from collections import OrderedDict\n",
    "\n",
    "### Data Visualization\n",
    "\n",
    "import matplotlib.pyplot as plt\n",
    "import seaborn as sns\n",
    "\n",
    "### Modelling \n",
    "\n",
    "from sklearn.model_selection import train_test_split\n",
    "from sklearn.metrics import confusion_matrix, accuracy_score, recall_score\n",
    "from sklearn.linear_model import LogisticRegression\n",
    "from sklearn.neighbors import KNeighborsClassifier\n",
    "from sklearn.naive_bayes import GaussianNB\n",
    "from sklearn.svm import SVC\n",
    "from sklearn.tree import DecisionTreeClassifier\n",
    "from sklearn.ensemble import RandomForestClassifier\n",
    "from sklearn.ensemble import StackingClassifier\n",
    "\n",
    "### Tabulating the results\n",
    "\n",
    "from tabulate import tabulate\n",
    "\n",
    "### Model Validation\n",
    "\n",
    "from sklearn.model_selection import cross_val_score\n",
    "from sklearn.metrics import roc_curve\n",
    "from sklearn.metrics import roc_auc_score\n",
    "\n",
    "### Remove unnecessary warnings\n",
    "\n",
    "import warnings\n",
    "warnings.filterwarnings('ignore')"
   ]
  },
  {
   "cell_type": "markdown",
   "id": "b19d3b49",
   "metadata": {
    "papermill": {
     "duration": 0.031231,
     "end_time": "2022-07-24T05:55:28.886063",
     "exception": false,
     "start_time": "2022-07-24T05:55:28.854832",
     "status": "completed"
    },
    "tags": []
   },
   "source": [
    "### 2. Importing the data"
   ]
  },
  {
   "cell_type": "markdown",
   "id": "17ca751d",
   "metadata": {
    "papermill": {
     "duration": 0.031438,
     "end_time": "2022-07-24T05:55:28.949016",
     "exception": false,
     "start_time": "2022-07-24T05:55:28.917578",
     "status": "completed"
    },
    "tags": []
   },
   "source": [
    "This data was donated by researchers of the University of Wisconsin and includes the measurements from digitized images of fine-needle aspirate of a breast mass.\n",
    "\n",
    "The breast cancer data includes 569 examples of cancer biopsies, each with 32 features. One feature is an identification number, another is the cancer diagnosis and 30 are numeric-valued laboratory measurements.\n",
    "The diagnosis is coded as \"M\" to indicate malignant or \"B\" to indicate benign.\n",
    "\n",
    "The other 30 numeric measurements comprise the mean, standard error and worst (i.e. largest) value for 10 different characteristics of the digitized cell nuclei, which are as follows:-\n",
    "\n",
    "1. Radius\n",
    "2. Texture\n",
    "3. Perimeter\n",
    "4. Area\n",
    "5. Smoothness\n",
    "6. Compactness\n",
    "7. Concavity\n",
    "8. Concave Points\n",
    "9. Symmetry\n",
    "10. Fractal dimension"
   ]
  },
  {
   "cell_type": "code",
   "execution_count": 2,
   "id": "4f619422",
   "metadata": {
    "execution": {
     "iopub.execute_input": "2022-07-24T05:55:29.016929Z",
     "iopub.status.busy": "2022-07-24T05:55:29.016260Z",
     "iopub.status.idle": "2022-07-24T05:55:29.038842Z",
     "shell.execute_reply": "2022-07-24T05:55:29.037513Z"
    },
    "papermill": {
     "duration": 0.059908,
     "end_time": "2022-07-24T05:55:29.041549",
     "exception": false,
     "start_time": "2022-07-24T05:55:28.981641",
     "status": "completed"
    },
    "tags": []
   },
   "outputs": [],
   "source": [
    "### Fetching the dataset\n",
    "\n",
    "dataset = pd.read_csv('../input/breast-cancer-dataset/breast-cancer.csv')"
   ]
  },
  {
   "cell_type": "code",
   "execution_count": 3,
   "id": "a5429e1f",
   "metadata": {
    "execution": {
     "iopub.execute_input": "2022-07-24T05:55:29.107290Z",
     "iopub.status.busy": "2022-07-24T05:55:29.106852Z",
     "iopub.status.idle": "2022-07-24T05:55:29.155267Z",
     "shell.execute_reply": "2022-07-24T05:55:29.154097Z"
    },
    "papermill": {
     "duration": 0.084108,
     "end_time": "2022-07-24T05:55:29.157862",
     "exception": false,
     "start_time": "2022-07-24T05:55:29.073754",
     "status": "completed"
    },
    "tags": []
   },
   "outputs": [
    {
     "data": {
      "text/html": [
       "<div>\n",
       "<style scoped>\n",
       "    .dataframe tbody tr th:only-of-type {\n",
       "        vertical-align: middle;\n",
       "    }\n",
       "\n",
       "    .dataframe tbody tr th {\n",
       "        vertical-align: top;\n",
       "    }\n",
       "\n",
       "    .dataframe thead th {\n",
       "        text-align: right;\n",
       "    }\n",
       "</style>\n",
       "<table border=\"1\" class=\"dataframe\">\n",
       "  <thead>\n",
       "    <tr style=\"text-align: right;\">\n",
       "      <th></th>\n",
       "      <th>id</th>\n",
       "      <th>diagnosis</th>\n",
       "      <th>radius_mean</th>\n",
       "      <th>texture_mean</th>\n",
       "      <th>perimeter_mean</th>\n",
       "      <th>area_mean</th>\n",
       "      <th>smoothness_mean</th>\n",
       "      <th>compactness_mean</th>\n",
       "      <th>concavity_mean</th>\n",
       "      <th>concave points_mean</th>\n",
       "      <th>...</th>\n",
       "      <th>radius_worst</th>\n",
       "      <th>texture_worst</th>\n",
       "      <th>perimeter_worst</th>\n",
       "      <th>area_worst</th>\n",
       "      <th>smoothness_worst</th>\n",
       "      <th>compactness_worst</th>\n",
       "      <th>concavity_worst</th>\n",
       "      <th>concave points_worst</th>\n",
       "      <th>symmetry_worst</th>\n",
       "      <th>fractal_dimension_worst</th>\n",
       "    </tr>\n",
       "  </thead>\n",
       "  <tbody>\n",
       "    <tr>\n",
       "      <th>0</th>\n",
       "      <td>842302</td>\n",
       "      <td>M</td>\n",
       "      <td>17.99</td>\n",
       "      <td>10.38</td>\n",
       "      <td>122.80</td>\n",
       "      <td>1001.0</td>\n",
       "      <td>0.11840</td>\n",
       "      <td>0.27760</td>\n",
       "      <td>0.30010</td>\n",
       "      <td>0.14710</td>\n",
       "      <td>...</td>\n",
       "      <td>25.38</td>\n",
       "      <td>17.33</td>\n",
       "      <td>184.60</td>\n",
       "      <td>2019.0</td>\n",
       "      <td>0.1622</td>\n",
       "      <td>0.6656</td>\n",
       "      <td>0.7119</td>\n",
       "      <td>0.2654</td>\n",
       "      <td>0.4601</td>\n",
       "      <td>0.11890</td>\n",
       "    </tr>\n",
       "    <tr>\n",
       "      <th>1</th>\n",
       "      <td>842517</td>\n",
       "      <td>M</td>\n",
       "      <td>20.57</td>\n",
       "      <td>17.77</td>\n",
       "      <td>132.90</td>\n",
       "      <td>1326.0</td>\n",
       "      <td>0.08474</td>\n",
       "      <td>0.07864</td>\n",
       "      <td>0.08690</td>\n",
       "      <td>0.07017</td>\n",
       "      <td>...</td>\n",
       "      <td>24.99</td>\n",
       "      <td>23.41</td>\n",
       "      <td>158.80</td>\n",
       "      <td>1956.0</td>\n",
       "      <td>0.1238</td>\n",
       "      <td>0.1866</td>\n",
       "      <td>0.2416</td>\n",
       "      <td>0.1860</td>\n",
       "      <td>0.2750</td>\n",
       "      <td>0.08902</td>\n",
       "    </tr>\n",
       "    <tr>\n",
       "      <th>2</th>\n",
       "      <td>84300903</td>\n",
       "      <td>M</td>\n",
       "      <td>19.69</td>\n",
       "      <td>21.25</td>\n",
       "      <td>130.00</td>\n",
       "      <td>1203.0</td>\n",
       "      <td>0.10960</td>\n",
       "      <td>0.15990</td>\n",
       "      <td>0.19740</td>\n",
       "      <td>0.12790</td>\n",
       "      <td>...</td>\n",
       "      <td>23.57</td>\n",
       "      <td>25.53</td>\n",
       "      <td>152.50</td>\n",
       "      <td>1709.0</td>\n",
       "      <td>0.1444</td>\n",
       "      <td>0.4245</td>\n",
       "      <td>0.4504</td>\n",
       "      <td>0.2430</td>\n",
       "      <td>0.3613</td>\n",
       "      <td>0.08758</td>\n",
       "    </tr>\n",
       "    <tr>\n",
       "      <th>3</th>\n",
       "      <td>84348301</td>\n",
       "      <td>M</td>\n",
       "      <td>11.42</td>\n",
       "      <td>20.38</td>\n",
       "      <td>77.58</td>\n",
       "      <td>386.1</td>\n",
       "      <td>0.14250</td>\n",
       "      <td>0.28390</td>\n",
       "      <td>0.24140</td>\n",
       "      <td>0.10520</td>\n",
       "      <td>...</td>\n",
       "      <td>14.91</td>\n",
       "      <td>26.50</td>\n",
       "      <td>98.87</td>\n",
       "      <td>567.7</td>\n",
       "      <td>0.2098</td>\n",
       "      <td>0.8663</td>\n",
       "      <td>0.6869</td>\n",
       "      <td>0.2575</td>\n",
       "      <td>0.6638</td>\n",
       "      <td>0.17300</td>\n",
       "    </tr>\n",
       "    <tr>\n",
       "      <th>4</th>\n",
       "      <td>84358402</td>\n",
       "      <td>M</td>\n",
       "      <td>20.29</td>\n",
       "      <td>14.34</td>\n",
       "      <td>135.10</td>\n",
       "      <td>1297.0</td>\n",
       "      <td>0.10030</td>\n",
       "      <td>0.13280</td>\n",
       "      <td>0.19800</td>\n",
       "      <td>0.10430</td>\n",
       "      <td>...</td>\n",
       "      <td>22.54</td>\n",
       "      <td>16.67</td>\n",
       "      <td>152.20</td>\n",
       "      <td>1575.0</td>\n",
       "      <td>0.1374</td>\n",
       "      <td>0.2050</td>\n",
       "      <td>0.4000</td>\n",
       "      <td>0.1625</td>\n",
       "      <td>0.2364</td>\n",
       "      <td>0.07678</td>\n",
       "    </tr>\n",
       "    <tr>\n",
       "      <th>5</th>\n",
       "      <td>843786</td>\n",
       "      <td>M</td>\n",
       "      <td>12.45</td>\n",
       "      <td>15.70</td>\n",
       "      <td>82.57</td>\n",
       "      <td>477.1</td>\n",
       "      <td>0.12780</td>\n",
       "      <td>0.17000</td>\n",
       "      <td>0.15780</td>\n",
       "      <td>0.08089</td>\n",
       "      <td>...</td>\n",
       "      <td>15.47</td>\n",
       "      <td>23.75</td>\n",
       "      <td>103.40</td>\n",
       "      <td>741.6</td>\n",
       "      <td>0.1791</td>\n",
       "      <td>0.5249</td>\n",
       "      <td>0.5355</td>\n",
       "      <td>0.1741</td>\n",
       "      <td>0.3985</td>\n",
       "      <td>0.12440</td>\n",
       "    </tr>\n",
       "    <tr>\n",
       "      <th>6</th>\n",
       "      <td>844359</td>\n",
       "      <td>M</td>\n",
       "      <td>18.25</td>\n",
       "      <td>19.98</td>\n",
       "      <td>119.60</td>\n",
       "      <td>1040.0</td>\n",
       "      <td>0.09463</td>\n",
       "      <td>0.10900</td>\n",
       "      <td>0.11270</td>\n",
       "      <td>0.07400</td>\n",
       "      <td>...</td>\n",
       "      <td>22.88</td>\n",
       "      <td>27.66</td>\n",
       "      <td>153.20</td>\n",
       "      <td>1606.0</td>\n",
       "      <td>0.1442</td>\n",
       "      <td>0.2576</td>\n",
       "      <td>0.3784</td>\n",
       "      <td>0.1932</td>\n",
       "      <td>0.3063</td>\n",
       "      <td>0.08368</td>\n",
       "    </tr>\n",
       "    <tr>\n",
       "      <th>7</th>\n",
       "      <td>84458202</td>\n",
       "      <td>M</td>\n",
       "      <td>13.71</td>\n",
       "      <td>20.83</td>\n",
       "      <td>90.20</td>\n",
       "      <td>577.9</td>\n",
       "      <td>0.11890</td>\n",
       "      <td>0.16450</td>\n",
       "      <td>0.09366</td>\n",
       "      <td>0.05985</td>\n",
       "      <td>...</td>\n",
       "      <td>17.06</td>\n",
       "      <td>28.14</td>\n",
       "      <td>110.60</td>\n",
       "      <td>897.0</td>\n",
       "      <td>0.1654</td>\n",
       "      <td>0.3682</td>\n",
       "      <td>0.2678</td>\n",
       "      <td>0.1556</td>\n",
       "      <td>0.3196</td>\n",
       "      <td>0.11510</td>\n",
       "    </tr>\n",
       "    <tr>\n",
       "      <th>8</th>\n",
       "      <td>844981</td>\n",
       "      <td>M</td>\n",
       "      <td>13.00</td>\n",
       "      <td>21.82</td>\n",
       "      <td>87.50</td>\n",
       "      <td>519.8</td>\n",
       "      <td>0.12730</td>\n",
       "      <td>0.19320</td>\n",
       "      <td>0.18590</td>\n",
       "      <td>0.09353</td>\n",
       "      <td>...</td>\n",
       "      <td>15.49</td>\n",
       "      <td>30.73</td>\n",
       "      <td>106.20</td>\n",
       "      <td>739.3</td>\n",
       "      <td>0.1703</td>\n",
       "      <td>0.5401</td>\n",
       "      <td>0.5390</td>\n",
       "      <td>0.2060</td>\n",
       "      <td>0.4378</td>\n",
       "      <td>0.10720</td>\n",
       "    </tr>\n",
       "    <tr>\n",
       "      <th>9</th>\n",
       "      <td>84501001</td>\n",
       "      <td>M</td>\n",
       "      <td>12.46</td>\n",
       "      <td>24.04</td>\n",
       "      <td>83.97</td>\n",
       "      <td>475.9</td>\n",
       "      <td>0.11860</td>\n",
       "      <td>0.23960</td>\n",
       "      <td>0.22730</td>\n",
       "      <td>0.08543</td>\n",
       "      <td>...</td>\n",
       "      <td>15.09</td>\n",
       "      <td>40.68</td>\n",
       "      <td>97.65</td>\n",
       "      <td>711.4</td>\n",
       "      <td>0.1853</td>\n",
       "      <td>1.0580</td>\n",
       "      <td>1.1050</td>\n",
       "      <td>0.2210</td>\n",
       "      <td>0.4366</td>\n",
       "      <td>0.20750</td>\n",
       "    </tr>\n",
       "  </tbody>\n",
       "</table>\n",
       "<p>10 rows × 32 columns</p>\n",
       "</div>"
      ],
      "text/plain": [
       "         id diagnosis  radius_mean  texture_mean  perimeter_mean  area_mean  \\\n",
       "0    842302         M        17.99         10.38          122.80     1001.0   \n",
       "1    842517         M        20.57         17.77          132.90     1326.0   \n",
       "2  84300903         M        19.69         21.25          130.00     1203.0   \n",
       "3  84348301         M        11.42         20.38           77.58      386.1   \n",
       "4  84358402         M        20.29         14.34          135.10     1297.0   \n",
       "5    843786         M        12.45         15.70           82.57      477.1   \n",
       "6    844359         M        18.25         19.98          119.60     1040.0   \n",
       "7  84458202         M        13.71         20.83           90.20      577.9   \n",
       "8    844981         M        13.00         21.82           87.50      519.8   \n",
       "9  84501001         M        12.46         24.04           83.97      475.9   \n",
       "\n",
       "   smoothness_mean  compactness_mean  concavity_mean  concave points_mean  \\\n",
       "0          0.11840           0.27760         0.30010              0.14710   \n",
       "1          0.08474           0.07864         0.08690              0.07017   \n",
       "2          0.10960           0.15990         0.19740              0.12790   \n",
       "3          0.14250           0.28390         0.24140              0.10520   \n",
       "4          0.10030           0.13280         0.19800              0.10430   \n",
       "5          0.12780           0.17000         0.15780              0.08089   \n",
       "6          0.09463           0.10900         0.11270              0.07400   \n",
       "7          0.11890           0.16450         0.09366              0.05985   \n",
       "8          0.12730           0.19320         0.18590              0.09353   \n",
       "9          0.11860           0.23960         0.22730              0.08543   \n",
       "\n",
       "   ...  radius_worst  texture_worst  perimeter_worst  area_worst  \\\n",
       "0  ...         25.38          17.33           184.60      2019.0   \n",
       "1  ...         24.99          23.41           158.80      1956.0   \n",
       "2  ...         23.57          25.53           152.50      1709.0   \n",
       "3  ...         14.91          26.50            98.87       567.7   \n",
       "4  ...         22.54          16.67           152.20      1575.0   \n",
       "5  ...         15.47          23.75           103.40       741.6   \n",
       "6  ...         22.88          27.66           153.20      1606.0   \n",
       "7  ...         17.06          28.14           110.60       897.0   \n",
       "8  ...         15.49          30.73           106.20       739.3   \n",
       "9  ...         15.09          40.68            97.65       711.4   \n",
       "\n",
       "   smoothness_worst  compactness_worst  concavity_worst  concave points_worst  \\\n",
       "0            0.1622             0.6656           0.7119                0.2654   \n",
       "1            0.1238             0.1866           0.2416                0.1860   \n",
       "2            0.1444             0.4245           0.4504                0.2430   \n",
       "3            0.2098             0.8663           0.6869                0.2575   \n",
       "4            0.1374             0.2050           0.4000                0.1625   \n",
       "5            0.1791             0.5249           0.5355                0.1741   \n",
       "6            0.1442             0.2576           0.3784                0.1932   \n",
       "7            0.1654             0.3682           0.2678                0.1556   \n",
       "8            0.1703             0.5401           0.5390                0.2060   \n",
       "9            0.1853             1.0580           1.1050                0.2210   \n",
       "\n",
       "   symmetry_worst  fractal_dimension_worst  \n",
       "0          0.4601                  0.11890  \n",
       "1          0.2750                  0.08902  \n",
       "2          0.3613                  0.08758  \n",
       "3          0.6638                  0.17300  \n",
       "4          0.2364                  0.07678  \n",
       "5          0.3985                  0.12440  \n",
       "6          0.3063                  0.08368  \n",
       "7          0.3196                  0.11510  \n",
       "8          0.4378                  0.10720  \n",
       "9          0.4366                  0.20750  \n",
       "\n",
       "[10 rows x 32 columns]"
      ]
     },
     "execution_count": 3,
     "metadata": {},
     "output_type": "execute_result"
    }
   ],
   "source": [
    "### Looking at the sample data in the dataset\n",
    "\n",
    "dataset.head(10)"
   ]
  },
  {
   "cell_type": "code",
   "execution_count": 4,
   "id": "7ca89339",
   "metadata": {
    "execution": {
     "iopub.execute_input": "2022-07-24T05:55:29.224973Z",
     "iopub.status.busy": "2022-07-24T05:55:29.224567Z",
     "iopub.status.idle": "2022-07-24T05:55:29.231424Z",
     "shell.execute_reply": "2022-07-24T05:55:29.230241Z"
    },
    "papermill": {
     "duration": 0.042783,
     "end_time": "2022-07-24T05:55:29.233645",
     "exception": false,
     "start_time": "2022-07-24T05:55:29.190862",
     "status": "completed"
    },
    "tags": []
   },
   "outputs": [
    {
     "data": {
      "text/plain": [
       "(569, 32)"
      ]
     },
     "execution_count": 4,
     "metadata": {},
     "output_type": "execute_result"
    }
   ],
   "source": [
    "### Shape of the dataset\n",
    "\n",
    "dataset.shape"
   ]
  },
  {
   "cell_type": "markdown",
   "id": "50d3a0f9",
   "metadata": {
    "papermill": {
     "duration": 0.032069,
     "end_time": "2022-07-24T05:55:29.298131",
     "exception": false,
     "start_time": "2022-07-24T05:55:29.266062",
     "status": "completed"
    },
    "tags": []
   },
   "source": [
    "The dataset consists of 32 columns and 569 rows."
   ]
  },
  {
   "cell_type": "code",
   "execution_count": 5,
   "id": "3b7a12e5",
   "metadata": {
    "execution": {
     "iopub.execute_input": "2022-07-24T05:55:29.364341Z",
     "iopub.status.busy": "2022-07-24T05:55:29.363919Z",
     "iopub.status.idle": "2022-07-24T05:55:29.379787Z",
     "shell.execute_reply": "2022-07-24T05:55:29.378109Z"
    },
    "papermill": {
     "duration": 0.051821,
     "end_time": "2022-07-24T05:55:29.382253",
     "exception": false,
     "start_time": "2022-07-24T05:55:29.330432",
     "status": "completed"
    },
    "tags": []
   },
   "outputs": [
    {
     "name": "stdout",
     "output_type": "stream",
     "text": [
      "Percentage of people having breast cancer: 37.26\n",
      "Percentage of people not having breast cancer: 62.74\n"
     ]
    }
   ],
   "source": [
    "### Checking if the dataset is balanced or not\n",
    "\n",
    "labels = ['Has Breast Cancer', 'Does not have Breast Cancer']\n",
    "values = [len(dataset[dataset['diagnosis'] == 'M']), len(dataset[dataset['diagnosis'] == 'B'])] \n",
    "\n",
    "print('Percentage of people having breast cancer: {}'.format(round((values[0] * 100)/sum(values), 2)))\n",
    "print('Percentage of people not having breast cancer: {}'.format(round((values[1] * 100)/sum(values), 2)))"
   ]
  },
  {
   "cell_type": "code",
   "execution_count": 6,
   "id": "38ffee23",
   "metadata": {
    "execution": {
     "iopub.execute_input": "2022-07-24T05:55:29.450087Z",
     "iopub.status.busy": "2022-07-24T05:55:29.449622Z",
     "iopub.status.idle": "2022-07-24T05:55:29.610383Z",
     "shell.execute_reply": "2022-07-24T05:55:29.609013Z"
    },
    "papermill": {
     "duration": 0.197227,
     "end_time": "2022-07-24T05:55:29.612591",
     "exception": false,
     "start_time": "2022-07-24T05:55:29.415364",
     "status": "completed"
    },
    "tags": []
   },
   "outputs": [
    {
     "data": {
      "image/png": "[encoded data removed]",
      "text/plain": [
       "<Figure size 432x288 with 1 Axes>"
      ]
     },
     "metadata": {
      "needs_background": "light"
     },
     "output_type": "display_data"
    }
   ],
   "source": [
    "### Plotting the graph - to check if the dataset is balanced or not\n",
    "\n",
    "plt.title('Checking whether the dataset is balanced or not')\n",
    "plt.xlabel('Distribution')\n",
    "plt.ylabel('Count')\n",
    "plt.bar(labels, values)\n",
    "plt.show()"
   ]
  },
  {
   "cell_type": "markdown",
   "id": "d0a9830d",
   "metadata": {
    "papermill": {
     "duration": 0.032856,
     "end_time": "2022-07-24T05:55:29.677856",
     "exception": false,
     "start_time": "2022-07-24T05:55:29.645000",
     "status": "completed"
    },
    "tags": []
   },
   "source": [
    "From the above graph, we can see that the data is slightly unbalanced."
   ]
  },
  {
   "cell_type": "markdown",
   "id": "8e623e5f",
   "metadata": {
    "papermill": {
     "duration": 0.033423,
     "end_time": "2022-07-24T05:55:29.744118",
     "exception": false,
     "start_time": "2022-07-24T05:55:29.710695",
     "status": "completed"
    },
    "tags": []
   },
   "source": [
    "### 3. Data Preprocessing"
   ]
  },
  {
   "cell_type": "markdown",
   "id": "6a573b88",
   "metadata": {
    "papermill": {
     "duration": 0.032338,
     "end_time": "2022-07-24T05:55:29.809102",
     "exception": false,
     "start_time": "2022-07-24T05:55:29.776764",
     "status": "completed"
    },
    "tags": []
   },
   "source": [
    "Data preprocessing is the process of getting our dataset ready for model training. In this section, we will perform the following preprocessing steps:\n",
    "\n",
    "1. Datatypes, Missing Data, and Summary Statistics\n",
    "2. Drop unnecessary columns\n",
    "3. Data Transformation\n",
    "4. Feature encoding "
   ]
  },
  {
   "cell_type": "markdown",
   "id": "62d86650",
   "metadata": {
    "papermill": {
     "duration": 0.032796,
     "end_time": "2022-07-24T05:55:29.874612",
     "exception": false,
     "start_time": "2022-07-24T05:55:29.841816",
     "status": "completed"
    },
    "tags": []
   },
   "source": [
    "#### 3.1 Datatypes, Missing Data, and Summary Statistics"
   ]
  },
  {
   "cell_type": "code",
   "execution_count": 7,
   "id": "f0336256",
   "metadata": {
    "execution": {
     "iopub.execute_input": "2022-07-24T05:55:29.944028Z",
     "iopub.status.busy": "2022-07-24T05:55:29.943350Z",
     "iopub.status.idle": "2022-07-24T05:55:29.967165Z",
     "shell.execute_reply": "2022-07-24T05:55:29.964963Z"
    },
    "papermill": {
     "duration": 0.061793,
     "end_time": "2022-07-24T05:55:29.969697",
     "exception": false,
     "start_time": "2022-07-24T05:55:29.907904",
     "status": "completed"
    },
    "tags": []
   },
   "outputs": [
    {
     "name": "stdout",
     "output_type": "stream",
     "text": [
      "<class 'pandas.core.frame.DataFrame'>\n",
      "RangeIndex: 569 entries, 0 to 568\n",
      "Data columns (total 32 columns):\n",
      " #   Column                   Non-Null Count  Dtype  \n",
      "---  ------                   --------------  -----  \n",
      " 0   id                       569 non-null    int64  \n",
      " 1   diagnosis                569 non-null    object \n",
      " 2   radius_mean              569 non-null    float64\n",
      " 3   texture_mean             569 non-null    float64\n",
      " 4   perimeter_mean           569 non-null    float64\n",
      " 5   area_mean                569 non-null    float64\n",
      " 6   smoothness_mean          569 non-null    float64\n",
      " 7   compactness_mean         569 non-null    float64\n",
      " 8   concavity_mean           569 non-null    float64\n",
      " 9   concave points_mean      569 non-null    float64\n",
      " 10  symmetry_mean            569 non-null    float64\n",
      " 11  fractal_dimension_mean   569 non-null    float64\n",
      " 12  radius_se                569 non-null    float64\n",
      " 13  texture_se               569 non-null    float64\n",
      " 14  perimeter_se             569 non-null    float64\n",
      " 15  area_se                  569 non-null    float64\n",
      " 16  smoothness_se            569 non-null    float64\n",
      " 17  compactness_se           569 non-null    float64\n",
      " 18  concavity_se             569 non-null    float64\n",
      " 19  concave points_se        569 non-null    float64\n",
      " 20  symmetry_se              569 non-null    float64\n",
      " 21  fractal_dimension_se     569 non-null    float64\n",
      " 22  radius_worst             569 non-null    float64\n",
      " 23  texture_worst            569 non-null    float64\n",
      " 24  perimeter_worst          569 non-null    float64\n",
      " 25  area_worst               569 non-null    float64\n",
      " 26  smoothness_worst         569 non-null    float64\n",
      " 27  compactness_worst        569 non-null    float64\n",
      " 28  concavity_worst          569 non-null    float64\n",
      " 29  concave points_worst     569 non-null    float64\n",
      " 30  symmetry_worst           569 non-null    float64\n",
      " 31  fractal_dimension_worst  569 non-null    float64\n",
      "dtypes: float64(30), int64(1), object(1)\n",
      "memory usage: 142.4+ KB\n"
     ]
    }
   ],
   "source": [
    "### Looking at the datatypes of the dataset\n",
    "\n",
    "dataset.info()"
   ]
  },
  {
   "cell_type": "markdown",
   "id": "08477f40",
   "metadata": {
    "papermill": {
     "duration": 0.032648,
     "end_time": "2022-07-24T05:55:30.035444",
     "exception": false,
     "start_time": "2022-07-24T05:55:30.002796",
     "status": "completed"
    },
    "tags": []
   },
   "source": [
    "Here, the column - diagnosis is categorical. Hence, we modify the datatype of these columns to category."
   ]
  },
  {
   "cell_type": "code",
   "execution_count": 8,
   "id": "f85e14e2",
   "metadata": {
    "execution": {
     "iopub.execute_input": "2022-07-24T05:55:30.102697Z",
     "iopub.status.busy": "2022-07-24T05:55:30.102278Z",
     "iopub.status.idle": "2022-07-24T05:55:30.109091Z",
     "shell.execute_reply": "2022-07-24T05:55:30.107953Z"
    },
    "papermill": {
     "duration": 0.043195,
     "end_time": "2022-07-24T05:55:30.111473",
     "exception": false,
     "start_time": "2022-07-24T05:55:30.068278",
     "status": "completed"
    },
    "tags": []
   },
   "outputs": [],
   "source": [
    "### Changing the datatype of the column - dignosis in the dataset \n",
    "\n",
    "dataset.diagnosis = dataset.diagnosis.astype('category')"
   ]
  },
  {
   "cell_type": "markdown",
   "id": "8d54ab66",
   "metadata": {
    "papermill": {
     "duration": 0.03279,
     "end_time": "2022-07-24T05:55:30.177141",
     "exception": false,
     "start_time": "2022-07-24T05:55:30.144351",
     "status": "completed"
    },
    "tags": []
   },
   "source": [
    "Looking at the modified datatypes of the columns in the dataset."
   ]
  },
  {
   "cell_type": "code",
   "execution_count": 9,
   "id": "a8b34192",
   "metadata": {
    "execution": {
     "iopub.execute_input": "2022-07-24T05:55:30.246546Z",
     "iopub.status.busy": "2022-07-24T05:55:30.245862Z",
     "iopub.status.idle": "2022-07-24T05:55:30.263449Z",
     "shell.execute_reply": "2022-07-24T05:55:30.261245Z"
    },
    "papermill": {
     "duration": 0.05536,
     "end_time": "2022-07-24T05:55:30.266324",
     "exception": false,
     "start_time": "2022-07-24T05:55:30.210964",
     "status": "completed"
    },
    "tags": []
   },
   "outputs": [
    {
     "name": "stdout",
     "output_type": "stream",
     "text": [
      "<class 'pandas.core.frame.DataFrame'>\n",
      "RangeIndex: 569 entries, 0 to 568\n",
      "Data columns (total 32 columns):\n",
      " #   Column                   Non-Null Count  Dtype   \n",
      "---  ------                   --------------  -----   \n",
      " 0   id                       569 non-null    int64   \n",
      " 1   diagnosis                569 non-null    category\n",
      " 2   radius_mean              569 non-null    float64 \n",
      " 3   texture_mean             569 non-null    float64 \n",
      " 4   perimeter_mean           569 non-null    float64 \n",
      " 5   area_mean                569 non-null    float64 \n",
      " 6   smoothness_mean          569 non-null    float64 \n",
      " 7   compactness_mean         569 non-null    float64 \n",
      " 8   concavity_mean           569 non-null    float64 \n",
      " 9   concave points_mean      569 non-null    float64 \n",
      " 10  symmetry_mean            569 non-null    float64 \n",
      " 11  fractal_dimension_mean   569 non-null    float64 \n",
      " 12  radius_se                569 non-null    float64 \n",
      " 13  texture_se               569 non-null    float64 \n",
      " 14  perimeter_se             569 non-null    float64 \n",
      " 15  area_se                  569 non-null    float64 \n",
      " 16  smoothness_se            569 non-null    float64 \n",
      " 17  compactness_se           569 non-null    float64 \n",
      " 18  concavity_se             569 non-null    float64 \n",
      " 19  concave points_se        569 non-null    float64 \n",
      " 20  symmetry_se              569 non-null    float64 \n",
      " 21  fractal_dimension_se     569 non-null    float64 \n",
      " 22  radius_worst             569 non-null    float64 \n",
      " 23  texture_worst            569 non-null    float64 \n",
      " 24  perimeter_worst          569 non-null    float64 \n",
      " 25  area_worst               569 non-null    float64 \n",
      " 26  smoothness_worst         569 non-null    float64 \n",
      " 27  compactness_worst        569 non-null    float64 \n",
      " 28  concavity_worst          569 non-null    float64 \n",
      " 29  concave points_worst     569 non-null    float64 \n",
      " 30  symmetry_worst           569 non-null    float64 \n",
      " 31  fractal_dimension_worst  569 non-null    float64 \n",
      "dtypes: category(1), float64(30), int64(1)\n",
      "memory usage: 138.6 KB\n"
     ]
    }
   ],
   "source": [
    "### Looking at the modified datatypes of the dataset\n",
    "\n",
    "dataset.info()"
   ]
  },
  {
   "cell_type": "markdown",
   "id": "f7eeeaca",
   "metadata": {
    "papermill": {
     "duration": 0.032503,
     "end_time": "2022-07-24T05:55:30.331920",
     "exception": false,
     "start_time": "2022-07-24T05:55:30.299417",
     "status": "completed"
    },
    "tags": []
   },
   "source": [
    "From the above data, we can see that the datatype of the column - diagnosis has changed from object to category."
   ]
  },
  {
   "cell_type": "code",
   "execution_count": 10,
   "id": "b93d6e5e",
   "metadata": {
    "execution": {
     "iopub.execute_input": "2022-07-24T05:55:30.399275Z",
     "iopub.status.busy": "2022-07-24T05:55:30.398869Z",
     "iopub.status.idle": "2022-07-24T05:55:30.409291Z",
     "shell.execute_reply": "2022-07-24T05:55:30.408147Z"
    },
    "papermill": {
     "duration": 0.047177,
     "end_time": "2022-07-24T05:55:30.411774",
     "exception": false,
     "start_time": "2022-07-24T05:55:30.364597",
     "status": "completed"
    },
    "tags": []
   },
   "outputs": [
    {
     "data": {
      "text/plain": [
       "id                         0\n",
       "diagnosis                  0\n",
       "symmetry_worst             0\n",
       "concave points_worst       0\n",
       "concavity_worst            0\n",
       "compactness_worst          0\n",
       "smoothness_worst           0\n",
       "area_worst                 0\n",
       "perimeter_worst            0\n",
       "texture_worst              0\n",
       "radius_worst               0\n",
       "fractal_dimension_se       0\n",
       "symmetry_se                0\n",
       "concave points_se          0\n",
       "concavity_se               0\n",
       "compactness_se             0\n",
       "smoothness_se              0\n",
       "area_se                    0\n",
       "perimeter_se               0\n",
       "texture_se                 0\n",
       "radius_se                  0\n",
       "fractal_dimension_mean     0\n",
       "symmetry_mean              0\n",
       "concave points_mean        0\n",
       "concavity_mean             0\n",
       "compactness_mean           0\n",
       "smoothness_mean            0\n",
       "area_mean                  0\n",
       "perimeter_mean             0\n",
       "texture_mean               0\n",
       "radius_mean                0\n",
       "fractal_dimension_worst    0\n",
       "dtype: int64"
      ]
     },
     "execution_count": 10,
     "metadata": {},
     "output_type": "execute_result"
    }
   ],
   "source": [
    "### Missing data by columns in the dataset\n",
    "\n",
    "dataset.isnull().sum().sort_values(ascending = False)"
   ]
  },
  {
   "cell_type": "markdown",
   "id": "bf5cf824",
   "metadata": {
    "papermill": {
     "duration": 0.032793,
     "end_time": "2022-07-24T05:55:30.478157",
     "exception": false,
     "start_time": "2022-07-24T05:55:30.445364",
     "status": "completed"
    },
    "tags": []
   },
   "source": [
    "From the above data, it is evident that there are no missing values in the dataset."
   ]
  },
  {
   "cell_type": "code",
   "execution_count": 11,
   "id": "3a8a7b5d",
   "metadata": {
    "execution": {
     "iopub.execute_input": "2022-07-24T05:55:30.546530Z",
     "iopub.status.busy": "2022-07-24T05:55:30.546101Z",
     "iopub.status.idle": "2022-07-24T05:55:31.236541Z",
     "shell.execute_reply": "2022-07-24T05:55:31.235264Z"
    },
    "papermill": {
     "duration": 0.727603,
     "end_time": "2022-07-24T05:55:31.239243",
     "exception": false,
     "start_time": "2022-07-24T05:55:30.511640",
     "status": "completed"
    },
    "tags": []
   },
   "outputs": [
    {
     "data": {
      "text/plain": [
       "<AxesSubplot:>"
      ]
     },
     "execution_count": 11,
     "metadata": {},
     "output_type": "execute_result"
    },
    {
     "data": {
      "image/png": "[encoded data removed]",
      "text/plain": [
       "<Figure size 1800x720 with 2 Axes>"
      ]
     },
     "metadata": {
      "needs_background": "light"
     },
     "output_type": "display_data"
    }
   ],
   "source": [
    "### Visual representation of the data in the dataset\n",
    "\n",
    "missingno.matrix(dataset)"
   ]
  },
  {
   "cell_type": "code",
   "execution_count": 12,
   "id": "42fe6082",
   "metadata": {
    "execution": {
     "iopub.execute_input": "2022-07-24T05:55:31.310367Z",
     "iopub.status.busy": "2022-07-24T05:55:31.309963Z",
     "iopub.status.idle": "2022-07-24T05:55:31.401782Z",
     "shell.execute_reply": "2022-07-24T05:55:31.400601Z"
    },
    "papermill": {
     "duration": 0.130476,
     "end_time": "2022-07-24T05:55:31.404262",
     "exception": false,
     "start_time": "2022-07-24T05:55:31.273786",
     "status": "completed"
    },
    "tags": []
   },
   "outputs": [
    {
     "data": {
      "text/html": [
       "<div>\n",
       "<style scoped>\n",
       "    .dataframe tbody tr th:only-of-type {\n",
       "        vertical-align: middle;\n",
       "    }\n",
       "\n",
       "    .dataframe tbody tr th {\n",
       "        vertical-align: top;\n",
       "    }\n",
       "\n",
       "    .dataframe thead th {\n",
       "        text-align: right;\n",
       "    }\n",
       "</style>\n",
       "<table border=\"1\" class=\"dataframe\">\n",
       "  <thead>\n",
       "    <tr style=\"text-align: right;\">\n",
       "      <th></th>\n",
       "      <th>id</th>\n",
       "      <th>radius_mean</th>\n",
       "      <th>texture_mean</th>\n",
       "      <th>perimeter_mean</th>\n",
       "      <th>area_mean</th>\n",
       "      <th>smoothness_mean</th>\n",
       "      <th>compactness_mean</th>\n",
       "      <th>concavity_mean</th>\n",
       "      <th>concave points_mean</th>\n",
       "      <th>symmetry_mean</th>\n",
       "      <th>...</th>\n",
       "      <th>radius_worst</th>\n",
       "      <th>texture_worst</th>\n",
       "      <th>perimeter_worst</th>\n",
       "      <th>area_worst</th>\n",
       "      <th>smoothness_worst</th>\n",
       "      <th>compactness_worst</th>\n",
       "      <th>concavity_worst</th>\n",
       "      <th>concave points_worst</th>\n",
       "      <th>symmetry_worst</th>\n",
       "      <th>fractal_dimension_worst</th>\n",
       "    </tr>\n",
       "  </thead>\n",
       "  <tbody>\n",
       "    <tr>\n",
       "      <th>count</th>\n",
       "      <td>5.690000e+02</td>\n",
       "      <td>569.000000</td>\n",
       "      <td>569.000000</td>\n",
       "      <td>569.000000</td>\n",
       "      <td>569.000000</td>\n",
       "      <td>569.000000</td>\n",
       "      <td>569.000000</td>\n",
       "      <td>569.000000</td>\n",
       "      <td>569.000000</td>\n",
       "      <td>569.000000</td>\n",
       "      <td>...</td>\n",
       "      <td>569.000000</td>\n",
       "      <td>569.000000</td>\n",
       "      <td>569.000000</td>\n",
       "      <td>569.000000</td>\n",
       "      <td>569.000000</td>\n",
       "      <td>569.000000</td>\n",
       "      <td>569.000000</td>\n",
       "      <td>569.000000</td>\n",
       "      <td>569.000000</td>\n",
       "      <td>569.000000</td>\n",
       "    </tr>\n",
       "    <tr>\n",
       "      <th>mean</th>\n",
       "      <td>3.037183e+07</td>\n",
       "      <td>14.127292</td>\n",
       "      <td>19.289649</td>\n",
       "      <td>91.969033</td>\n",
       "      <td>654.889104</td>\n",
       "      <td>0.096360</td>\n",
       "      <td>0.104341</td>\n",
       "      <td>0.088799</td>\n",
       "      <td>0.048919</td>\n",
       "      <td>0.181162</td>\n",
       "      <td>...</td>\n",
       "      <td>16.269190</td>\n",
       "      <td>25.677223</td>\n",
       "      <td>107.261213</td>\n",
       "      <td>880.583128</td>\n",
       "      <td>0.132369</td>\n",
       "      <td>0.254265</td>\n",
       "      <td>0.272188</td>\n",
       "      <td>0.114606</td>\n",
       "      <td>0.290076</td>\n",
       "      <td>0.083946</td>\n",
       "    </tr>\n",
       "    <tr>\n",
       "      <th>std</th>\n",
       "      <td>1.250206e+08</td>\n",
       "      <td>3.524049</td>\n",
       "      <td>4.301036</td>\n",
       "      <td>24.298981</td>\n",
       "      <td>351.914129</td>\n",
       "      <td>0.014064</td>\n",
       "      <td>0.052813</td>\n",
       "      <td>0.079720</td>\n",
       "      <td>0.038803</td>\n",
       "      <td>0.027414</td>\n",
       "      <td>...</td>\n",
       "      <td>4.833242</td>\n",
       "      <td>6.146258</td>\n",
       "      <td>33.602542</td>\n",
       "      <td>569.356993</td>\n",
       "      <td>0.022832</td>\n",
       "      <td>0.157336</td>\n",
       "      <td>0.208624</td>\n",
       "      <td>0.065732</td>\n",
       "      <td>0.061867</td>\n",
       "      <td>0.018061</td>\n",
       "    </tr>\n",
       "    <tr>\n",
       "      <th>min</th>\n",
       "      <td>8.670000e+03</td>\n",
       "      <td>6.981000</td>\n",
       "      <td>9.710000</td>\n",
       "      <td>43.790000</td>\n",
       "      <td>143.500000</td>\n",
       "      <td>0.052630</td>\n",
       "      <td>0.019380</td>\n",
       "      <td>0.000000</td>\n",
       "      <td>0.000000</td>\n",
       "      <td>0.106000</td>\n",
       "      <td>...</td>\n",
       "      <td>7.930000</td>\n",
       "      <td>12.020000</td>\n",
       "      <td>50.410000</td>\n",
       "      <td>185.200000</td>\n",
       "      <td>0.071170</td>\n",
       "      <td>0.027290</td>\n",
       "      <td>0.000000</td>\n",
       "      <td>0.000000</td>\n",
       "      <td>0.156500</td>\n",
       "      <td>0.055040</td>\n",
       "    </tr>\n",
       "    <tr>\n",
       "      <th>25%</th>\n",
       "      <td>8.692180e+05</td>\n",
       "      <td>11.700000</td>\n",
       "      <td>16.170000</td>\n",
       "      <td>75.170000</td>\n",
       "      <td>420.300000</td>\n",
       "      <td>0.086370</td>\n",
       "      <td>0.064920</td>\n",
       "      <td>0.029560</td>\n",
       "      <td>0.020310</td>\n",
       "      <td>0.161900</td>\n",
       "      <td>...</td>\n",
       "      <td>13.010000</td>\n",
       "      <td>21.080000</td>\n",
       "      <td>84.110000</td>\n",
       "      <td>515.300000</td>\n",
       "      <td>0.116600</td>\n",
       "      <td>0.147200</td>\n",
       "      <td>0.114500</td>\n",
       "      <td>0.064930</td>\n",
       "      <td>0.250400</td>\n",
       "      <td>0.071460</td>\n",
       "    </tr>\n",
       "    <tr>\n",
       "      <th>50%</th>\n",
       "      <td>9.060240e+05</td>\n",
       "      <td>13.370000</td>\n",
       "      <td>18.840000</td>\n",
       "      <td>86.240000</td>\n",
       "      <td>551.100000</td>\n",
       "      <td>0.095870</td>\n",
       "      <td>0.092630</td>\n",
       "      <td>0.061540</td>\n",
       "      <td>0.033500</td>\n",
       "      <td>0.179200</td>\n",
       "      <td>...</td>\n",
       "      <td>14.970000</td>\n",
       "      <td>25.410000</td>\n",
       "      <td>97.660000</td>\n",
       "      <td>686.500000</td>\n",
       "      <td>0.131300</td>\n",
       "      <td>0.211900</td>\n",
       "      <td>0.226700</td>\n",
       "      <td>0.099930</td>\n",
       "      <td>0.282200</td>\n",
       "      <td>0.080040</td>\n",
       "    </tr>\n",
       "    <tr>\n",
       "      <th>75%</th>\n",
       "      <td>8.813129e+06</td>\n",
       "      <td>15.780000</td>\n",
       "      <td>21.800000</td>\n",
       "      <td>104.100000</td>\n",
       "      <td>782.700000</td>\n",
       "      <td>0.105300</td>\n",
       "      <td>0.130400</td>\n",
       "      <td>0.130700</td>\n",
       "      <td>0.074000</td>\n",
       "      <td>0.195700</td>\n",
       "      <td>...</td>\n",
       "      <td>18.790000</td>\n",
       "      <td>29.720000</td>\n",
       "      <td>125.400000</td>\n",
       "      <td>1084.000000</td>\n",
       "      <td>0.146000</td>\n",
       "      <td>0.339100</td>\n",
       "      <td>0.382900</td>\n",
       "      <td>0.161400</td>\n",
       "      <td>0.317900</td>\n",
       "      <td>0.092080</td>\n",
       "    </tr>\n",
       "    <tr>\n",
       "      <th>max</th>\n",
       "      <td>9.113205e+08</td>\n",
       "      <td>28.110000</td>\n",
       "      <td>39.280000</td>\n",
       "      <td>188.500000</td>\n",
       "      <td>2501.000000</td>\n",
       "      <td>0.163400</td>\n",
       "      <td>0.345400</td>\n",
       "      <td>0.426800</td>\n",
       "      <td>0.201200</td>\n",
       "      <td>0.304000</td>\n",
       "      <td>...</td>\n",
       "      <td>36.040000</td>\n",
       "      <td>49.540000</td>\n",
       "      <td>251.200000</td>\n",
       "      <td>4254.000000</td>\n",
       "      <td>0.222600</td>\n",
       "      <td>1.058000</td>\n",
       "      <td>1.252000</td>\n",
       "      <td>0.291000</td>\n",
       "      <td>0.663800</td>\n",
       "      <td>0.207500</td>\n",
       "    </tr>\n",
       "  </tbody>\n",
       "</table>\n",
       "<p>8 rows × 31 columns</p>\n",
       "</div>"
      ],
      "text/plain": [
       "                 id  radius_mean  texture_mean  perimeter_mean    area_mean  \\\n",
       "count  5.690000e+02   569.000000    569.000000      569.000000   569.000000   \n",
       "mean   3.037183e+07    14.127292     19.289649       91.969033   654.889104   \n",
       "std    1.250206e+08     3.524049      4.301036       24.298981   351.914129   \n",
       "min    8.670000e+03     6.981000      9.710000       43.790000   143.500000   \n",
       "25%    8.692180e+05    11.700000     16.170000       75.170000   420.300000   \n",
       "50%    9.060240e+05    13.370000     18.840000       86.240000   551.100000   \n",
       "75%    8.813129e+06    15.780000     21.800000      104.100000   782.700000   \n",
       "max    9.113205e+08    28.110000     39.280000      188.500000  2501.000000   \n",
       "\n",
       "       smoothness_mean  compactness_mean  concavity_mean  concave points_mean  \\\n",
       "count       569.000000        569.000000      569.000000           569.000000   \n",
       "mean          0.096360          0.104341        0.088799             0.048919   \n",
       "std           0.014064          0.052813        0.079720             0.038803   \n",
       "min           0.052630          0.019380        0.000000             0.000000   \n",
       "25%           0.086370          0.064920        0.029560             0.020310   \n",
       "50%           0.095870          0.092630        0.061540             0.033500   \n",
       "75%           0.105300          0.130400        0.130700             0.074000   \n",
       "max           0.163400          0.345400        0.426800             0.201200   \n",
       "\n",
       "       symmetry_mean  ...  radius_worst  texture_worst  perimeter_worst  \\\n",
       "count     569.000000  ...    569.000000     569.000000       569.000000   \n",
       "mean        0.181162  ...     16.269190      25.677223       107.261213   \n",
       "std         0.027414  ...      4.833242       6.146258        33.602542   \n",
       "min         0.106000  ...      7.930000      12.020000        50.410000   \n",
       "25%         0.161900  ...     13.010000      21.080000        84.110000   \n",
       "50%         0.179200  ...     14.970000      25.410000        97.660000   \n",
       "75%         0.195700  ...     18.790000      29.720000       125.400000   \n",
       "max         0.304000  ...     36.040000      49.540000       251.200000   \n",
       "\n",
       "        area_worst  smoothness_worst  compactness_worst  concavity_worst  \\\n",
       "count   569.000000        569.000000         569.000000       569.000000   \n",
       "mean    880.583128          0.132369           0.254265         0.272188   \n",
       "std     569.356993          0.022832           0.157336         0.208624   \n",
       "min     185.200000          0.071170           0.027290         0.000000   \n",
       "25%     515.300000          0.116600           0.147200         0.114500   \n",
       "50%     686.500000          0.131300           0.211900         0.226700   \n",
       "75%    1084.000000          0.146000           0.339100         0.382900   \n",
       "max    4254.000000          0.222600           1.058000         1.252000   \n",
       "\n",
       "       concave points_worst  symmetry_worst  fractal_dimension_worst  \n",
       "count            569.000000      569.000000               569.000000  \n",
       "mean               0.114606        0.290076                 0.083946  \n",
       "std                0.065732        0.061867                 0.018061  \n",
       "min                0.000000        0.156500                 0.055040  \n",
       "25%                0.064930        0.250400                 0.071460  \n",
       "50%                0.099930        0.282200                 0.080040  \n",
       "75%                0.161400        0.317900                 0.092080  \n",
       "max                0.291000        0.663800                 0.207500  \n",
       "\n",
       "[8 rows x 31 columns]"
      ]
     },
     "execution_count": 12,
     "metadata": {},
     "output_type": "execute_result"
    }
   ],
   "source": [
    "### Summary statistics of the numerical columns in the dataset\n",
    "\n",
    "dataset.describe()"
   ]
  },
  {
   "cell_type": "markdown",
   "id": "2cfaa534",
   "metadata": {
    "papermill": {
     "duration": 0.034701,
     "end_time": "2022-07-24T05:55:31.473606",
     "exception": false,
     "start_time": "2022-07-24T05:55:31.438905",
     "status": "completed"
    },
    "tags": []
   },
   "source": [
    "#### 3.2 Drop unnecessary columns "
   ]
  },
  {
   "cell_type": "markdown",
   "id": "76406276",
   "metadata": {
    "papermill": {
     "duration": 0.034851,
     "end_time": "2022-07-24T05:55:31.543247",
     "exception": false,
     "start_time": "2022-07-24T05:55:31.508396",
     "status": "completed"
    },
    "tags": []
   },
   "source": [
    "From the given dataset, we can see that the column id is a counter variable. Hence, we will drop the column - id."
   ]
  },
  {
   "cell_type": "code",
   "execution_count": 13,
   "id": "5107bdcf",
   "metadata": {
    "execution": {
     "iopub.execute_input": "2022-07-24T05:55:31.615290Z",
     "iopub.status.busy": "2022-07-24T05:55:31.614586Z",
     "iopub.status.idle": "2022-07-24T05:55:31.652055Z",
     "shell.execute_reply": "2022-07-24T05:55:31.650903Z"
    },
    "papermill": {
     "duration": 0.076337,
     "end_time": "2022-07-24T05:55:31.654435",
     "exception": false,
     "start_time": "2022-07-24T05:55:31.578098",
     "status": "completed"
    },
    "tags": []
   },
   "outputs": [
    {
     "data": {
      "text/html": [
       "<div>\n",
       "<style scoped>\n",
       "    .dataframe tbody tr th:only-of-type {\n",
       "        vertical-align: middle;\n",
       "    }\n",
       "\n",
       "    .dataframe tbody tr th {\n",
       "        vertical-align: top;\n",
       "    }\n",
       "\n",
       "    .dataframe thead th {\n",
       "        text-align: right;\n",
       "    }\n",
       "</style>\n",
       "<table border=\"1\" class=\"dataframe\">\n",
       "  <thead>\n",
       "    <tr style=\"text-align: right;\">\n",
       "      <th></th>\n",
       "      <th>diagnosis</th>\n",
       "      <th>radius_mean</th>\n",
       "      <th>texture_mean</th>\n",
       "      <th>perimeter_mean</th>\n",
       "      <th>area_mean</th>\n",
       "      <th>smoothness_mean</th>\n",
       "      <th>compactness_mean</th>\n",
       "      <th>concavity_mean</th>\n",
       "      <th>concave points_mean</th>\n",
       "      <th>symmetry_mean</th>\n",
       "      <th>...</th>\n",
       "      <th>radius_worst</th>\n",
       "      <th>texture_worst</th>\n",
       "      <th>perimeter_worst</th>\n",
       "      <th>area_worst</th>\n",
       "      <th>smoothness_worst</th>\n",
       "      <th>compactness_worst</th>\n",
       "      <th>concavity_worst</th>\n",
       "      <th>concave points_worst</th>\n",
       "      <th>symmetry_worst</th>\n",
       "      <th>fractal_dimension_worst</th>\n",
       "    </tr>\n",
       "  </thead>\n",
       "  <tbody>\n",
       "    <tr>\n",
       "      <th>0</th>\n",
       "      <td>M</td>\n",
       "      <td>17.99</td>\n",
       "      <td>10.38</td>\n",
       "      <td>122.80</td>\n",
       "      <td>1001.0</td>\n",
       "      <td>0.11840</td>\n",
       "      <td>0.27760</td>\n",
       "      <td>0.30010</td>\n",
       "      <td>0.14710</td>\n",
       "      <td>0.2419</td>\n",
       "      <td>...</td>\n",
       "      <td>25.38</td>\n",
       "      <td>17.33</td>\n",
       "      <td>184.60</td>\n",
       "      <td>2019.0</td>\n",
       "      <td>0.1622</td>\n",
       "      <td>0.6656</td>\n",
       "      <td>0.7119</td>\n",
       "      <td>0.2654</td>\n",
       "      <td>0.4601</td>\n",
       "      <td>0.11890</td>\n",
       "    </tr>\n",
       "    <tr>\n",
       "      <th>1</th>\n",
       "      <td>M</td>\n",
       "      <td>20.57</td>\n",
       "      <td>17.77</td>\n",
       "      <td>132.90</td>\n",
       "      <td>1326.0</td>\n",
       "      <td>0.08474</td>\n",
       "      <td>0.07864</td>\n",
       "      <td>0.08690</td>\n",
       "      <td>0.07017</td>\n",
       "      <td>0.1812</td>\n",
       "      <td>...</td>\n",
       "      <td>24.99</td>\n",
       "      <td>23.41</td>\n",
       "      <td>158.80</td>\n",
       "      <td>1956.0</td>\n",
       "      <td>0.1238</td>\n",
       "      <td>0.1866</td>\n",
       "      <td>0.2416</td>\n",
       "      <td>0.1860</td>\n",
       "      <td>0.2750</td>\n",
       "      <td>0.08902</td>\n",
       "    </tr>\n",
       "    <tr>\n",
       "      <th>2</th>\n",
       "      <td>M</td>\n",
       "      <td>19.69</td>\n",
       "      <td>21.25</td>\n",
       "      <td>130.00</td>\n",
       "      <td>1203.0</td>\n",
       "      <td>0.10960</td>\n",
       "      <td>0.15990</td>\n",
       "      <td>0.19740</td>\n",
       "      <td>0.12790</td>\n",
       "      <td>0.2069</td>\n",
       "      <td>...</td>\n",
       "      <td>23.57</td>\n",
       "      <td>25.53</td>\n",
       "      <td>152.50</td>\n",
       "      <td>1709.0</td>\n",
       "      <td>0.1444</td>\n",
       "      <td>0.4245</td>\n",
       "      <td>0.4504</td>\n",
       "      <td>0.2430</td>\n",
       "      <td>0.3613</td>\n",
       "      <td>0.08758</td>\n",
       "    </tr>\n",
       "    <tr>\n",
       "      <th>3</th>\n",
       "      <td>M</td>\n",
       "      <td>11.42</td>\n",
       "      <td>20.38</td>\n",
       "      <td>77.58</td>\n",
       "      <td>386.1</td>\n",
       "      <td>0.14250</td>\n",
       "      <td>0.28390</td>\n",
       "      <td>0.24140</td>\n",
       "      <td>0.10520</td>\n",
       "      <td>0.2597</td>\n",
       "      <td>...</td>\n",
       "      <td>14.91</td>\n",
       "      <td>26.50</td>\n",
       "      <td>98.87</td>\n",
       "      <td>567.7</td>\n",
       "      <td>0.2098</td>\n",
       "      <td>0.8663</td>\n",
       "      <td>0.6869</td>\n",
       "      <td>0.2575</td>\n",
       "      <td>0.6638</td>\n",
       "      <td>0.17300</td>\n",
       "    </tr>\n",
       "    <tr>\n",
       "      <th>4</th>\n",
       "      <td>M</td>\n",
       "      <td>20.29</td>\n",
       "      <td>14.34</td>\n",
       "      <td>135.10</td>\n",
       "      <td>1297.0</td>\n",
       "      <td>0.10030</td>\n",
       "      <td>0.13280</td>\n",
       "      <td>0.19800</td>\n",
       "      <td>0.10430</td>\n",
       "      <td>0.1809</td>\n",
       "      <td>...</td>\n",
       "      <td>22.54</td>\n",
       "      <td>16.67</td>\n",
       "      <td>152.20</td>\n",
       "      <td>1575.0</td>\n",
       "      <td>0.1374</td>\n",
       "      <td>0.2050</td>\n",
       "      <td>0.4000</td>\n",
       "      <td>0.1625</td>\n",
       "      <td>0.2364</td>\n",
       "      <td>0.07678</td>\n",
       "    </tr>\n",
       "    <tr>\n",
       "      <th>5</th>\n",
       "      <td>M</td>\n",
       "      <td>12.45</td>\n",
       "      <td>15.70</td>\n",
       "      <td>82.57</td>\n",
       "      <td>477.1</td>\n",
       "      <td>0.12780</td>\n",
       "      <td>0.17000</td>\n",
       "      <td>0.15780</td>\n",
       "      <td>0.08089</td>\n",
       "      <td>0.2087</td>\n",
       "      <td>...</td>\n",
       "      <td>15.47</td>\n",
       "      <td>23.75</td>\n",
       "      <td>103.40</td>\n",
       "      <td>741.6</td>\n",
       "      <td>0.1791</td>\n",
       "      <td>0.5249</td>\n",
       "      <td>0.5355</td>\n",
       "      <td>0.1741</td>\n",
       "      <td>0.3985</td>\n",
       "      <td>0.12440</td>\n",
       "    </tr>\n",
       "    <tr>\n",
       "      <th>6</th>\n",
       "      <td>M</td>\n",
       "      <td>18.25</td>\n",
       "      <td>19.98</td>\n",
       "      <td>119.60</td>\n",
       "      <td>1040.0</td>\n",
       "      <td>0.09463</td>\n",
       "      <td>0.10900</td>\n",
       "      <td>0.11270</td>\n",
       "      <td>0.07400</td>\n",
       "      <td>0.1794</td>\n",
       "      <td>...</td>\n",
       "      <td>22.88</td>\n",
       "      <td>27.66</td>\n",
       "      <td>153.20</td>\n",
       "      <td>1606.0</td>\n",
       "      <td>0.1442</td>\n",
       "      <td>0.2576</td>\n",
       "      <td>0.3784</td>\n",
       "      <td>0.1932</td>\n",
       "      <td>0.3063</td>\n",
       "      <td>0.08368</td>\n",
       "    </tr>\n",
       "    <tr>\n",
       "      <th>7</th>\n",
       "      <td>M</td>\n",
       "      <td>13.71</td>\n",
       "      <td>20.83</td>\n",
       "      <td>90.20</td>\n",
       "      <td>577.9</td>\n",
       "      <td>0.11890</td>\n",
       "      <td>0.16450</td>\n",
       "      <td>0.09366</td>\n",
       "      <td>0.05985</td>\n",
       "      <td>0.2196</td>\n",
       "      <td>...</td>\n",
       "      <td>17.06</td>\n",
       "      <td>28.14</td>\n",
       "      <td>110.60</td>\n",
       "      <td>897.0</td>\n",
       "      <td>0.1654</td>\n",
       "      <td>0.3682</td>\n",
       "      <td>0.2678</td>\n",
       "      <td>0.1556</td>\n",
       "      <td>0.3196</td>\n",
       "      <td>0.11510</td>\n",
       "    </tr>\n",
       "    <tr>\n",
       "      <th>8</th>\n",
       "      <td>M</td>\n",
       "      <td>13.00</td>\n",
       "      <td>21.82</td>\n",
       "      <td>87.50</td>\n",
       "      <td>519.8</td>\n",
       "      <td>0.12730</td>\n",
       "      <td>0.19320</td>\n",
       "      <td>0.18590</td>\n",
       "      <td>0.09353</td>\n",
       "      <td>0.2350</td>\n",
       "      <td>...</td>\n",
       "      <td>15.49</td>\n",
       "      <td>30.73</td>\n",
       "      <td>106.20</td>\n",
       "      <td>739.3</td>\n",
       "      <td>0.1703</td>\n",
       "      <td>0.5401</td>\n",
       "      <td>0.5390</td>\n",
       "      <td>0.2060</td>\n",
       "      <td>0.4378</td>\n",
       "      <td>0.10720</td>\n",
       "    </tr>\n",
       "    <tr>\n",
       "      <th>9</th>\n",
       "      <td>M</td>\n",
       "      <td>12.46</td>\n",
       "      <td>24.04</td>\n",
       "      <td>83.97</td>\n",
       "      <td>475.9</td>\n",
       "      <td>0.11860</td>\n",
       "      <td>0.23960</td>\n",
       "      <td>0.22730</td>\n",
       "      <td>0.08543</td>\n",
       "      <td>0.2030</td>\n",
       "      <td>...</td>\n",
       "      <td>15.09</td>\n",
       "      <td>40.68</td>\n",
       "      <td>97.65</td>\n",
       "      <td>711.4</td>\n",
       "      <td>0.1853</td>\n",
       "      <td>1.0580</td>\n",
       "      <td>1.1050</td>\n",
       "      <td>0.2210</td>\n",
       "      <td>0.4366</td>\n",
       "      <td>0.20750</td>\n",
       "    </tr>\n",
       "  </tbody>\n",
       "</table>\n",
       "<p>10 rows × 31 columns</p>\n",
       "</div>"
      ],
      "text/plain": [
       "  diagnosis  radius_mean  texture_mean  perimeter_mean  area_mean  \\\n",
       "0         M        17.99         10.38          122.80     1001.0   \n",
       "1         M        20.57         17.77          132.90     1326.0   \n",
       "2         M        19.69         21.25          130.00     1203.0   \n",
       "3         M        11.42         20.38           77.58      386.1   \n",
       "4         M        20.29         14.34          135.10     1297.0   \n",
       "5         M        12.45         15.70           82.57      477.1   \n",
       "6         M        18.25         19.98          119.60     1040.0   \n",
       "7         M        13.71         20.83           90.20      577.9   \n",
       "8         M        13.00         21.82           87.50      519.8   \n",
       "9         M        12.46         24.04           83.97      475.9   \n",
       "\n",
       "   smoothness_mean  compactness_mean  concavity_mean  concave points_mean  \\\n",
       "0          0.11840           0.27760         0.30010              0.14710   \n",
       "1          0.08474           0.07864         0.08690              0.07017   \n",
       "2          0.10960           0.15990         0.19740              0.12790   \n",
       "3          0.14250           0.28390         0.24140              0.10520   \n",
       "4          0.10030           0.13280         0.19800              0.10430   \n",
       "5          0.12780           0.17000         0.15780              0.08089   \n",
       "6          0.09463           0.10900         0.11270              0.07400   \n",
       "7          0.11890           0.16450         0.09366              0.05985   \n",
       "8          0.12730           0.19320         0.18590              0.09353   \n",
       "9          0.11860           0.23960         0.22730              0.08543   \n",
       "\n",
       "   symmetry_mean  ...  radius_worst  texture_worst  perimeter_worst  \\\n",
       "0         0.2419  ...         25.38          17.33           184.60   \n",
       "1         0.1812  ...         24.99          23.41           158.80   \n",
       "2         0.2069  ...         23.57          25.53           152.50   \n",
       "3         0.2597  ...         14.91          26.50            98.87   \n",
       "4         0.1809  ...         22.54          16.67           152.20   \n",
       "5         0.2087  ...         15.47          23.75           103.40   \n",
       "6         0.1794  ...         22.88          27.66           153.20   \n",
       "7         0.2196  ...         17.06          28.14           110.60   \n",
       "8         0.2350  ...         15.49          30.73           106.20   \n",
       "9         0.2030  ...         15.09          40.68            97.65   \n",
       "\n",
       "   area_worst  smoothness_worst  compactness_worst  concavity_worst  \\\n",
       "0      2019.0            0.1622             0.6656           0.7119   \n",
       "1      1956.0            0.1238             0.1866           0.2416   \n",
       "2      1709.0            0.1444             0.4245           0.4504   \n",
       "3       567.7            0.2098             0.8663           0.6869   \n",
       "4      1575.0            0.1374             0.2050           0.4000   \n",
       "5       741.6            0.1791             0.5249           0.5355   \n",
       "6      1606.0            0.1442             0.2576           0.3784   \n",
       "7       897.0            0.1654             0.3682           0.2678   \n",
       "8       739.3            0.1703             0.5401           0.5390   \n",
       "9       711.4            0.1853             1.0580           1.1050   \n",
       "\n",
       "   concave points_worst  symmetry_worst  fractal_dimension_worst  \n",
       "0                0.2654          0.4601                  0.11890  \n",
       "1                0.1860          0.2750                  0.08902  \n",
       "2                0.2430          0.3613                  0.08758  \n",
       "3                0.2575          0.6638                  0.17300  \n",
       "4                0.1625          0.2364                  0.07678  \n",
       "5                0.1741          0.3985                  0.12440  \n",
       "6                0.1932          0.3063                  0.08368  \n",
       "7                0.1556          0.3196                  0.11510  \n",
       "8                0.2060          0.4378                  0.10720  \n",
       "9                0.2210          0.4366                  0.20750  \n",
       "\n",
       "[10 rows x 31 columns]"
      ]
     },
     "execution_count": 13,
     "metadata": {},
     "output_type": "execute_result"
    }
   ],
   "source": [
    "### Drop the column - id\n",
    "\n",
    "dataset.drop(['id'], axis = 1, inplace = True)\n",
    "dataset.head(10)"
   ]
  },
  {
   "cell_type": "markdown",
   "id": "1fa73603",
   "metadata": {
    "papermill": {
     "duration": 0.035025,
     "end_time": "2022-07-24T05:55:31.724674",
     "exception": false,
     "start_time": "2022-07-24T05:55:31.689649",
     "status": "completed"
    },
    "tags": []
   },
   "source": [
    "#### 3.3 Data Transformation"
   ]
  },
  {
   "cell_type": "markdown",
   "id": "f0941975",
   "metadata": {
    "papermill": {
     "duration": 0.035163,
     "end_time": "2022-07-24T05:55:31.795705",
     "exception": false,
     "start_time": "2022-07-24T05:55:31.760542",
     "status": "completed"
    },
    "tags": []
   },
   "source": [
    "In this section, we will transform the data using min max scaling. Min-Max scaling also known as min-max scaling or min-max normalization, rescaling is the simplest method and consists in rescaling the range of features to scale the range in [0, 1] or [−1, 1]. Selecting the target range depends on the nature of the data.\n",
    "\n",
    "Here, we will scale the data to a range of [0, 1]. "
   ]
  },
  {
   "cell_type": "code",
   "execution_count": 14,
   "id": "7eec2ed7",
   "metadata": {
    "execution": {
     "iopub.execute_input": "2022-07-24T05:55:31.870184Z",
     "iopub.status.busy": "2022-07-24T05:55:31.869357Z",
     "iopub.status.idle": "2022-07-24T05:55:31.875853Z",
     "shell.execute_reply": "2022-07-24T05:55:31.874955Z"
    },
    "papermill": {
     "duration": 0.046856,
     "end_time": "2022-07-24T05:55:31.878184",
     "exception": false,
     "start_time": "2022-07-24T05:55:31.831328",
     "status": "completed"
    },
    "tags": []
   },
   "outputs": [],
   "source": [
    "### A function to perform min-max scaling\n",
    "\n",
    "def min_max_scaling(dataset, column):\n",
    "    data = list(dataset[column])\n",
    "    new_data = [(value - min(data))/(max(data) - min(data)) for value in data]\n",
    "    dataset[column] = new_data"
   ]
  },
  {
   "cell_type": "code",
   "execution_count": 15,
   "id": "82ed4341",
   "metadata": {
    "execution": {
     "iopub.execute_input": "2022-07-24T05:55:31.952050Z",
     "iopub.status.busy": "2022-07-24T05:55:31.951258Z",
     "iopub.status.idle": "2022-07-24T05:55:32.462973Z",
     "shell.execute_reply": "2022-07-24T05:55:32.461870Z"
    },
    "papermill": {
     "duration": 0.551502,
     "end_time": "2022-07-24T05:55:32.465591",
     "exception": false,
     "start_time": "2022-07-24T05:55:31.914089",
     "status": "completed"
    },
    "tags": []
   },
   "outputs": [
    {
     "data": {
      "text/html": [
       "<div>\n",
       "<style scoped>\n",
       "    .dataframe tbody tr th:only-of-type {\n",
       "        vertical-align: middle;\n",
       "    }\n",
       "\n",
       "    .dataframe tbody tr th {\n",
       "        vertical-align: top;\n",
       "    }\n",
       "\n",
       "    .dataframe thead th {\n",
       "        text-align: right;\n",
       "    }\n",
       "</style>\n",
       "<table border=\"1\" class=\"dataframe\">\n",
       "  <thead>\n",
       "    <tr style=\"text-align: right;\">\n",
       "      <th></th>\n",
       "      <th>diagnosis</th>\n",
       "      <th>radius_mean</th>\n",
       "      <th>texture_mean</th>\n",
       "      <th>perimeter_mean</th>\n",
       "      <th>area_mean</th>\n",
       "      <th>smoothness_mean</th>\n",
       "      <th>compactness_mean</th>\n",
       "      <th>concavity_mean</th>\n",
       "      <th>concave points_mean</th>\n",
       "      <th>symmetry_mean</th>\n",
       "      <th>...</th>\n",
       "      <th>radius_worst</th>\n",
       "      <th>texture_worst</th>\n",
       "      <th>perimeter_worst</th>\n",
       "      <th>area_worst</th>\n",
       "      <th>smoothness_worst</th>\n",
       "      <th>compactness_worst</th>\n",
       "      <th>concavity_worst</th>\n",
       "      <th>concave points_worst</th>\n",
       "      <th>symmetry_worst</th>\n",
       "      <th>fractal_dimension_worst</th>\n",
       "    </tr>\n",
       "  </thead>\n",
       "  <tbody>\n",
       "    <tr>\n",
       "      <th>0</th>\n",
       "      <td>M</td>\n",
       "      <td>0.521037</td>\n",
       "      <td>0.022658</td>\n",
       "      <td>0.545989</td>\n",
       "      <td>0.363733</td>\n",
       "      <td>0.593753</td>\n",
       "      <td>0.792037</td>\n",
       "      <td>0.703140</td>\n",
       "      <td>0.731113</td>\n",
       "      <td>0.686364</td>\n",
       "      <td>...</td>\n",
       "      <td>0.620776</td>\n",
       "      <td>0.141525</td>\n",
       "      <td>0.668310</td>\n",
       "      <td>0.450698</td>\n",
       "      <td>0.601136</td>\n",
       "      <td>0.619292</td>\n",
       "      <td>0.568610</td>\n",
       "      <td>0.912027</td>\n",
       "      <td>0.598462</td>\n",
       "      <td>0.418864</td>\n",
       "    </tr>\n",
       "    <tr>\n",
       "      <th>1</th>\n",
       "      <td>M</td>\n",
       "      <td>0.643144</td>\n",
       "      <td>0.272574</td>\n",
       "      <td>0.615783</td>\n",
       "      <td>0.501591</td>\n",
       "      <td>0.289880</td>\n",
       "      <td>0.181768</td>\n",
       "      <td>0.203608</td>\n",
       "      <td>0.348757</td>\n",
       "      <td>0.379798</td>\n",
       "      <td>...</td>\n",
       "      <td>0.606901</td>\n",
       "      <td>0.303571</td>\n",
       "      <td>0.539818</td>\n",
       "      <td>0.435214</td>\n",
       "      <td>0.347553</td>\n",
       "      <td>0.154563</td>\n",
       "      <td>0.192971</td>\n",
       "      <td>0.639175</td>\n",
       "      <td>0.233590</td>\n",
       "      <td>0.222878</td>\n",
       "    </tr>\n",
       "    <tr>\n",
       "      <th>2</th>\n",
       "      <td>M</td>\n",
       "      <td>0.601496</td>\n",
       "      <td>0.390260</td>\n",
       "      <td>0.595743</td>\n",
       "      <td>0.449417</td>\n",
       "      <td>0.514309</td>\n",
       "      <td>0.431017</td>\n",
       "      <td>0.462512</td>\n",
       "      <td>0.635686</td>\n",
       "      <td>0.509596</td>\n",
       "      <td>...</td>\n",
       "      <td>0.556386</td>\n",
       "      <td>0.360075</td>\n",
       "      <td>0.508442</td>\n",
       "      <td>0.374508</td>\n",
       "      <td>0.483590</td>\n",
       "      <td>0.385375</td>\n",
       "      <td>0.359744</td>\n",
       "      <td>0.835052</td>\n",
       "      <td>0.403706</td>\n",
       "      <td>0.213433</td>\n",
       "    </tr>\n",
       "    <tr>\n",
       "      <th>3</th>\n",
       "      <td>M</td>\n",
       "      <td>0.210090</td>\n",
       "      <td>0.360839</td>\n",
       "      <td>0.233501</td>\n",
       "      <td>0.102906</td>\n",
       "      <td>0.811321</td>\n",
       "      <td>0.811361</td>\n",
       "      <td>0.565604</td>\n",
       "      <td>0.522863</td>\n",
       "      <td>0.776263</td>\n",
       "      <td>...</td>\n",
       "      <td>0.248310</td>\n",
       "      <td>0.385928</td>\n",
       "      <td>0.241347</td>\n",
       "      <td>0.094008</td>\n",
       "      <td>0.915472</td>\n",
       "      <td>0.814012</td>\n",
       "      <td>0.548642</td>\n",
       "      <td>0.884880</td>\n",
       "      <td>1.000000</td>\n",
       "      <td>0.773711</td>\n",
       "    </tr>\n",
       "    <tr>\n",
       "      <th>4</th>\n",
       "      <td>M</td>\n",
       "      <td>0.629893</td>\n",
       "      <td>0.156578</td>\n",
       "      <td>0.630986</td>\n",
       "      <td>0.489290</td>\n",
       "      <td>0.430351</td>\n",
       "      <td>0.347893</td>\n",
       "      <td>0.463918</td>\n",
       "      <td>0.518390</td>\n",
       "      <td>0.378283</td>\n",
       "      <td>...</td>\n",
       "      <td>0.519744</td>\n",
       "      <td>0.123934</td>\n",
       "      <td>0.506948</td>\n",
       "      <td>0.341575</td>\n",
       "      <td>0.437364</td>\n",
       "      <td>0.172415</td>\n",
       "      <td>0.319489</td>\n",
       "      <td>0.558419</td>\n",
       "      <td>0.157500</td>\n",
       "      <td>0.142595</td>\n",
       "    </tr>\n",
       "    <tr>\n",
       "      <th>...</th>\n",
       "      <td>...</td>\n",
       "      <td>...</td>\n",
       "      <td>...</td>\n",
       "      <td>...</td>\n",
       "      <td>...</td>\n",
       "      <td>...</td>\n",
       "      <td>...</td>\n",
       "      <td>...</td>\n",
       "      <td>...</td>\n",
       "      <td>...</td>\n",
       "      <td>...</td>\n",
       "      <td>...</td>\n",
       "      <td>...</td>\n",
       "      <td>...</td>\n",
       "      <td>...</td>\n",
       "      <td>...</td>\n",
       "      <td>...</td>\n",
       "      <td>...</td>\n",
       "      <td>...</td>\n",
       "      <td>...</td>\n",
       "      <td>...</td>\n",
       "    </tr>\n",
       "    <tr>\n",
       "      <th>564</th>\n",
       "      <td>M</td>\n",
       "      <td>0.690000</td>\n",
       "      <td>0.428813</td>\n",
       "      <td>0.678668</td>\n",
       "      <td>0.566490</td>\n",
       "      <td>0.526948</td>\n",
       "      <td>0.296055</td>\n",
       "      <td>0.571462</td>\n",
       "      <td>0.690358</td>\n",
       "      <td>0.336364</td>\n",
       "      <td>...</td>\n",
       "      <td>0.623266</td>\n",
       "      <td>0.383262</td>\n",
       "      <td>0.576174</td>\n",
       "      <td>0.452664</td>\n",
       "      <td>0.461137</td>\n",
       "      <td>0.178527</td>\n",
       "      <td>0.328035</td>\n",
       "      <td>0.761512</td>\n",
       "      <td>0.097575</td>\n",
       "      <td>0.105667</td>\n",
       "    </tr>\n",
       "    <tr>\n",
       "      <th>565</th>\n",
       "      <td>M</td>\n",
       "      <td>0.622320</td>\n",
       "      <td>0.626987</td>\n",
       "      <td>0.604036</td>\n",
       "      <td>0.474019</td>\n",
       "      <td>0.407782</td>\n",
       "      <td>0.257714</td>\n",
       "      <td>0.337395</td>\n",
       "      <td>0.486630</td>\n",
       "      <td>0.349495</td>\n",
       "      <td>...</td>\n",
       "      <td>0.560655</td>\n",
       "      <td>0.699094</td>\n",
       "      <td>0.520892</td>\n",
       "      <td>0.379915</td>\n",
       "      <td>0.300007</td>\n",
       "      <td>0.159997</td>\n",
       "      <td>0.256789</td>\n",
       "      <td>0.559450</td>\n",
       "      <td>0.198502</td>\n",
       "      <td>0.074315</td>\n",
       "    </tr>\n",
       "    <tr>\n",
       "      <th>566</th>\n",
       "      <td>M</td>\n",
       "      <td>0.455251</td>\n",
       "      <td>0.621238</td>\n",
       "      <td>0.445788</td>\n",
       "      <td>0.303118</td>\n",
       "      <td>0.288165</td>\n",
       "      <td>0.254340</td>\n",
       "      <td>0.216753</td>\n",
       "      <td>0.263519</td>\n",
       "      <td>0.267677</td>\n",
       "      <td>...</td>\n",
       "      <td>0.393099</td>\n",
       "      <td>0.589019</td>\n",
       "      <td>0.379949</td>\n",
       "      <td>0.230731</td>\n",
       "      <td>0.282177</td>\n",
       "      <td>0.273705</td>\n",
       "      <td>0.271805</td>\n",
       "      <td>0.487285</td>\n",
       "      <td>0.128721</td>\n",
       "      <td>0.151909</td>\n",
       "    </tr>\n",
       "    <tr>\n",
       "      <th>567</th>\n",
       "      <td>M</td>\n",
       "      <td>0.644564</td>\n",
       "      <td>0.663510</td>\n",
       "      <td>0.665538</td>\n",
       "      <td>0.475716</td>\n",
       "      <td>0.588336</td>\n",
       "      <td>0.790197</td>\n",
       "      <td>0.823336</td>\n",
       "      <td>0.755467</td>\n",
       "      <td>0.675253</td>\n",
       "      <td>...</td>\n",
       "      <td>0.633582</td>\n",
       "      <td>0.730277</td>\n",
       "      <td>0.668310</td>\n",
       "      <td>0.402035</td>\n",
       "      <td>0.619626</td>\n",
       "      <td>0.815758</td>\n",
       "      <td>0.749760</td>\n",
       "      <td>0.910653</td>\n",
       "      <td>0.497142</td>\n",
       "      <td>0.452315</td>\n",
       "    </tr>\n",
       "    <tr>\n",
       "      <th>568</th>\n",
       "      <td>B</td>\n",
       "      <td>0.036869</td>\n",
       "      <td>0.501522</td>\n",
       "      <td>0.028540</td>\n",
       "      <td>0.015907</td>\n",
       "      <td>0.000000</td>\n",
       "      <td>0.074351</td>\n",
       "      <td>0.000000</td>\n",
       "      <td>0.000000</td>\n",
       "      <td>0.266162</td>\n",
       "      <td>...</td>\n",
       "      <td>0.054287</td>\n",
       "      <td>0.489072</td>\n",
       "      <td>0.043578</td>\n",
       "      <td>0.020497</td>\n",
       "      <td>0.124084</td>\n",
       "      <td>0.036043</td>\n",
       "      <td>0.000000</td>\n",
       "      <td>0.000000</td>\n",
       "      <td>0.257441</td>\n",
       "      <td>0.100682</td>\n",
       "    </tr>\n",
       "  </tbody>\n",
       "</table>\n",
       "<p>569 rows × 31 columns</p>\n",
       "</div>"
      ],
      "text/plain": [
       "    diagnosis  radius_mean  texture_mean  perimeter_mean  area_mean  \\\n",
       "0           M     0.521037      0.022658        0.545989   0.363733   \n",
       "1           M     0.643144      0.272574        0.615783   0.501591   \n",
       "2           M     0.601496      0.390260        0.595743   0.449417   \n",
       "3           M     0.210090      0.360839        0.233501   0.102906   \n",
       "4           M     0.629893      0.156578        0.630986   0.489290   \n",
       "..        ...          ...           ...             ...        ...   \n",
       "564         M     0.690000      0.428813        0.678668   0.566490   \n",
       "565         M     0.622320      0.626987        0.604036   0.474019   \n",
       "566         M     0.455251      0.621238        0.445788   0.303118   \n",
       "567         M     0.644564      0.663510        0.665538   0.475716   \n",
       "568         B     0.036869      0.501522        0.028540   0.015907   \n",
       "\n",
       "     smoothness_mean  compactness_mean  concavity_mean  concave points_mean  \\\n",
       "0           0.593753          0.792037        0.703140             0.731113   \n",
       "1           0.289880          0.181768        0.203608             0.348757   \n",
       "2           0.514309          0.431017        0.462512             0.635686   \n",
       "3           0.811321          0.811361        0.565604             0.522863   \n",
       "4           0.430351          0.347893        0.463918             0.518390   \n",
       "..               ...               ...             ...                  ...   \n",
       "564         0.526948          0.296055        0.571462             0.690358   \n",
       "565         0.407782          0.257714        0.337395             0.486630   \n",
       "566         0.288165          0.254340        0.216753             0.263519   \n",
       "567         0.588336          0.790197        0.823336             0.755467   \n",
       "568         0.000000          0.074351        0.000000             0.000000   \n",
       "\n",
       "     symmetry_mean  ...  radius_worst  texture_worst  perimeter_worst  \\\n",
       "0         0.686364  ...      0.620776       0.141525         0.668310   \n",
       "1         0.379798  ...      0.606901       0.303571         0.539818   \n",
       "2         0.509596  ...      0.556386       0.360075         0.508442   \n",
       "3         0.776263  ...      0.248310       0.385928         0.241347   \n",
       "4         0.378283  ...      0.519744       0.123934         0.506948   \n",
       "..             ...  ...           ...            ...              ...   \n",
       "564       0.336364  ...      0.623266       0.383262         0.576174   \n",
       "565       0.349495  ...      0.560655       0.699094         0.520892   \n",
       "566       0.267677  ...      0.393099       0.589019         0.379949   \n",
       "567       0.675253  ...      0.633582       0.730277         0.668310   \n",
       "568       0.266162  ...      0.054287       0.489072         0.043578   \n",
       "\n",
       "     area_worst  smoothness_worst  compactness_worst  concavity_worst  \\\n",
       "0      0.450698          0.601136           0.619292         0.568610   \n",
       "1      0.435214          0.347553           0.154563         0.192971   \n",
       "2      0.374508          0.483590           0.385375         0.359744   \n",
       "3      0.094008          0.915472           0.814012         0.548642   \n",
       "4      0.341575          0.437364           0.172415         0.319489   \n",
       "..          ...               ...                ...              ...   \n",
       "564    0.452664          0.461137           0.178527         0.328035   \n",
       "565    0.379915          0.300007           0.159997         0.256789   \n",
       "566    0.230731          0.282177           0.273705         0.271805   \n",
       "567    0.402035          0.619626           0.815758         0.749760   \n",
       "568    0.020497          0.124084           0.036043         0.000000   \n",
       "\n",
       "     concave points_worst  symmetry_worst  fractal_dimension_worst  \n",
       "0                0.912027        0.598462                 0.418864  \n",
       "1                0.639175        0.233590                 0.222878  \n",
       "2                0.835052        0.403706                 0.213433  \n",
       "3                0.884880        1.000000                 0.773711  \n",
       "4                0.558419        0.157500                 0.142595  \n",
       "..                    ...             ...                      ...  \n",
       "564              0.761512        0.097575                 0.105667  \n",
       "565              0.559450        0.198502                 0.074315  \n",
       "566              0.487285        0.128721                 0.151909  \n",
       "567              0.910653        0.497142                 0.452315  \n",
       "568              0.000000        0.257441                 0.100682  \n",
       "\n",
       "[569 rows x 31 columns]"
      ]
     },
     "execution_count": 15,
     "metadata": {},
     "output_type": "execute_result"
    }
   ],
   "source": [
    "### Scaling all the numerical columns \n",
    "\n",
    "columns = list(dataset.columns)\n",
    "numerical_columns = columns[1 : ]\n",
    "\n",
    "for each_column in numerical_columns:\n",
    "    min_max_scaling(dataset, each_column)\n",
    "    \n",
    "dataset"
   ]
  },
  {
   "cell_type": "markdown",
   "id": "3e0d3694",
   "metadata": {
    "papermill": {
     "duration": 0.035632,
     "end_time": "2022-07-24T05:55:32.537326",
     "exception": false,
     "start_time": "2022-07-24T05:55:32.501694",
     "status": "completed"
    },
    "tags": []
   },
   "source": [
    "#### 3.4 Feature Encoding"
   ]
  },
  {
   "cell_type": "markdown",
   "id": "b3e168e4",
   "metadata": {
    "papermill": {
     "duration": 0.035656,
     "end_time": "2022-07-24T05:55:32.609164",
     "exception": false,
     "start_time": "2022-07-24T05:55:32.573508",
     "status": "completed"
    },
    "tags": []
   },
   "source": [
    "In the dataset, we have one categorical column - diagnosis (target variable). Here, the value 'M' means malignant and 'B' means benign. A benign tumor has distinct, smooth, regular borders. A malignant tumor has irregular borders and grows faster than a benign tumor. A malignant tumor can also spread to other parts of your body. A benign tumor can become quite large, but it will not invade nearby tissue or spread to other parts of your body.\n",
    "\n",
    "Here, we will use 0-1 encoding such that M means 1 and B means 0."
   ]
  },
  {
   "cell_type": "code",
   "execution_count": 16,
   "id": "0d197718",
   "metadata": {
    "execution": {
     "iopub.execute_input": "2022-07-24T05:55:32.685929Z",
     "iopub.status.busy": "2022-07-24T05:55:32.684532Z",
     "iopub.status.idle": "2022-07-24T05:55:32.705830Z",
     "shell.execute_reply": "2022-07-24T05:55:32.704698Z"
    },
    "papermill": {
     "duration": 0.06311,
     "end_time": "2022-07-24T05:55:32.708262",
     "exception": false,
     "start_time": "2022-07-24T05:55:32.645152",
     "status": "completed"
    },
    "tags": []
   },
   "outputs": [
    {
     "data": {
      "text/plain": [
       "[1,\n",
       " 1,\n",
       " 1,\n",
       " 1,\n",
       " 1,\n",
       " 1,\n",
       " 1,\n",
       " 1,\n",
       " 1,\n",
       " 1,\n",
       " 1,\n",
       " 1,\n",
       " 1,\n",
       " 1,\n",
       " 1,\n",
       " 1,\n",
       " 1,\n",
       " 1,\n",
       " 1,\n",
       " 0,\n",
       " 0,\n",
       " 0,\n",
       " 1,\n",
       " 1,\n",
       " 1,\n",
       " 1,\n",
       " 1,\n",
       " 1,\n",
       " 1,\n",
       " 1,\n",
       " 1,\n",
       " 1,\n",
       " 1,\n",
       " 1,\n",
       " 1,\n",
       " 1,\n",
       " 1,\n",
       " 0,\n",
       " 1,\n",
       " 1,\n",
       " 1,\n",
       " 1,\n",
       " 1,\n",
       " 1,\n",
       " 1,\n",
       " 1,\n",
       " 0,\n",
       " 1,\n",
       " 0,\n",
       " 0,\n",
       " 0,\n",
       " 0,\n",
       " 0,\n",
       " 1,\n",
       " 1,\n",
       " 0,\n",
       " 1,\n",
       " 1,\n",
       " 0,\n",
       " 0,\n",
       " 0,\n",
       " 0,\n",
       " 1,\n",
       " 0,\n",
       " 1,\n",
       " 1,\n",
       " 0,\n",
       " 0,\n",
       " 0,\n",
       " 0,\n",
       " 1,\n",
       " 0,\n",
       " 1,\n",
       " 1,\n",
       " 0,\n",
       " 1,\n",
       " 0,\n",
       " 1,\n",
       " 1,\n",
       " 0,\n",
       " 0,\n",
       " 0,\n",
       " 1,\n",
       " 1,\n",
       " 0,\n",
       " 1,\n",
       " 1,\n",
       " 1,\n",
       " 0,\n",
       " 0,\n",
       " 0,\n",
       " 1,\n",
       " 0,\n",
       " 0,\n",
       " 1,\n",
       " 1,\n",
       " 0,\n",
       " 0,\n",
       " 0,\n",
       " 1,\n",
       " 1,\n",
       " 0,\n",
       " 0,\n",
       " 0,\n",
       " 0,\n",
       " 1,\n",
       " 0,\n",
       " 0,\n",
       " 1,\n",
       " 0,\n",
       " 0,\n",
       " 0,\n",
       " 0,\n",
       " 0,\n",
       " 0,\n",
       " 0,\n",
       " 0,\n",
       " 1,\n",
       " 1,\n",
       " 1,\n",
       " 0,\n",
       " 1,\n",
       " 1,\n",
       " 0,\n",
       " 0,\n",
       " 0,\n",
       " 1,\n",
       " 1,\n",
       " 0,\n",
       " 1,\n",
       " 0,\n",
       " 1,\n",
       " 1,\n",
       " 0,\n",
       " 1,\n",
       " 1,\n",
       " 0,\n",
       " 0,\n",
       " 1,\n",
       " 0,\n",
       " 0,\n",
       " 1,\n",
       " 0,\n",
       " 0,\n",
       " 0,\n",
       " 0,\n",
       " 1,\n",
       " 0,\n",
       " 0,\n",
       " 0,\n",
       " 0,\n",
       " 0,\n",
       " 0,\n",
       " 0,\n",
       " 0,\n",
       " 0,\n",
       " 1,\n",
       " 0,\n",
       " 0,\n",
       " 0,\n",
       " 0,\n",
       " 1,\n",
       " 1,\n",
       " 0,\n",
       " 1,\n",
       " 0,\n",
       " 0,\n",
       " 1,\n",
       " 1,\n",
       " 0,\n",
       " 0,\n",
       " 1,\n",
       " 1,\n",
       " 0,\n",
       " 0,\n",
       " 0,\n",
       " 0,\n",
       " 1,\n",
       " 0,\n",
       " 0,\n",
       " 1,\n",
       " 1,\n",
       " 1,\n",
       " 0,\n",
       " 1,\n",
       " 0,\n",
       " 1,\n",
       " 0,\n",
       " 0,\n",
       " 0,\n",
       " 1,\n",
       " 0,\n",
       " 0,\n",
       " 1,\n",
       " 1,\n",
       " 0,\n",
       " 1,\n",
       " 1,\n",
       " 1,\n",
       " 1,\n",
       " 0,\n",
       " 1,\n",
       " 1,\n",
       " 1,\n",
       " 0,\n",
       " 1,\n",
       " 0,\n",
       " 1,\n",
       " 0,\n",
       " 0,\n",
       " 1,\n",
       " 0,\n",
       " 1,\n",
       " 1,\n",
       " 1,\n",
       " 1,\n",
       " 0,\n",
       " 0,\n",
       " 1,\n",
       " 1,\n",
       " 0,\n",
       " 0,\n",
       " 0,\n",
       " 1,\n",
       " 0,\n",
       " 0,\n",
       " 0,\n",
       " 0,\n",
       " 0,\n",
       " 1,\n",
       " 1,\n",
       " 0,\n",
       " 0,\n",
       " 1,\n",
       " 0,\n",
       " 0,\n",
       " 1,\n",
       " 1,\n",
       " 0,\n",
       " 1,\n",
       " 0,\n",
       " 0,\n",
       " 0,\n",
       " 0,\n",
       " 1,\n",
       " 0,\n",
       " 0,\n",
       " 0,\n",
       " 0,\n",
       " 0,\n",
       " 1,\n",
       " 0,\n",
       " 1,\n",
       " 1,\n",
       " 1,\n",
       " 1,\n",
       " 1,\n",
       " 1,\n",
       " 1,\n",
       " 1,\n",
       " 1,\n",
       " 1,\n",
       " 1,\n",
       " 1,\n",
       " 1,\n",
       " 1,\n",
       " 0,\n",
       " 0,\n",
       " 0,\n",
       " 0,\n",
       " 0,\n",
       " 0,\n",
       " 1,\n",
       " 0,\n",
       " 1,\n",
       " 0,\n",
       " 0,\n",
       " 1,\n",
       " 0,\n",
       " 0,\n",
       " 1,\n",
       " 0,\n",
       " 1,\n",
       " 1,\n",
       " 0,\n",
       " 0,\n",
       " 0,\n",
       " 0,\n",
       " 0,\n",
       " 0,\n",
       " 0,\n",
       " 0,\n",
       " 0,\n",
       " 0,\n",
       " 0,\n",
       " 0,\n",
       " 0,\n",
       " 1,\n",
       " 0,\n",
       " 0,\n",
       " 1,\n",
       " 0,\n",
       " 1,\n",
       " 0,\n",
       " 0,\n",
       " 0,\n",
       " 0,\n",
       " 0,\n",
       " 0,\n",
       " 0,\n",
       " 0,\n",
       " 0,\n",
       " 0,\n",
       " 0,\n",
       " 0,\n",
       " 0,\n",
       " 0,\n",
       " 1,\n",
       " 0,\n",
       " 0,\n",
       " 0,\n",
       " 1,\n",
       " 0,\n",
       " 1,\n",
       " 0,\n",
       " 0,\n",
       " 0,\n",
       " 0,\n",
       " 1,\n",
       " 1,\n",
       " 1,\n",
       " 0,\n",
       " 0,\n",
       " 0,\n",
       " 0,\n",
       " 1,\n",
       " 0,\n",
       " 1,\n",
       " 0,\n",
       " 1,\n",
       " 0,\n",
       " 0,\n",
       " 0,\n",
       " 1,\n",
       " 0,\n",
       " 0,\n",
       " 0,\n",
       " 0,\n",
       " 0,\n",
       " 0,\n",
       " 0,\n",
       " 1,\n",
       " 1,\n",
       " 1,\n",
       " 0,\n",
       " 0,\n",
       " 0,\n",
       " 0,\n",
       " 0,\n",
       " 0,\n",
       " 0,\n",
       " 0,\n",
       " 0,\n",
       " 0,\n",
       " 0,\n",
       " 1,\n",
       " 1,\n",
       " 0,\n",
       " 1,\n",
       " 1,\n",
       " 1,\n",
       " 0,\n",
       " 1,\n",
       " 1,\n",
       " 0,\n",
       " 0,\n",
       " 0,\n",
       " 0,\n",
       " 0,\n",
       " 1,\n",
       " 0,\n",
       " 0,\n",
       " 0,\n",
       " 0,\n",
       " 0,\n",
       " 1,\n",
       " 0,\n",
       " 0,\n",
       " 0,\n",
       " 1,\n",
       " 0,\n",
       " 0,\n",
       " 1,\n",
       " 1,\n",
       " 0,\n",
       " 0,\n",
       " 0,\n",
       " 0,\n",
       " 0,\n",
       " 0,\n",
       " 1,\n",
       " 0,\n",
       " 0,\n",
       " 0,\n",
       " 0,\n",
       " 0,\n",
       " 0,\n",
       " 0,\n",
       " 1,\n",
       " 0,\n",
       " 0,\n",
       " 0,\n",
       " 0,\n",
       " 0,\n",
       " 1,\n",
       " 0,\n",
       " 0,\n",
       " 1,\n",
       " 0,\n",
       " 0,\n",
       " 0,\n",
       " 0,\n",
       " 0,\n",
       " 0,\n",
       " 0,\n",
       " 0,\n",
       " 0,\n",
       " 0,\n",
       " 0,\n",
       " 0,\n",
       " 1,\n",
       " 0,\n",
       " 1,\n",
       " 1,\n",
       " 0,\n",
       " 1,\n",
       " 0,\n",
       " 0,\n",
       " 0,\n",
       " 0,\n",
       " 0,\n",
       " 1,\n",
       " 0,\n",
       " 0,\n",
       " 1,\n",
       " 0,\n",
       " 1,\n",
       " 0,\n",
       " 0,\n",
       " 1,\n",
       " 0,\n",
       " 1,\n",
       " 0,\n",
       " 0,\n",
       " 0,\n",
       " 0,\n",
       " 0,\n",
       " 0,\n",
       " 0,\n",
       " 0,\n",
       " 1,\n",
       " 1,\n",
       " 0,\n",
       " 0,\n",
       " 0,\n",
       " 0,\n",
       " 0,\n",
       " 0,\n",
       " 1,\n",
       " 0,\n",
       " 0,\n",
       " 0,\n",
       " 0,\n",
       " 0,\n",
       " 0,\n",
       " 0,\n",
       " 0,\n",
       " 0,\n",
       " 0,\n",
       " 1,\n",
       " 0,\n",
       " 0,\n",
       " 0,\n",
       " 0,\n",
       " 0,\n",
       " 0,\n",
       " 0,\n",
       " 1,\n",
       " 0,\n",
       " 1,\n",
       " 0,\n",
       " 0,\n",
       " 1,\n",
       " 0,\n",
       " 0,\n",
       " 0,\n",
       " 0,\n",
       " 0,\n",
       " 1,\n",
       " 1,\n",
       " 0,\n",
       " 1,\n",
       " 0,\n",
       " 1,\n",
       " 0,\n",
       " 0,\n",
       " 0,\n",
       " 0,\n",
       " 0,\n",
       " 1,\n",
       " 0,\n",
       " 0,\n",
       " 1,\n",
       " 0,\n",
       " 1,\n",
       " 0,\n",
       " 1,\n",
       " 1,\n",
       " 0,\n",
       " 0,\n",
       " 0,\n",
       " 1,\n",
       " 0,\n",
       " 0,\n",
       " 0,\n",
       " 0,\n",
       " 0,\n",
       " 0,\n",
       " 0,\n",
       " 0,\n",
       " 0,\n",
       " 0,\n",
       " 0,\n",
       " 1,\n",
       " 0,\n",
       " 1,\n",
       " 1,\n",
       " 0,\n",
       " 0,\n",
       " 0,\n",
       " 0,\n",
       " 0,\n",
       " 0,\n",
       " 0,\n",
       " 0,\n",
       " 0,\n",
       " 0,\n",
       " 0,\n",
       " 0,\n",
       " 0,\n",
       " 0,\n",
       " 0,\n",
       " 0,\n",
       " 0,\n",
       " 0,\n",
       " 0,\n",
       " 0,\n",
       " 0,\n",
       " 0,\n",
       " 0,\n",
       " 0,\n",
       " 0,\n",
       " 1,\n",
       " 1,\n",
       " 1,\n",
       " 1,\n",
       " 1,\n",
       " 1,\n",
       " 0]"
      ]
     },
     "execution_count": 16,
     "metadata": {},
     "output_type": "execute_result"
    }
   ],
   "source": [
    "### Encoding the target column - diagnosis\n",
    "\n",
    "target_column = dataset['diagnosis']\n",
    "encoded_target = [0 if value == 'B' else 1 for value in target_column]\n",
    "encoded_target"
   ]
  },
  {
   "cell_type": "code",
   "execution_count": 17,
   "id": "e54a76db",
   "metadata": {
    "execution": {
     "iopub.execute_input": "2022-07-24T05:55:32.784324Z",
     "iopub.status.busy": "2022-07-24T05:55:32.783674Z",
     "iopub.status.idle": "2022-07-24T05:55:32.809427Z",
     "shell.execute_reply": "2022-07-24T05:55:32.808292Z"
    },
    "papermill": {
     "duration": 0.066856,
     "end_time": "2022-07-24T05:55:32.811822",
     "exception": false,
     "start_time": "2022-07-24T05:55:32.744966",
     "status": "completed"
    },
    "tags": []
   },
   "outputs": [
    {
     "data": {
      "text/html": [
       "<div>\n",
       "<style scoped>\n",
       "    .dataframe tbody tr th:only-of-type {\n",
       "        vertical-align: middle;\n",
       "    }\n",
       "\n",
       "    .dataframe tbody tr th {\n",
       "        vertical-align: top;\n",
       "    }\n",
       "\n",
       "    .dataframe thead th {\n",
       "        text-align: right;\n",
       "    }\n",
       "</style>\n",
       "<table border=\"1\" class=\"dataframe\">\n",
       "  <thead>\n",
       "    <tr style=\"text-align: right;\">\n",
       "      <th></th>\n",
       "      <th>diagnosis</th>\n",
       "      <th>radius_mean</th>\n",
       "      <th>texture_mean</th>\n",
       "      <th>perimeter_mean</th>\n",
       "      <th>area_mean</th>\n",
       "      <th>smoothness_mean</th>\n",
       "      <th>compactness_mean</th>\n",
       "      <th>concavity_mean</th>\n",
       "      <th>concave points_mean</th>\n",
       "      <th>symmetry_mean</th>\n",
       "      <th>...</th>\n",
       "      <th>radius_worst</th>\n",
       "      <th>texture_worst</th>\n",
       "      <th>perimeter_worst</th>\n",
       "      <th>area_worst</th>\n",
       "      <th>smoothness_worst</th>\n",
       "      <th>compactness_worst</th>\n",
       "      <th>concavity_worst</th>\n",
       "      <th>concave points_worst</th>\n",
       "      <th>symmetry_worst</th>\n",
       "      <th>fractal_dimension_worst</th>\n",
       "    </tr>\n",
       "  </thead>\n",
       "  <tbody>\n",
       "    <tr>\n",
       "      <th>0</th>\n",
       "      <td>1</td>\n",
       "      <td>0.521037</td>\n",
       "      <td>0.022658</td>\n",
       "      <td>0.545989</td>\n",
       "      <td>0.363733</td>\n",
       "      <td>0.593753</td>\n",
       "      <td>0.792037</td>\n",
       "      <td>0.703140</td>\n",
       "      <td>0.731113</td>\n",
       "      <td>0.686364</td>\n",
       "      <td>...</td>\n",
       "      <td>0.620776</td>\n",
       "      <td>0.141525</td>\n",
       "      <td>0.668310</td>\n",
       "      <td>0.450698</td>\n",
       "      <td>0.601136</td>\n",
       "      <td>0.619292</td>\n",
       "      <td>0.568610</td>\n",
       "      <td>0.912027</td>\n",
       "      <td>0.598462</td>\n",
       "      <td>0.418864</td>\n",
       "    </tr>\n",
       "    <tr>\n",
       "      <th>1</th>\n",
       "      <td>1</td>\n",
       "      <td>0.643144</td>\n",
       "      <td>0.272574</td>\n",
       "      <td>0.615783</td>\n",
       "      <td>0.501591</td>\n",
       "      <td>0.289880</td>\n",
       "      <td>0.181768</td>\n",
       "      <td>0.203608</td>\n",
       "      <td>0.348757</td>\n",
       "      <td>0.379798</td>\n",
       "      <td>...</td>\n",
       "      <td>0.606901</td>\n",
       "      <td>0.303571</td>\n",
       "      <td>0.539818</td>\n",
       "      <td>0.435214</td>\n",
       "      <td>0.347553</td>\n",
       "      <td>0.154563</td>\n",
       "      <td>0.192971</td>\n",
       "      <td>0.639175</td>\n",
       "      <td>0.233590</td>\n",
       "      <td>0.222878</td>\n",
       "    </tr>\n",
       "    <tr>\n",
       "      <th>2</th>\n",
       "      <td>1</td>\n",
       "      <td>0.601496</td>\n",
       "      <td>0.390260</td>\n",
       "      <td>0.595743</td>\n",
       "      <td>0.449417</td>\n",
       "      <td>0.514309</td>\n",
       "      <td>0.431017</td>\n",
       "      <td>0.462512</td>\n",
       "      <td>0.635686</td>\n",
       "      <td>0.509596</td>\n",
       "      <td>...</td>\n",
       "      <td>0.556386</td>\n",
       "      <td>0.360075</td>\n",
       "      <td>0.508442</td>\n",
       "      <td>0.374508</td>\n",
       "      <td>0.483590</td>\n",
       "      <td>0.385375</td>\n",
       "      <td>0.359744</td>\n",
       "      <td>0.835052</td>\n",
       "      <td>0.403706</td>\n",
       "      <td>0.213433</td>\n",
       "    </tr>\n",
       "    <tr>\n",
       "      <th>3</th>\n",
       "      <td>1</td>\n",
       "      <td>0.210090</td>\n",
       "      <td>0.360839</td>\n",
       "      <td>0.233501</td>\n",
       "      <td>0.102906</td>\n",
       "      <td>0.811321</td>\n",
       "      <td>0.811361</td>\n",
       "      <td>0.565604</td>\n",
       "      <td>0.522863</td>\n",
       "      <td>0.776263</td>\n",
       "      <td>...</td>\n",
       "      <td>0.248310</td>\n",
       "      <td>0.385928</td>\n",
       "      <td>0.241347</td>\n",
       "      <td>0.094008</td>\n",
       "      <td>0.915472</td>\n",
       "      <td>0.814012</td>\n",
       "      <td>0.548642</td>\n",
       "      <td>0.884880</td>\n",
       "      <td>1.000000</td>\n",
       "      <td>0.773711</td>\n",
       "    </tr>\n",
       "    <tr>\n",
       "      <th>4</th>\n",
       "      <td>1</td>\n",
       "      <td>0.629893</td>\n",
       "      <td>0.156578</td>\n",
       "      <td>0.630986</td>\n",
       "      <td>0.489290</td>\n",
       "      <td>0.430351</td>\n",
       "      <td>0.347893</td>\n",
       "      <td>0.463918</td>\n",
       "      <td>0.518390</td>\n",
       "      <td>0.378283</td>\n",
       "      <td>...</td>\n",
       "      <td>0.519744</td>\n",
       "      <td>0.123934</td>\n",
       "      <td>0.506948</td>\n",
       "      <td>0.341575</td>\n",
       "      <td>0.437364</td>\n",
       "      <td>0.172415</td>\n",
       "      <td>0.319489</td>\n",
       "      <td>0.558419</td>\n",
       "      <td>0.157500</td>\n",
       "      <td>0.142595</td>\n",
       "    </tr>\n",
       "  </tbody>\n",
       "</table>\n",
       "<p>5 rows × 31 columns</p>\n",
       "</div>"
      ],
      "text/plain": [
       "   diagnosis  radius_mean  texture_mean  perimeter_mean  area_mean  \\\n",
       "0          1     0.521037      0.022658        0.545989   0.363733   \n",
       "1          1     0.643144      0.272574        0.615783   0.501591   \n",
       "2          1     0.601496      0.390260        0.595743   0.449417   \n",
       "3          1     0.210090      0.360839        0.233501   0.102906   \n",
       "4          1     0.629893      0.156578        0.630986   0.489290   \n",
       "\n",
       "   smoothness_mean  compactness_mean  concavity_mean  concave points_mean  \\\n",
       "0         0.593753          0.792037        0.703140             0.731113   \n",
       "1         0.289880          0.181768        0.203608             0.348757   \n",
       "2         0.514309          0.431017        0.462512             0.635686   \n",
       "3         0.811321          0.811361        0.565604             0.522863   \n",
       "4         0.430351          0.347893        0.463918             0.518390   \n",
       "\n",
       "   symmetry_mean  ...  radius_worst  texture_worst  perimeter_worst  \\\n",
       "0       0.686364  ...      0.620776       0.141525         0.668310   \n",
       "1       0.379798  ...      0.606901       0.303571         0.539818   \n",
       "2       0.509596  ...      0.556386       0.360075         0.508442   \n",
       "3       0.776263  ...      0.248310       0.385928         0.241347   \n",
       "4       0.378283  ...      0.519744       0.123934         0.506948   \n",
       "\n",
       "   area_worst  smoothness_worst  compactness_worst  concavity_worst  \\\n",
       "0    0.450698          0.601136           0.619292         0.568610   \n",
       "1    0.435214          0.347553           0.154563         0.192971   \n",
       "2    0.374508          0.483590           0.385375         0.359744   \n",
       "3    0.094008          0.915472           0.814012         0.548642   \n",
       "4    0.341575          0.437364           0.172415         0.319489   \n",
       "\n",
       "   concave points_worst  symmetry_worst  fractal_dimension_worst  \n",
       "0              0.912027        0.598462                 0.418864  \n",
       "1              0.639175        0.233590                 0.222878  \n",
       "2              0.835052        0.403706                 0.213433  \n",
       "3              0.884880        1.000000                 0.773711  \n",
       "4              0.558419        0.157500                 0.142595  \n",
       "\n",
       "[5 rows x 31 columns]"
      ]
     },
     "execution_count": 17,
     "metadata": {},
     "output_type": "execute_result"
    }
   ],
   "source": [
    "### Modifying the target column of the dataset\n",
    "\n",
    "dataset['diagnosis'] = encoded_target\n",
    "dataset.head()"
   ]
  },
  {
   "cell_type": "markdown",
   "id": "1bda7186",
   "metadata": {
    "papermill": {
     "duration": 0.036889,
     "end_time": "2022-07-24T05:55:32.885394",
     "exception": false,
     "start_time": "2022-07-24T05:55:32.848505",
     "status": "completed"
    },
    "tags": []
   },
   "source": [
    "### 4. Modelling"
   ]
  },
  {
   "cell_type": "markdown",
   "id": "7fee5add",
   "metadata": {
    "papermill": {
     "duration": 0.036623,
     "end_time": "2022-07-24T05:55:32.958714",
     "exception": false,
     "start_time": "2022-07-24T05:55:32.922091",
     "status": "completed"
    },
    "tags": []
   },
   "source": [
    "Scikit-learn is one of the most popular libraries for machine learning in Python and that is what we will use in the modelling part of this project.\n",
    "\n",
    "Since Breast Cancer Detection is a classfication problem, we will need to use classfication models, also known as classifiers, to train on our model to make predictions. I highly recommend checking out the scikit-learn documentation for more information on the different machine learning models available in their library. I have chosen the following classifiers for the job:\n",
    "\n",
    "Logistic regression\n",
    "Support vector classification\n",
    "K-nearest neighbours\n",
    "Naive Bayes\n",
    "Decision tree\n",
    "Random forest\n",
    "\n",
    "In this section of the notebook, I will fit the models to the training set as outlined above and evaluate their accuracy at making predictions. "
   ]
  },
  {
   "cell_type": "markdown",
   "id": "65fdf7f4",
   "metadata": {
    "papermill": {
     "duration": 0.03756,
     "end_time": "2022-07-24T05:55:33.033102",
     "exception": false,
     "start_time": "2022-07-24T05:55:32.995542",
     "status": "completed"
    },
    "tags": []
   },
   "source": [
    "#### 4.1 Splitting the data into Training and Test sets"
   ]
  },
  {
   "cell_type": "code",
   "execution_count": 18,
   "id": "6f636fe3",
   "metadata": {
    "execution": {
     "iopub.execute_input": "2022-07-24T05:55:33.109924Z",
     "iopub.status.busy": "2022-07-24T05:55:33.109308Z",
     "iopub.status.idle": "2022-07-24T05:55:33.115155Z",
     "shell.execute_reply": "2022-07-24T05:55:33.114406Z"
    },
    "papermill": {
     "duration": 0.046707,
     "end_time": "2022-07-24T05:55:33.117302",
     "exception": false,
     "start_time": "2022-07-24T05:55:33.070595",
     "status": "completed"
    },
    "tags": []
   },
   "outputs": [],
   "source": [
    "### Splitting the data into independent and dependent matrices - X and Y\n",
    "\n",
    "X = dataset.iloc[:, 1:].values\n",
    "Y = dataset.iloc[:, 0].values"
   ]
  },
  {
   "cell_type": "code",
   "execution_count": 19,
   "id": "483f9189",
   "metadata": {
    "execution": {
     "iopub.execute_input": "2022-07-24T05:55:33.194043Z",
     "iopub.status.busy": "2022-07-24T05:55:33.193418Z",
     "iopub.status.idle": "2022-07-24T05:55:33.200646Z",
     "shell.execute_reply": "2022-07-24T05:55:33.199612Z"
    },
    "papermill": {
     "duration": 0.047808,
     "end_time": "2022-07-24T05:55:33.202766",
     "exception": false,
     "start_time": "2022-07-24T05:55:33.154958",
     "status": "completed"
    },
    "tags": []
   },
   "outputs": [
    {
     "data": {
      "text/plain": [
       "array([[0.52103744, 0.0226581 , 0.54598853, ..., 0.91202749, 0.59846245,\n",
       "        0.41886396],\n",
       "       [0.64314449, 0.27257355, 0.61578329, ..., 0.63917526, 0.23358959,\n",
       "        0.22287813],\n",
       "       [0.60149557, 0.3902604 , 0.59574321, ..., 0.83505155, 0.40370589,\n",
       "        0.21343303],\n",
       "       ...,\n",
       "       [0.45525108, 0.62123774, 0.44578813, ..., 0.48728522, 0.12872068,\n",
       "        0.1519087 ],\n",
       "       [0.64456434, 0.66351031, 0.66553797, ..., 0.91065292, 0.49714173,\n",
       "        0.45231536],\n",
       "       [0.03686876, 0.50152181, 0.02853984, ..., 0.        , 0.25744136,\n",
       "        0.10068215]])"
      ]
     },
     "execution_count": 19,
     "metadata": {},
     "output_type": "execute_result"
    }
   ],
   "source": [
    "### Looking at the independent matrix X\n",
    "\n",
    "X"
   ]
  },
  {
   "cell_type": "code",
   "execution_count": 20,
   "id": "44524ae3",
   "metadata": {
    "execution": {
     "iopub.execute_input": "2022-07-24T05:55:33.279114Z",
     "iopub.status.busy": "2022-07-24T05:55:33.278323Z",
     "iopub.status.idle": "2022-07-24T05:55:33.286986Z",
     "shell.execute_reply": "2022-07-24T05:55:33.286134Z"
    },
    "papermill": {
     "duration": 0.049475,
     "end_time": "2022-07-24T05:55:33.289251",
     "exception": false,
     "start_time": "2022-07-24T05:55:33.239776",
     "status": "completed"
    },
    "tags": []
   },
   "outputs": [
    {
     "data": {
      "text/plain": [
       "array([1, 1, 1, 1, 1, 1, 1, 1, 1, 1, 1, 1, 1, 1, 1, 1, 1, 1, 1, 0, 0, 0,\n",
       "       1, 1, 1, 1, 1, 1, 1, 1, 1, 1, 1, 1, 1, 1, 1, 0, 1, 1, 1, 1, 1, 1,\n",
       "       1, 1, 0, 1, 0, 0, 0, 0, 0, 1, 1, 0, 1, 1, 0, 0, 0, 0, 1, 0, 1, 1,\n",
       "       0, 0, 0, 0, 1, 0, 1, 1, 0, 1, 0, 1, 1, 0, 0, 0, 1, 1, 0, 1, 1, 1,\n",
       "       0, 0, 0, 1, 0, 0, 1, 1, 0, 0, 0, 1, 1, 0, 0, 0, 0, 1, 0, 0, 1, 0,\n",
       "       0, 0, 0, 0, 0, 0, 0, 1, 1, 1, 0, 1, 1, 0, 0, 0, 1, 1, 0, 1, 0, 1,\n",
       "       1, 0, 1, 1, 0, 0, 1, 0, 0, 1, 0, 0, 0, 0, 1, 0, 0, 0, 0, 0, 0, 0,\n",
       "       0, 0, 1, 0, 0, 0, 0, 1, 1, 0, 1, 0, 0, 1, 1, 0, 0, 1, 1, 0, 0, 0,\n",
       "       0, 1, 0, 0, 1, 1, 1, 0, 1, 0, 1, 0, 0, 0, 1, 0, 0, 1, 1, 0, 1, 1,\n",
       "       1, 1, 0, 1, 1, 1, 0, 1, 0, 1, 0, 0, 1, 0, 1, 1, 1, 1, 0, 0, 1, 1,\n",
       "       0, 0, 0, 1, 0, 0, 0, 0, 0, 1, 1, 0, 0, 1, 0, 0, 1, 1, 0, 1, 0, 0,\n",
       "       0, 0, 1, 0, 0, 0, 0, 0, 1, 0, 1, 1, 1, 1, 1, 1, 1, 1, 1, 1, 1, 1,\n",
       "       1, 1, 0, 0, 0, 0, 0, 0, 1, 0, 1, 0, 0, 1, 0, 0, 1, 0, 1, 1, 0, 0,\n",
       "       0, 0, 0, 0, 0, 0, 0, 0, 0, 0, 0, 1, 0, 0, 1, 0, 1, 0, 0, 0, 0, 0,\n",
       "       0, 0, 0, 0, 0, 0, 0, 0, 0, 1, 0, 0, 0, 1, 0, 1, 0, 0, 0, 0, 1, 1,\n",
       "       1, 0, 0, 0, 0, 1, 0, 1, 0, 1, 0, 0, 0, 1, 0, 0, 0, 0, 0, 0, 0, 1,\n",
       "       1, 1, 0, 0, 0, 0, 0, 0, 0, 0, 0, 0, 0, 1, 1, 0, 1, 1, 1, 0, 1, 1,\n",
       "       0, 0, 0, 0, 0, 1, 0, 0, 0, 0, 0, 1, 0, 0, 0, 1, 0, 0, 1, 1, 0, 0,\n",
       "       0, 0, 0, 0, 1, 0, 0, 0, 0, 0, 0, 0, 1, 0, 0, 0, 0, 0, 1, 0, 0, 1,\n",
       "       0, 0, 0, 0, 0, 0, 0, 0, 0, 0, 0, 0, 1, 0, 1, 1, 0, 1, 0, 0, 0, 0,\n",
       "       0, 1, 0, 0, 1, 0, 1, 0, 0, 1, 0, 1, 0, 0, 0, 0, 0, 0, 0, 0, 1, 1,\n",
       "       0, 0, 0, 0, 0, 0, 1, 0, 0, 0, 0, 0, 0, 0, 0, 0, 0, 1, 0, 0, 0, 0,\n",
       "       0, 0, 0, 1, 0, 1, 0, 0, 1, 0, 0, 0, 0, 0, 1, 1, 0, 1, 0, 1, 0, 0,\n",
       "       0, 0, 0, 1, 0, 0, 1, 0, 1, 0, 1, 1, 0, 0, 0, 1, 0, 0, 0, 0, 0, 0,\n",
       "       0, 0, 0, 0, 0, 1, 0, 1, 1, 0, 0, 0, 0, 0, 0, 0, 0, 0, 0, 0, 0, 0,\n",
       "       0, 0, 0, 0, 0, 0, 0, 0, 0, 0, 0, 0, 1, 1, 1, 1, 1, 1, 0])"
      ]
     },
     "execution_count": 20,
     "metadata": {},
     "output_type": "execute_result"
    }
   ],
   "source": [
    "### Looking at the dependent matrix Y\n",
    "\n",
    "Y"
   ]
  },
  {
   "cell_type": "code",
   "execution_count": 21,
   "id": "7386384b",
   "metadata": {
    "execution": {
     "iopub.execute_input": "2022-07-24T05:55:33.366084Z",
     "iopub.status.busy": "2022-07-24T05:55:33.365277Z",
     "iopub.status.idle": "2022-07-24T05:55:33.371864Z",
     "shell.execute_reply": "2022-07-24T05:55:33.371056Z"
    },
    "papermill": {
     "duration": 0.047509,
     "end_time": "2022-07-24T05:55:33.374139",
     "exception": false,
     "start_time": "2022-07-24T05:55:33.326630",
     "status": "completed"
    },
    "tags": []
   },
   "outputs": [],
   "source": [
    "### Dividing the data into training and test sets in the ratio of 80:20\n",
    "\n",
    "X_train, X_test, Y_train, Y_test = train_test_split(X, Y, test_size = 0.2, shuffle = True, random_state = 27)"
   ]
  },
  {
   "cell_type": "code",
   "execution_count": 22,
   "id": "2b4ee821",
   "metadata": {
    "execution": {
     "iopub.execute_input": "2022-07-24T05:55:33.451504Z",
     "iopub.status.busy": "2022-07-24T05:55:33.451083Z",
     "iopub.status.idle": "2022-07-24T05:55:33.458632Z",
     "shell.execute_reply": "2022-07-24T05:55:33.457479Z"
    },
    "papermill": {
     "duration": 0.049865,
     "end_time": "2022-07-24T05:55:33.461027",
     "exception": false,
     "start_time": "2022-07-24T05:55:33.411162",
     "status": "completed"
    },
    "tags": []
   },
   "outputs": [
    {
     "data": {
      "text/plain": [
       "array([[0.9578778 , 0.4112276 , 0.95577362, ..., 0.92371134, 0.25448453,\n",
       "        0.16909353],\n",
       "       [0.6682285 , 0.36557322, 0.65171723, ..., 0.78350515, 0.13857678,\n",
       "        0.12600026],\n",
       "       [0.41975484, 0.48156916, 0.41400041, ..., 0.38453608, 0.24521979,\n",
       "        0.05135773],\n",
       "       ...,\n",
       "       [0.23044157, 0.26208996, 0.21940433, ..., 0.31408935, 0.30277942,\n",
       "        0.09858323],\n",
       "       [0.29480808, 0.62056138, 0.2839472 , ..., 0.27347079, 0.17898679,\n",
       "        0.06158993],\n",
       "       [0.31042643, 0.15725397, 0.30177597, ..., 0.44261168, 0.27833629,\n",
       "        0.11511216]])"
      ]
     },
     "execution_count": 22,
     "metadata": {},
     "output_type": "execute_result"
    }
   ],
   "source": [
    "X_train"
   ]
  },
  {
   "cell_type": "code",
   "execution_count": 23,
   "id": "425330c3",
   "metadata": {
    "execution": {
     "iopub.execute_input": "2022-07-24T05:55:33.538013Z",
     "iopub.status.busy": "2022-07-24T05:55:33.537233Z",
     "iopub.status.idle": "2022-07-24T05:55:33.544715Z",
     "shell.execute_reply": "2022-07-24T05:55:33.543856Z"
    },
    "papermill": {
     "duration": 0.048493,
     "end_time": "2022-07-24T05:55:33.546923",
     "exception": false,
     "start_time": "2022-07-24T05:55:33.498430",
     "status": "completed"
    },
    "tags": []
   },
   "outputs": [
    {
     "data": {
      "text/plain": [
       "array([[0.27398362, 0.39567129, 0.26418354, ..., 0.16402062, 0.12103292,\n",
       "        0.08966286],\n",
       "       [0.20961711, 0.03753805, 0.20420151, ..., 0.30783505, 0.28602405,\n",
       "        0.19801915],\n",
       "       [0.64219793, 0.37707136, 0.64964412, ..., 0.73814433, 0.29804849,\n",
       "        0.13544536],\n",
       "       ...,\n",
       "       [0.16986133, 0.29117349, 0.15914588, ..., 0.07635739, 0.22353637,\n",
       "        0.08080808],\n",
       "       [0.1930522 , 0.25059182, 0.18975883, ..., 0.32694158, 0.23950325,\n",
       "        0.40508986],\n",
       "       [0.13128875, 0.62529591, 0.12362656, ..., 0.16721649, 0.14902425,\n",
       "        0.11196379]])"
      ]
     },
     "execution_count": 23,
     "metadata": {},
     "output_type": "execute_result"
    }
   ],
   "source": [
    "X_test"
   ]
  },
  {
   "cell_type": "code",
   "execution_count": 24,
   "id": "2c2e95ba",
   "metadata": {
    "execution": {
     "iopub.execute_input": "2022-07-24T05:55:33.623848Z",
     "iopub.status.busy": "2022-07-24T05:55:33.623068Z",
     "iopub.status.idle": "2022-07-24T05:55:33.631440Z",
     "shell.execute_reply": "2022-07-24T05:55:33.630355Z"
    },
    "papermill": {
     "duration": 0.049257,
     "end_time": "2022-07-24T05:55:33.633676",
     "exception": false,
     "start_time": "2022-07-24T05:55:33.584419",
     "status": "completed"
    },
    "tags": []
   },
   "outputs": [
    {
     "data": {
      "text/plain": [
       "array([1, 1, 1, 0, 0, 1, 0, 1, 0, 0, 1, 1, 0, 1, 0, 0, 0, 0, 0, 0, 0, 0,\n",
       "       0, 1, 1, 0, 0, 1, 1, 0, 0, 0, 0, 0, 0, 1, 1, 0, 0, 0, 0, 0, 0, 1,\n",
       "       0, 1, 0, 1, 1, 1, 0, 0, 1, 0, 1, 0, 1, 1, 0, 0, 0, 0, 0, 0, 1, 0,\n",
       "       0, 0, 0, 1, 0, 1, 0, 1, 0, 0, 0, 0, 0, 0, 1, 1, 0, 0, 1, 0, 0, 0,\n",
       "       0, 0, 0, 1, 0, 0, 1, 1, 0, 0, 0, 1, 0, 0, 1, 0, 1, 1, 1, 0, 1, 0,\n",
       "       0, 1, 0, 0, 0, 1, 1, 1, 0, 1, 0, 0, 1, 0, 1, 0, 0, 1, 1, 0, 0, 0,\n",
       "       0, 0, 1, 0, 1, 0, 0, 0, 0, 1, 0, 0, 0, 0, 1, 0, 0, 0, 0, 0, 1, 0,\n",
       "       0, 0, 1, 1, 0, 1, 1, 0, 0, 0, 1, 1, 0, 0, 0, 0, 1, 1, 0, 0, 0, 0,\n",
       "       0, 0, 1, 0, 0, 1, 1, 1, 0, 0, 1, 0, 1, 0, 0, 0, 0, 0, 0, 1, 1, 0,\n",
       "       0, 0, 0, 0, 0, 1, 1, 0, 1, 0, 0, 0, 0, 0, 0, 1, 0, 0, 1, 1, 1, 0,\n",
       "       1, 0, 0, 1, 1, 0, 0, 0, 0, 1, 0, 0, 0, 1, 0, 0, 1, 0, 1, 1, 0, 0,\n",
       "       1, 0, 1, 0, 0, 0, 1, 1, 0, 1, 0, 1, 1, 0, 0, 0, 0, 0, 0, 0, 1, 0,\n",
       "       0, 0, 0, 0, 1, 0, 1, 0, 0, 0, 1, 1, 0, 1, 0, 0, 0, 0, 1, 0, 1, 0,\n",
       "       1, 0, 0, 0, 0, 0, 0, 0, 0, 1, 0, 1, 0, 0, 1, 1, 0, 1, 0, 0, 0, 1,\n",
       "       1, 1, 0, 0, 0, 0, 0, 0, 1, 0, 0, 0, 1, 1, 0, 1, 0, 0, 1, 0, 1, 0,\n",
       "       0, 0, 0, 1, 1, 0, 1, 1, 0, 0, 1, 0, 0, 0, 1, 1, 1, 1, 0, 0, 0, 1,\n",
       "       0, 1, 0, 0, 1, 1, 0, 1, 1, 0, 1, 0, 0, 0, 0, 0, 1, 1, 0, 0, 0, 0,\n",
       "       0, 0, 0, 0, 0, 1, 1, 0, 1, 1, 0, 0, 0, 0, 1, 1, 0, 1, 0, 1, 1, 0,\n",
       "       0, 1, 0, 0, 1, 0, 1, 1, 0, 0, 1, 0, 1, 1, 1, 1, 0, 1, 1, 1, 1, 1,\n",
       "       1, 0, 0, 0, 1, 1, 0, 0, 0, 0, 0, 0, 0, 1, 0, 0, 0, 0, 0, 1, 1, 1,\n",
       "       0, 0, 1, 0, 0, 1, 0, 0, 1, 1, 0, 1, 0, 0, 0])"
      ]
     },
     "execution_count": 24,
     "metadata": {},
     "output_type": "execute_result"
    }
   ],
   "source": [
    "Y_train"
   ]
  },
  {
   "cell_type": "code",
   "execution_count": 25,
   "id": "755f6f01",
   "metadata": {
    "execution": {
     "iopub.execute_input": "2022-07-24T05:55:33.710229Z",
     "iopub.status.busy": "2022-07-24T05:55:33.709831Z",
     "iopub.status.idle": "2022-07-24T05:55:33.717015Z",
     "shell.execute_reply": "2022-07-24T05:55:33.715762Z"
    },
    "papermill": {
     "duration": 0.048624,
     "end_time": "2022-07-24T05:55:33.719539",
     "exception": false,
     "start_time": "2022-07-24T05:55:33.670915",
     "status": "completed"
    },
    "tags": []
   },
   "outputs": [
    {
     "data": {
      "text/plain": [
       "array([0, 0, 1, 1, 0, 0, 1, 0, 0, 1, 0, 1, 0, 0, 0, 0, 0, 1, 0, 0, 0, 1,\n",
       "       0, 0, 1, 0, 1, 1, 0, 1, 1, 0, 0, 0, 0, 0, 1, 1, 0, 0, 1, 1, 0, 1,\n",
       "       0, 1, 1, 1, 0, 1, 1, 0, 1, 1, 0, 0, 1, 0, 0, 0, 1, 0, 0, 0, 0, 0,\n",
       "       1, 0, 1, 0, 0, 1, 1, 0, 1, 0, 0, 1, 0, 1, 1, 1, 1, 0, 0, 0, 0, 1,\n",
       "       1, 0, 0, 1, 0, 1, 0, 0, 0, 0, 0, 1, 0, 0, 0, 0, 0, 0, 0, 1, 1, 1,\n",
       "       1, 0, 0, 0])"
      ]
     },
     "execution_count": 25,
     "metadata": {},
     "output_type": "execute_result"
    }
   ],
   "source": [
    "Y_test"
   ]
  },
  {
   "cell_type": "markdown",
   "id": "5940789d",
   "metadata": {
    "papermill": {
     "duration": 0.036976,
     "end_time": "2022-07-24T05:55:33.795003",
     "exception": false,
     "start_time": "2022-07-24T05:55:33.758027",
     "status": "completed"
    },
    "tags": []
   },
   "source": [
    "#### 4.2 Fit Model"
   ]
  },
  {
   "cell_type": "markdown",
   "id": "7e566a27",
   "metadata": {
    "papermill": {
     "duration": 0.038073,
     "end_time": "2022-07-24T05:55:33.870611",
     "exception": false,
     "start_time": "2022-07-24T05:55:33.832538",
     "status": "completed"
    },
    "tags": []
   },
   "source": [
    "In this section, we use various machine learning models to predict the results for our sample test data (X_test). Based on the performance of each model, we select one best model based on the model's accuracy. We will store the model and its accuracy so that we can tabulate them later for choosing the best model."
   ]
  },
  {
   "cell_type": "code",
   "execution_count": 26,
   "id": "dd721c26",
   "metadata": {
    "execution": {
     "iopub.execute_input": "2022-07-24T05:55:33.947529Z",
     "iopub.status.busy": "2022-07-24T05:55:33.947092Z",
     "iopub.status.idle": "2022-07-24T05:55:33.952009Z",
     "shell.execute_reply": "2022-07-24T05:55:33.950898Z"
    },
    "papermill": {
     "duration": 0.045949,
     "end_time": "2022-07-24T05:55:33.954304",
     "exception": false,
     "start_time": "2022-07-24T05:55:33.908355",
     "status": "completed"
    },
    "tags": []
   },
   "outputs": [],
   "source": [
    "### Dictionary to store model and its accuracy\n",
    "\n",
    "model_accuracy = OrderedDict()"
   ]
  },
  {
   "cell_type": "code",
   "execution_count": 27,
   "id": "1b379557",
   "metadata": {
    "execution": {
     "iopub.execute_input": "2022-07-24T05:55:34.032524Z",
     "iopub.status.busy": "2022-07-24T05:55:34.031392Z",
     "iopub.status.idle": "2022-07-24T05:55:34.036109Z",
     "shell.execute_reply": "2022-07-24T05:55:34.035264Z"
    },
    "papermill": {
     "duration": 0.046079,
     "end_time": "2022-07-24T05:55:34.038252",
     "exception": false,
     "start_time": "2022-07-24T05:55:33.992173",
     "status": "completed"
    },
    "tags": []
   },
   "outputs": [],
   "source": [
    "### Dictionary to store model and its recall\n",
    "\n",
    "model_recall = OrderedDict()"
   ]
  },
  {
   "cell_type": "markdown",
   "id": "38754e28",
   "metadata": {
    "papermill": {
     "duration": 0.038118,
     "end_time": "2022-07-24T05:55:34.114655",
     "exception": false,
     "start_time": "2022-07-24T05:55:34.076537",
     "status": "completed"
    },
    "tags": []
   },
   "source": [
    "##### 4.2.1 Applying Logistic Regression"
   ]
  },
  {
   "cell_type": "code",
   "execution_count": 28,
   "id": "2b4379c8",
   "metadata": {
    "execution": {
     "iopub.execute_input": "2022-07-24T05:55:34.193984Z",
     "iopub.status.busy": "2022-07-24T05:55:34.193271Z",
     "iopub.status.idle": "2022-07-24T05:55:34.225751Z",
     "shell.execute_reply": "2022-07-24T05:55:34.224466Z"
    },
    "papermill": {
     "duration": 0.076555,
     "end_time": "2022-07-24T05:55:34.229332",
     "exception": false,
     "start_time": "2022-07-24T05:55:34.152777",
     "status": "completed"
    },
    "tags": []
   },
   "outputs": [
    {
     "data": {
      "text/plain": [
       "LogisticRegression(random_state=27)"
      ]
     },
     "execution_count": 28,
     "metadata": {},
     "output_type": "execute_result"
    }
   ],
   "source": [
    "### Training the Logistic Regression model on the dataset\n",
    "\n",
    "logistic_classifier = LogisticRegression(random_state = 27)\n",
    "logistic_classifier.fit(X_train, Y_train)"
   ]
  },
  {
   "cell_type": "code",
   "execution_count": 29,
   "id": "031e0a10",
   "metadata": {
    "execution": {
     "iopub.execute_input": "2022-07-24T05:55:34.357363Z",
     "iopub.status.busy": "2022-07-24T05:55:34.356922Z",
     "iopub.status.idle": "2022-07-24T05:55:34.364588Z",
     "shell.execute_reply": "2022-07-24T05:55:34.363666Z"
    },
    "papermill": {
     "duration": 0.068464,
     "end_time": "2022-07-24T05:55:34.368356",
     "exception": false,
     "start_time": "2022-07-24T05:55:34.299892",
     "status": "completed"
    },
    "tags": []
   },
   "outputs": [
    {
     "name": "stdout",
     "output_type": "stream",
     "text": [
      "[[0 0]\n",
      " [0 0]\n",
      " [1 1]\n",
      " [1 1]\n",
      " [0 0]\n",
      " [0 0]\n",
      " [1 1]\n",
      " [0 0]\n",
      " [0 0]\n",
      " [1 1]\n",
      " [0 0]\n",
      " [0 1]\n",
      " [0 0]\n",
      " [0 0]\n",
      " [0 0]\n",
      " [0 0]\n",
      " [0 0]\n",
      " [1 1]\n",
      " [0 0]\n",
      " [0 0]\n",
      " [0 0]\n",
      " [1 1]\n",
      " [0 0]\n",
      " [0 0]\n",
      " [1 1]\n",
      " [0 0]\n",
      " [1 1]\n",
      " [1 1]\n",
      " [0 0]\n",
      " [1 1]\n",
      " [0 1]\n",
      " [0 0]\n",
      " [0 0]\n",
      " [0 0]\n",
      " [0 0]\n",
      " [0 0]\n",
      " [1 1]\n",
      " [1 1]\n",
      " [0 0]\n",
      " [0 0]\n",
      " [1 1]\n",
      " [1 1]\n",
      " [0 0]\n",
      " [1 1]\n",
      " [0 0]\n",
      " [1 1]\n",
      " [1 1]\n",
      " [1 1]\n",
      " [0 0]\n",
      " [1 1]\n",
      " [1 1]\n",
      " [0 0]\n",
      " [1 1]\n",
      " [1 1]\n",
      " [0 0]\n",
      " [0 0]\n",
      " [1 1]\n",
      " [0 0]\n",
      " [0 0]\n",
      " [0 0]\n",
      " [1 1]\n",
      " [0 0]\n",
      " [0 0]\n",
      " [0 0]\n",
      " [0 0]\n",
      " [0 0]\n",
      " [1 1]\n",
      " [0 0]\n",
      " [1 1]\n",
      " [0 0]\n",
      " [0 0]\n",
      " [1 1]\n",
      " [1 1]\n",
      " [0 0]\n",
      " [1 1]\n",
      " [0 0]\n",
      " [0 0]\n",
      " [1 1]\n",
      " [0 0]\n",
      " [1 1]\n",
      " [1 1]\n",
      " [1 1]\n",
      " [1 1]\n",
      " [0 0]\n",
      " [0 0]\n",
      " [0 0]\n",
      " [0 0]\n",
      " [1 1]\n",
      " [1 1]\n",
      " [0 0]\n",
      " [0 0]\n",
      " [1 1]\n",
      " [0 0]\n",
      " [1 1]\n",
      " [0 0]\n",
      " [0 0]\n",
      " [0 0]\n",
      " [0 0]\n",
      " [0 0]\n",
      " [1 1]\n",
      " [0 0]\n",
      " [0 0]\n",
      " [0 0]\n",
      " [0 0]\n",
      " [0 0]\n",
      " [0 0]\n",
      " [0 0]\n",
      " [1 1]\n",
      " [0 1]\n",
      " [1 1]\n",
      " [1 1]\n",
      " [0 0]\n",
      " [0 0]\n",
      " [0 0]]\n"
     ]
    }
   ],
   "source": [
    "### Predicting the Test set results\n",
    "\n",
    "Y_pred = logistic_classifier.predict(X_test)\n",
    "print(np.concatenate((Y_pred.reshape(len(Y_pred), 1), Y_test.reshape(len(Y_test), 1)), 1))"
   ]
  },
  {
   "cell_type": "code",
   "execution_count": 30,
   "id": "251a7bbe",
   "metadata": {
    "execution": {
     "iopub.execute_input": "2022-07-24T05:55:34.446774Z",
     "iopub.status.busy": "2022-07-24T05:55:34.446013Z",
     "iopub.status.idle": "2022-07-24T05:55:34.457804Z",
     "shell.execute_reply": "2022-07-24T05:55:34.456154Z"
    },
    "papermill": {
     "duration": 0.054737,
     "end_time": "2022-07-24T05:55:34.461292",
     "exception": false,
     "start_time": "2022-07-24T05:55:34.406555",
     "status": "completed"
    },
    "tags": []
   },
   "outputs": [
    {
     "name": "stdout",
     "output_type": "stream",
     "text": [
      "[[69  0]\n",
      " [ 3 42]]\n",
      "The accuracy of this model is 97.37 %.\n",
      "The recall of this model is 93.33 %.\n"
     ]
    }
   ],
   "source": [
    "### Making the confusion matrix\n",
    "\n",
    "cm = confusion_matrix(Y_test, Y_pred)\n",
    "print(cm)\n",
    "\n",
    "### Printing the accuracy and recall of the model\n",
    "\n",
    "logistic_accuracy = round(100 * accuracy_score(Y_test, Y_pred), 2)\n",
    "model_accuracy['Logistic Regression'] = logistic_accuracy\n",
    "\n",
    "logistic_recall = round(100 * recall_score(Y_test, Y_pred), 2)\n",
    "model_recall['Logistic Regression'] = logistic_recall\n",
    "\n",
    "print('The accuracy of this model is {} %.'.format(logistic_accuracy))\n",
    "print('The recall of this model is {} %.'.format(logistic_recall))"
   ]
  },
  {
   "cell_type": "markdown",
   "id": "e85bb405",
   "metadata": {
    "papermill": {
     "duration": 0.037966,
     "end_time": "2022-07-24T05:55:34.537763",
     "exception": false,
     "start_time": "2022-07-24T05:55:34.499797",
     "status": "completed"
    },
    "tags": []
   },
   "source": [
    "##### 4.2.2 Applying Support Vector Classification - Linear"
   ]
  },
  {
   "cell_type": "code",
   "execution_count": 31,
   "id": "624d2301",
   "metadata": {
    "execution": {
     "iopub.execute_input": "2022-07-24T05:55:34.616241Z",
     "iopub.status.busy": "2022-07-24T05:55:34.615420Z",
     "iopub.status.idle": "2022-07-24T05:55:34.627583Z",
     "shell.execute_reply": "2022-07-24T05:55:34.626392Z"
    },
    "papermill": {
     "duration": 0.053887,
     "end_time": "2022-07-24T05:55:34.629773",
     "exception": false,
     "start_time": "2022-07-24T05:55:34.575886",
     "status": "completed"
    },
    "tags": []
   },
   "outputs": [
    {
     "data": {
      "text/plain": [
       "SVC(kernel='linear', random_state=27)"
      ]
     },
     "execution_count": 31,
     "metadata": {},
     "output_type": "execute_result"
    }
   ],
   "source": [
    "### Applying Linear SVM Classification model\n",
    "\n",
    "linear_svm_classifier = SVC(kernel = 'linear', random_state = 27)\n",
    "linear_svm_classifier.fit(X_train, Y_train)"
   ]
  },
  {
   "cell_type": "code",
   "execution_count": 32,
   "id": "84353725",
   "metadata": {
    "execution": {
     "iopub.execute_input": "2022-07-24T05:55:34.708446Z",
     "iopub.status.busy": "2022-07-24T05:55:34.708012Z",
     "iopub.status.idle": "2022-07-24T05:55:34.718551Z",
     "shell.execute_reply": "2022-07-24T05:55:34.717252Z"
    },
    "papermill": {
     "duration": 0.052576,
     "end_time": "2022-07-24T05:55:34.720896",
     "exception": false,
     "start_time": "2022-07-24T05:55:34.668320",
     "status": "completed"
    },
    "tags": []
   },
   "outputs": [
    {
     "name": "stdout",
     "output_type": "stream",
     "text": [
      "[[0 0]\n",
      " [0 0]\n",
      " [1 1]\n",
      " [1 1]\n",
      " [0 0]\n",
      " [0 0]\n",
      " [1 1]\n",
      " [0 0]\n",
      " [0 0]\n",
      " [1 1]\n",
      " [0 0]\n",
      " [1 1]\n",
      " [0 0]\n",
      " [0 0]\n",
      " [0 0]\n",
      " [0 0]\n",
      " [0 0]\n",
      " [1 1]\n",
      " [0 0]\n",
      " [0 0]\n",
      " [0 0]\n",
      " [1 1]\n",
      " [0 0]\n",
      " [0 0]\n",
      " [1 1]\n",
      " [0 0]\n",
      " [1 1]\n",
      " [1 1]\n",
      " [0 0]\n",
      " [1 1]\n",
      " [0 1]\n",
      " [0 0]\n",
      " [0 0]\n",
      " [0 0]\n",
      " [0 0]\n",
      " [0 0]\n",
      " [1 1]\n",
      " [1 1]\n",
      " [0 0]\n",
      " [0 0]\n",
      " [1 1]\n",
      " [1 1]\n",
      " [0 0]\n",
      " [1 1]\n",
      " [0 0]\n",
      " [1 1]\n",
      " [1 1]\n",
      " [1 1]\n",
      " [0 0]\n",
      " [0 1]\n",
      " [1 1]\n",
      " [0 0]\n",
      " [1 1]\n",
      " [1 1]\n",
      " [0 0]\n",
      " [0 0]\n",
      " [1 1]\n",
      " [0 0]\n",
      " [0 0]\n",
      " [0 0]\n",
      " [1 1]\n",
      " [0 0]\n",
      " [0 0]\n",
      " [0 0]\n",
      " [0 0]\n",
      " [0 0]\n",
      " [1 1]\n",
      " [0 0]\n",
      " [1 1]\n",
      " [0 0]\n",
      " [0 0]\n",
      " [1 1]\n",
      " [1 1]\n",
      " [0 0]\n",
      " [1 1]\n",
      " [0 0]\n",
      " [0 0]\n",
      " [1 1]\n",
      " [0 0]\n",
      " [1 1]\n",
      " [1 1]\n",
      " [1 1]\n",
      " [1 1]\n",
      " [0 0]\n",
      " [0 0]\n",
      " [0 0]\n",
      " [0 0]\n",
      " [1 1]\n",
      " [1 1]\n",
      " [0 0]\n",
      " [0 0]\n",
      " [1 1]\n",
      " [0 0]\n",
      " [1 1]\n",
      " [0 0]\n",
      " [0 0]\n",
      " [0 0]\n",
      " [0 0]\n",
      " [0 0]\n",
      " [1 1]\n",
      " [0 0]\n",
      " [0 0]\n",
      " [0 0]\n",
      " [0 0]\n",
      " [0 0]\n",
      " [0 0]\n",
      " [0 0]\n",
      " [1 1]\n",
      " [0 1]\n",
      " [1 1]\n",
      " [1 1]\n",
      " [0 0]\n",
      " [0 0]\n",
      " [0 0]]\n"
     ]
    }
   ],
   "source": [
    "### Predicting the Test set results\n",
    "\n",
    "Y_pred = linear_svm_classifier.predict(X_test)\n",
    "print(np.concatenate((Y_pred.reshape(len(Y_pred), 1), Y_test.reshape(len(Y_test), 1)), 1))"
   ]
  },
  {
   "cell_type": "code",
   "execution_count": 33,
   "id": "e59cd565",
   "metadata": {
    "execution": {
     "iopub.execute_input": "2022-07-24T05:55:34.800453Z",
     "iopub.status.busy": "2022-07-24T05:55:34.800011Z",
     "iopub.status.idle": "2022-07-24T05:55:34.811372Z",
     "shell.execute_reply": "2022-07-24T05:55:34.810280Z"
    },
    "papermill": {
     "duration": 0.053694,
     "end_time": "2022-07-24T05:55:34.813555",
     "exception": false,
     "start_time": "2022-07-24T05:55:34.759861",
     "status": "completed"
    },
    "tags": []
   },
   "outputs": [
    {
     "name": "stdout",
     "output_type": "stream",
     "text": [
      "[[69  0]\n",
      " [ 3 42]]\n",
      "The accuracy of this model is 97.37 %.\n",
      "The recall of this model is 93.33 %.\n"
     ]
    }
   ],
   "source": [
    "### Making the confusion matrix\n",
    "\n",
    "cm = confusion_matrix(Y_test, Y_pred)\n",
    "print(cm)\n",
    "\n",
    "### Printing the accuracy and recall of the model\n",
    "\n",
    "linear_svm_accuracy = round(100 * accuracy_score(Y_test, Y_pred), 2)\n",
    "model_accuracy['Linear SVM'] = linear_svm_accuracy\n",
    "\n",
    "linear_svc_recall = round(100 * recall_score(Y_test, Y_pred), 2)\n",
    "model_recall['Linear SVM'] = linear_svc_recall\n",
    "\n",
    "print('The accuracy of this model is {} %.'.format(linear_svm_accuracy))\n",
    "print('The recall of this model is {} %.'.format(linear_svc_recall))"
   ]
  },
  {
   "cell_type": "markdown",
   "id": "69b397b0",
   "metadata": {
    "papermill": {
     "duration": 0.03888,
     "end_time": "2022-07-24T05:55:34.891217",
     "exception": false,
     "start_time": "2022-07-24T05:55:34.852337",
     "status": "completed"
    },
    "tags": []
   },
   "source": [
    "##### 4.2.3 Applying Support Vector Classification - Kernel"
   ]
  },
  {
   "cell_type": "code",
   "execution_count": 34,
   "id": "ce2dae72",
   "metadata": {
    "execution": {
     "iopub.execute_input": "2022-07-24T05:55:34.971111Z",
     "iopub.status.busy": "2022-07-24T05:55:34.970447Z",
     "iopub.status.idle": "2022-07-24T05:55:34.983841Z",
     "shell.execute_reply": "2022-07-24T05:55:34.982618Z"
    },
    "papermill": {
     "duration": 0.055987,
     "end_time": "2022-07-24T05:55:34.986126",
     "exception": false,
     "start_time": "2022-07-24T05:55:34.930139",
     "status": "completed"
    },
    "tags": []
   },
   "outputs": [
    {
     "data": {
      "text/plain": [
       "SVC(random_state=27)"
      ]
     },
     "execution_count": 34,
     "metadata": {},
     "output_type": "execute_result"
    }
   ],
   "source": [
    "### Applying Kernel SVM Classification model\n",
    "\n",
    "kernel_svm_classifier = SVC(kernel = 'rbf', random_state = 27)\n",
    "kernel_svm_classifier.fit(X_train, Y_train)"
   ]
  },
  {
   "cell_type": "code",
   "execution_count": 35,
   "id": "b6cb62ad",
   "metadata": {
    "execution": {
     "iopub.execute_input": "2022-07-24T05:55:35.065768Z",
     "iopub.status.busy": "2022-07-24T05:55:35.065386Z",
     "iopub.status.idle": "2022-07-24T05:55:35.074606Z",
     "shell.execute_reply": "2022-07-24T05:55:35.072496Z"
    },
    "papermill": {
     "duration": 0.05152,
     "end_time": "2022-07-24T05:55:35.076915",
     "exception": false,
     "start_time": "2022-07-24T05:55:35.025395",
     "status": "completed"
    },
    "tags": []
   },
   "outputs": [
    {
     "name": "stdout",
     "output_type": "stream",
     "text": [
      "[[0 0]\n",
      " [0 0]\n",
      " [1 1]\n",
      " [1 1]\n",
      " [0 0]\n",
      " [0 0]\n",
      " [1 1]\n",
      " [0 0]\n",
      " [0 0]\n",
      " [1 1]\n",
      " [0 0]\n",
      " [1 1]\n",
      " [0 0]\n",
      " [0 0]\n",
      " [0 0]\n",
      " [0 0]\n",
      " [0 0]\n",
      " [1 1]\n",
      " [0 0]\n",
      " [0 0]\n",
      " [0 0]\n",
      " [1 1]\n",
      " [0 0]\n",
      " [0 0]\n",
      " [1 1]\n",
      " [0 0]\n",
      " [1 1]\n",
      " [1 1]\n",
      " [0 0]\n",
      " [1 1]\n",
      " [0 1]\n",
      " [0 0]\n",
      " [0 0]\n",
      " [0 0]\n",
      " [0 0]\n",
      " [0 0]\n",
      " [1 1]\n",
      " [1 1]\n",
      " [0 0]\n",
      " [0 0]\n",
      " [1 1]\n",
      " [1 1]\n",
      " [0 0]\n",
      " [1 1]\n",
      " [0 0]\n",
      " [1 1]\n",
      " [1 1]\n",
      " [1 1]\n",
      " [0 0]\n",
      " [1 1]\n",
      " [1 1]\n",
      " [0 0]\n",
      " [1 1]\n",
      " [1 1]\n",
      " [0 0]\n",
      " [0 0]\n",
      " [1 1]\n",
      " [0 0]\n",
      " [0 0]\n",
      " [0 0]\n",
      " [1 1]\n",
      " [0 0]\n",
      " [0 0]\n",
      " [0 0]\n",
      " [0 0]\n",
      " [0 0]\n",
      " [1 1]\n",
      " [0 0]\n",
      " [1 1]\n",
      " [0 0]\n",
      " [0 0]\n",
      " [1 1]\n",
      " [1 1]\n",
      " [0 0]\n",
      " [1 1]\n",
      " [0 0]\n",
      " [0 0]\n",
      " [1 1]\n",
      " [0 0]\n",
      " [1 1]\n",
      " [1 1]\n",
      " [1 1]\n",
      " [1 1]\n",
      " [0 0]\n",
      " [0 0]\n",
      " [0 0]\n",
      " [0 0]\n",
      " [1 1]\n",
      " [1 1]\n",
      " [0 0]\n",
      " [0 0]\n",
      " [1 1]\n",
      " [0 0]\n",
      " [1 1]\n",
      " [0 0]\n",
      " [0 0]\n",
      " [0 0]\n",
      " [0 0]\n",
      " [0 0]\n",
      " [1 1]\n",
      " [0 0]\n",
      " [0 0]\n",
      " [0 0]\n",
      " [0 0]\n",
      " [0 0]\n",
      " [0 0]\n",
      " [0 0]\n",
      " [1 1]\n",
      " [0 1]\n",
      " [1 1]\n",
      " [1 1]\n",
      " [0 0]\n",
      " [0 0]\n",
      " [0 0]]\n"
     ]
    }
   ],
   "source": [
    "### Predicting the Test set results\n",
    "\n",
    "Y_pred = kernel_svm_classifier.predict(X_test)\n",
    "print(np.concatenate((Y_pred.reshape(len(Y_pred), 1), Y_test.reshape(len(Y_test), 1)), 1))"
   ]
  },
  {
   "cell_type": "code",
   "execution_count": 36,
   "id": "00e746b9",
   "metadata": {
    "execution": {
     "iopub.execute_input": "2022-07-24T05:55:35.157800Z",
     "iopub.status.busy": "2022-07-24T05:55:35.157030Z",
     "iopub.status.idle": "2022-07-24T05:55:35.169126Z",
     "shell.execute_reply": "2022-07-24T05:55:35.167289Z"
    },
    "papermill": {
     "duration": 0.055505,
     "end_time": "2022-07-24T05:55:35.171946",
     "exception": false,
     "start_time": "2022-07-24T05:55:35.116441",
     "status": "completed"
    },
    "tags": []
   },
   "outputs": [
    {
     "name": "stdout",
     "output_type": "stream",
     "text": [
      "[[69  0]\n",
      " [ 2 43]]\n",
      "The accuracy of this model is 98.25 %.\n",
      "The recall of this model is 95.56 %.\n"
     ]
    }
   ],
   "source": [
    "### Making the confusion matrix\n",
    "\n",
    "cm = confusion_matrix(Y_test, Y_pred)\n",
    "print(cm)\n",
    "\n",
    "### Printing the accuracy and recall of the model\n",
    "\n",
    "kernel_svm_accuracy = round(100 * accuracy_score(Y_test, Y_pred), 2)\n",
    "model_accuracy['Kernel SVM'] = kernel_svm_accuracy\n",
    "\n",
    "kernel_svm_recall = round(100 * recall_score(Y_test, Y_pred), 2)\n",
    "model_recall['Kernel SVM'] = kernel_svm_recall\n",
    "\n",
    "print('The accuracy of this model is {} %.'.format(kernel_svm_accuracy))\n",
    "print('The recall of this model is {} %.'.format(kernel_svm_recall))"
   ]
  },
  {
   "cell_type": "markdown",
   "id": "31c008f8",
   "metadata": {
    "papermill": {
     "duration": 0.04107,
     "end_time": "2022-07-24T05:55:35.257145",
     "exception": false,
     "start_time": "2022-07-24T05:55:35.216075",
     "status": "completed"
    },
    "tags": []
   },
   "source": [
    "##### 4.2.4 Applying K-Nearest Neighbors (1-NN)"
   ]
  },
  {
   "cell_type": "code",
   "execution_count": 37,
   "id": "79738a92",
   "metadata": {
    "execution": {
     "iopub.execute_input": "2022-07-24T05:55:35.339095Z",
     "iopub.status.busy": "2022-07-24T05:55:35.338042Z",
     "iopub.status.idle": "2022-07-24T05:55:35.346588Z",
     "shell.execute_reply": "2022-07-24T05:55:35.345505Z"
    },
    "papermill": {
     "duration": 0.050726,
     "end_time": "2022-07-24T05:55:35.348823",
     "exception": false,
     "start_time": "2022-07-24T05:55:35.298097",
     "status": "completed"
    },
    "tags": []
   },
   "outputs": [
    {
     "data": {
      "text/plain": [
       "KNeighborsClassifier(n_neighbors=1)"
      ]
     },
     "execution_count": 37,
     "metadata": {},
     "output_type": "execute_result"
    }
   ],
   "source": [
    "### Applying 1NN model\n",
    "\n",
    "classifier_1nn = KNeighborsClassifier(n_neighbors = 1, algorithm = 'auto', p = 2, metric = 'minkowski')\n",
    "classifier_1nn.fit(X_train, Y_train)"
   ]
  },
  {
   "cell_type": "code",
   "execution_count": 38,
   "id": "0def43b6",
   "metadata": {
    "execution": {
     "iopub.execute_input": "2022-07-24T05:55:35.429257Z",
     "iopub.status.busy": "2022-07-24T05:55:35.428555Z",
     "iopub.status.idle": "2022-07-24T05:55:35.450899Z",
     "shell.execute_reply": "2022-07-24T05:55:35.449584Z"
    },
    "papermill": {
     "duration": 0.066982,
     "end_time": "2022-07-24T05:55:35.454711",
     "exception": false,
     "start_time": "2022-07-24T05:55:35.387729",
     "status": "completed"
    },
    "tags": []
   },
   "outputs": [
    {
     "name": "stdout",
     "output_type": "stream",
     "text": [
      "[[1 0]\n",
      " [0 0]\n",
      " [1 1]\n",
      " [1 1]\n",
      " [0 0]\n",
      " [0 0]\n",
      " [1 1]\n",
      " [0 0]\n",
      " [0 0]\n",
      " [1 1]\n",
      " [0 0]\n",
      " [1 1]\n",
      " [0 0]\n",
      " [0 0]\n",
      " [1 0]\n",
      " [0 0]\n",
      " [0 0]\n",
      " [1 1]\n",
      " [0 0]\n",
      " [0 0]\n",
      " [0 0]\n",
      " [1 1]\n",
      " [0 0]\n",
      " [0 0]\n",
      " [1 1]\n",
      " [0 0]\n",
      " [1 1]\n",
      " [1 1]\n",
      " [0 0]\n",
      " [1 1]\n",
      " [0 1]\n",
      " [0 0]\n",
      " [0 0]\n",
      " [0 0]\n",
      " [0 0]\n",
      " [0 0]\n",
      " [1 1]\n",
      " [1 1]\n",
      " [0 0]\n",
      " [0 0]\n",
      " [1 1]\n",
      " [1 1]\n",
      " [0 0]\n",
      " [1 1]\n",
      " [0 0]\n",
      " [1 1]\n",
      " [1 1]\n",
      " [1 1]\n",
      " [1 0]\n",
      " [1 1]\n",
      " [1 1]\n",
      " [0 0]\n",
      " [1 1]\n",
      " [1 1]\n",
      " [0 0]\n",
      " [0 0]\n",
      " [1 1]\n",
      " [0 0]\n",
      " [0 0]\n",
      " [0 0]\n",
      " [1 1]\n",
      " [0 0]\n",
      " [0 0]\n",
      " [0 0]\n",
      " [0 0]\n",
      " [0 0]\n",
      " [1 1]\n",
      " [0 0]\n",
      " [1 1]\n",
      " [0 0]\n",
      " [0 0]\n",
      " [1 1]\n",
      " [1 1]\n",
      " [0 0]\n",
      " [1 1]\n",
      " [0 0]\n",
      " [0 0]\n",
      " [1 1]\n",
      " [0 0]\n",
      " [1 1]\n",
      " [1 1]\n",
      " [1 1]\n",
      " [0 1]\n",
      " [0 0]\n",
      " [0 0]\n",
      " [0 0]\n",
      " [0 0]\n",
      " [1 1]\n",
      " [1 1]\n",
      " [0 0]\n",
      " [0 0]\n",
      " [1 1]\n",
      " [0 0]\n",
      " [1 1]\n",
      " [0 0]\n",
      " [0 0]\n",
      " [0 0]\n",
      " [0 0]\n",
      " [0 0]\n",
      " [1 1]\n",
      " [0 0]\n",
      " [0 0]\n",
      " [0 0]\n",
      " [0 0]\n",
      " [0 0]\n",
      " [0 0]\n",
      " [0 0]\n",
      " [1 1]\n",
      " [0 1]\n",
      " [1 1]\n",
      " [1 1]\n",
      " [0 0]\n",
      " [0 0]\n",
      " [0 0]]\n"
     ]
    }
   ],
   "source": [
    "### Predicting the Test set results\n",
    "\n",
    "Y_pred = classifier_1nn.predict(X_test)\n",
    "print(np.concatenate((Y_pred.reshape(len(Y_pred), 1), Y_test.reshape(len(Y_test), 1)), 1))"
   ]
  },
  {
   "cell_type": "code",
   "execution_count": 39,
   "id": "8425cc3d",
   "metadata": {
    "execution": {
     "iopub.execute_input": "2022-07-24T05:55:35.582461Z",
     "iopub.status.busy": "2022-07-24T05:55:35.582056Z",
     "iopub.status.idle": "2022-07-24T05:55:35.593962Z",
     "shell.execute_reply": "2022-07-24T05:55:35.592104Z"
    },
    "papermill": {
     "duration": 0.06791,
     "end_time": "2022-07-24T05:55:35.596436",
     "exception": false,
     "start_time": "2022-07-24T05:55:35.528526",
     "status": "completed"
    },
    "tags": []
   },
   "outputs": [
    {
     "name": "stdout",
     "output_type": "stream",
     "text": [
      "[[66  3]\n",
      " [ 3 42]]\n",
      "The accuracy of this model is 94.74 %.\n",
      "The recall of this model is 93.33 %.\n"
     ]
    }
   ],
   "source": [
    "### Making the confusion matrix\n",
    "\n",
    "cm = confusion_matrix(Y_test, Y_pred)\n",
    "print(cm)\n",
    "\n",
    "### Printing the accuracy and recall of the model\n",
    "\n",
    "classifier_1nn_accuracy = round(100 * accuracy_score(Y_test, Y_pred), 2)\n",
    "model_accuracy['K - Nearest Neighbors (1 NN)'] = classifier_1nn_accuracy\n",
    "\n",
    "classifier_1nn_recall = round(100 * recall_score(Y_test, Y_pred), 2)\n",
    "model_recall['K - Nearest Neighbors (1 NN)'] = classifier_1nn_recall\n",
    "\n",
    "print('The accuracy of this model is {} %.'.format(classifier_1nn_accuracy))\n",
    "print('The recall of this model is {} %.'.format(classifier_1nn_recall))"
   ]
  },
  {
   "cell_type": "markdown",
   "id": "55e53304",
   "metadata": {
    "papermill": {
     "duration": 0.039513,
     "end_time": "2022-07-24T05:55:35.675619",
     "exception": false,
     "start_time": "2022-07-24T05:55:35.636106",
     "status": "completed"
    },
    "tags": []
   },
   "source": [
    "##### 4.2.5 Applying K-Nearest Neighbors (3-NN)"
   ]
  },
  {
   "cell_type": "code",
   "execution_count": 40,
   "id": "1d39bd64",
   "metadata": {
    "execution": {
     "iopub.execute_input": "2022-07-24T05:55:35.756380Z",
     "iopub.status.busy": "2022-07-24T05:55:35.755927Z",
     "iopub.status.idle": "2022-07-24T05:55:35.765454Z",
     "shell.execute_reply": "2022-07-24T05:55:35.764283Z"
    },
    "papermill": {
     "duration": 0.052647,
     "end_time": "2022-07-24T05:55:35.767771",
     "exception": false,
     "start_time": "2022-07-24T05:55:35.715124",
     "status": "completed"
    },
    "tags": []
   },
   "outputs": [
    {
     "data": {
      "text/plain": [
       "KNeighborsClassifier(n_neighbors=3)"
      ]
     },
     "execution_count": 40,
     "metadata": {},
     "output_type": "execute_result"
    }
   ],
   "source": [
    "### Applying 3NN model\n",
    "\n",
    "classifier_3nn = KNeighborsClassifier(n_neighbors = 3, algorithm = 'auto', p = 2, metric = 'minkowski')\n",
    "classifier_3nn.fit(X_train, Y_train)"
   ]
  },
  {
   "cell_type": "code",
   "execution_count": 41,
   "id": "e551138e",
   "metadata": {
    "execution": {
     "iopub.execute_input": "2022-07-24T05:55:35.851867Z",
     "iopub.status.busy": "2022-07-24T05:55:35.850999Z",
     "iopub.status.idle": "2022-07-24T05:55:35.877313Z",
     "shell.execute_reply": "2022-07-24T05:55:35.875688Z"
    },
    "papermill": {
     "duration": 0.072766,
     "end_time": "2022-07-24T05:55:35.882128",
     "exception": false,
     "start_time": "2022-07-24T05:55:35.809362",
     "status": "completed"
    },
    "tags": []
   },
   "outputs": [
    {
     "name": "stdout",
     "output_type": "stream",
     "text": [
      "[[0 0]\n",
      " [0 0]\n",
      " [1 1]\n",
      " [1 1]\n",
      " [0 0]\n",
      " [0 0]\n",
      " [1 1]\n",
      " [0 0]\n",
      " [0 0]\n",
      " [1 1]\n",
      " [0 0]\n",
      " [1 1]\n",
      " [0 0]\n",
      " [0 0]\n",
      " [0 0]\n",
      " [0 0]\n",
      " [0 0]\n",
      " [1 1]\n",
      " [0 0]\n",
      " [0 0]\n",
      " [0 0]\n",
      " [1 1]\n",
      " [0 0]\n",
      " [0 0]\n",
      " [1 1]\n",
      " [0 0]\n",
      " [1 1]\n",
      " [1 1]\n",
      " [0 0]\n",
      " [1 1]\n",
      " [0 1]\n",
      " [0 0]\n",
      " [0 0]\n",
      " [0 0]\n",
      " [0 0]\n",
      " [0 0]\n",
      " [1 1]\n",
      " [1 1]\n",
      " [0 0]\n",
      " [0 0]\n",
      " [1 1]\n",
      " [1 1]\n",
      " [0 0]\n",
      " [1 1]\n",
      " [0 0]\n",
      " [1 1]\n",
      " [1 1]\n",
      " [1 1]\n",
      " [1 0]\n",
      " [1 1]\n",
      " [1 1]\n",
      " [0 0]\n",
      " [1 1]\n",
      " [1 1]\n",
      " [0 0]\n",
      " [0 0]\n",
      " [1 1]\n",
      " [0 0]\n",
      " [0 0]\n",
      " [0 0]\n",
      " [1 1]\n",
      " [0 0]\n",
      " [0 0]\n",
      " [0 0]\n",
      " [0 0]\n",
      " [0 0]\n",
      " [1 1]\n",
      " [0 0]\n",
      " [1 1]\n",
      " [0 0]\n",
      " [0 0]\n",
      " [1 1]\n",
      " [1 1]\n",
      " [0 0]\n",
      " [1 1]\n",
      " [0 0]\n",
      " [0 0]\n",
      " [1 1]\n",
      " [0 0]\n",
      " [1 1]\n",
      " [1 1]\n",
      " [1 1]\n",
      " [1 1]\n",
      " [0 0]\n",
      " [0 0]\n",
      " [0 0]\n",
      " [0 0]\n",
      " [1 1]\n",
      " [1 1]\n",
      " [0 0]\n",
      " [0 0]\n",
      " [1 1]\n",
      " [0 0]\n",
      " [1 1]\n",
      " [0 0]\n",
      " [0 0]\n",
      " [0 0]\n",
      " [0 0]\n",
      " [0 0]\n",
      " [1 1]\n",
      " [0 0]\n",
      " [0 0]\n",
      " [0 0]\n",
      " [0 0]\n",
      " [0 0]\n",
      " [0 0]\n",
      " [0 0]\n",
      " [1 1]\n",
      " [0 1]\n",
      " [1 1]\n",
      " [1 1]\n",
      " [0 0]\n",
      " [0 0]\n",
      " [0 0]]\n"
     ]
    }
   ],
   "source": [
    "### Predicting the Test set results\n",
    "\n",
    "Y_pred = classifier_3nn.predict(X_test)\n",
    "print(np.concatenate((Y_pred.reshape(len(Y_pred), 1), Y_test.reshape(len(Y_test), 1)), 1))"
   ]
  },
  {
   "cell_type": "code",
   "execution_count": 42,
   "id": "65c87fd9",
   "metadata": {
    "execution": {
     "iopub.execute_input": "2022-07-24T05:55:36.010738Z",
     "iopub.status.busy": "2022-07-24T05:55:36.010327Z",
     "iopub.status.idle": "2022-07-24T05:55:36.020841Z",
     "shell.execute_reply": "2022-07-24T05:55:36.019719Z"
    },
    "papermill": {
     "duration": 0.065282,
     "end_time": "2022-07-24T05:55:36.023502",
     "exception": false,
     "start_time": "2022-07-24T05:55:35.958220",
     "status": "completed"
    },
    "tags": []
   },
   "outputs": [
    {
     "name": "stdout",
     "output_type": "stream",
     "text": [
      "[[68  1]\n",
      " [ 2 43]]\n",
      "The accuracy of this model is 97.37 %.\n",
      "The recall of this model is 95.56 %.\n"
     ]
    }
   ],
   "source": [
    "### Making the confusion matrix\n",
    "\n",
    "cm = confusion_matrix(Y_test, Y_pred)\n",
    "print(cm)\n",
    "\n",
    "### Printing the accuracy and recall of the model\n",
    "\n",
    "classifier_3nn_accuracy = round(100 * accuracy_score(Y_test, Y_pred), 2)\n",
    "model_accuracy['K - Nearest Neighbors (3 NN)'] = classifier_3nn_accuracy\n",
    "\n",
    "classifier_3nn_recall = round(100 * recall_score(Y_test, Y_pred), 2)\n",
    "model_recall['K - Nearest Neighbors (3 NN)'] = classifier_3nn_recall\n",
    "\n",
    "print('The accuracy of this model is {} %.'.format(classifier_3nn_accuracy))\n",
    "print('The recall of this model is {} %.'.format(classifier_3nn_recall))"
   ]
  },
  {
   "cell_type": "markdown",
   "id": "19363c4b",
   "metadata": {
    "papermill": {
     "duration": 0.039763,
     "end_time": "2022-07-24T05:55:36.103380",
     "exception": false,
     "start_time": "2022-07-24T05:55:36.063617",
     "status": "completed"
    },
    "tags": []
   },
   "source": [
    "##### 4.2.6 Applying K-Nearest Neighbors (5-NN)"
   ]
  },
  {
   "cell_type": "code",
   "execution_count": 43,
   "id": "d3591617",
   "metadata": {
    "execution": {
     "iopub.execute_input": "2022-07-24T05:55:36.186474Z",
     "iopub.status.busy": "2022-07-24T05:55:36.185506Z",
     "iopub.status.idle": "2022-07-24T05:55:36.194410Z",
     "shell.execute_reply": "2022-07-24T05:55:36.193348Z"
    },
    "papermill": {
     "duration": 0.052894,
     "end_time": "2022-07-24T05:55:36.196548",
     "exception": false,
     "start_time": "2022-07-24T05:55:36.143654",
     "status": "completed"
    },
    "tags": []
   },
   "outputs": [
    {
     "data": {
      "text/plain": [
       "KNeighborsClassifier()"
      ]
     },
     "execution_count": 43,
     "metadata": {},
     "output_type": "execute_result"
    }
   ],
   "source": [
    "### Applying 5NN model\n",
    "\n",
    "classifier_5nn = KNeighborsClassifier(n_neighbors = 5, algorithm = 'auto', p = 2, metric = 'minkowski')\n",
    "classifier_5nn.fit(X_train, Y_train)"
   ]
  },
  {
   "cell_type": "code",
   "execution_count": 44,
   "id": "49077e6b",
   "metadata": {
    "execution": {
     "iopub.execute_input": "2022-07-24T05:55:36.279699Z",
     "iopub.status.busy": "2022-07-24T05:55:36.279002Z",
     "iopub.status.idle": "2022-07-24T05:55:36.302113Z",
     "shell.execute_reply": "2022-07-24T05:55:36.300884Z"
    },
    "papermill": {
     "duration": 0.069624,
     "end_time": "2022-07-24T05:55:36.306928",
     "exception": false,
     "start_time": "2022-07-24T05:55:36.237304",
     "status": "completed"
    },
    "tags": []
   },
   "outputs": [
    {
     "name": "stdout",
     "output_type": "stream",
     "text": [
      "[[0 0]\n",
      " [0 0]\n",
      " [1 1]\n",
      " [1 1]\n",
      " [0 0]\n",
      " [0 0]\n",
      " [1 1]\n",
      " [0 0]\n",
      " [0 0]\n",
      " [1 1]\n",
      " [0 0]\n",
      " [1 1]\n",
      " [0 0]\n",
      " [0 0]\n",
      " [0 0]\n",
      " [0 0]\n",
      " [0 0]\n",
      " [1 1]\n",
      " [0 0]\n",
      " [0 0]\n",
      " [0 0]\n",
      " [1 1]\n",
      " [0 0]\n",
      " [0 0]\n",
      " [1 1]\n",
      " [0 0]\n",
      " [1 1]\n",
      " [1 1]\n",
      " [0 0]\n",
      " [1 1]\n",
      " [0 1]\n",
      " [0 0]\n",
      " [0 0]\n",
      " [0 0]\n",
      " [0 0]\n",
      " [0 0]\n",
      " [1 1]\n",
      " [1 1]\n",
      " [0 0]\n",
      " [0 0]\n",
      " [1 1]\n",
      " [1 1]\n",
      " [0 0]\n",
      " [1 1]\n",
      " [0 0]\n",
      " [1 1]\n",
      " [1 1]\n",
      " [1 1]\n",
      " [1 0]\n",
      " [1 1]\n",
      " [1 1]\n",
      " [0 0]\n",
      " [1 1]\n",
      " [1 1]\n",
      " [0 0]\n",
      " [0 0]\n",
      " [1 1]\n",
      " [0 0]\n",
      " [0 0]\n",
      " [0 0]\n",
      " [1 1]\n",
      " [0 0]\n",
      " [0 0]\n",
      " [0 0]\n",
      " [0 0]\n",
      " [0 0]\n",
      " [1 1]\n",
      " [0 0]\n",
      " [1 1]\n",
      " [0 0]\n",
      " [0 0]\n",
      " [1 1]\n",
      " [1 1]\n",
      " [0 0]\n",
      " [1 1]\n",
      " [0 0]\n",
      " [0 0]\n",
      " [1 1]\n",
      " [0 0]\n",
      " [1 1]\n",
      " [1 1]\n",
      " [1 1]\n",
      " [1 1]\n",
      " [0 0]\n",
      " [0 0]\n",
      " [0 0]\n",
      " [0 0]\n",
      " [1 1]\n",
      " [1 1]\n",
      " [0 0]\n",
      " [0 0]\n",
      " [1 1]\n",
      " [0 0]\n",
      " [1 1]\n",
      " [0 0]\n",
      " [0 0]\n",
      " [0 0]\n",
      " [0 0]\n",
      " [0 0]\n",
      " [1 1]\n",
      " [0 0]\n",
      " [0 0]\n",
      " [0 0]\n",
      " [0 0]\n",
      " [0 0]\n",
      " [0 0]\n",
      " [0 0]\n",
      " [1 1]\n",
      " [0 1]\n",
      " [1 1]\n",
      " [1 1]\n",
      " [0 0]\n",
      " [0 0]\n",
      " [0 0]]\n"
     ]
    }
   ],
   "source": [
    "### Predicting the Test set results\n",
    "\n",
    "Y_pred = classifier_5nn.predict(X_test)\n",
    "print(np.concatenate((Y_pred.reshape(len(Y_pred), 1), Y_test.reshape(len(Y_test), 1)), 1))"
   ]
  },
  {
   "cell_type": "code",
   "execution_count": 45,
   "id": "b9f58176",
   "metadata": {
    "execution": {
     "iopub.execute_input": "2022-07-24T05:55:36.437221Z",
     "iopub.status.busy": "2022-07-24T05:55:36.435944Z",
     "iopub.status.idle": "2022-07-24T05:55:36.448492Z",
     "shell.execute_reply": "2022-07-24T05:55:36.446632Z"
    },
    "papermill": {
     "duration": 0.068964,
     "end_time": "2022-07-24T05:55:36.450921",
     "exception": false,
     "start_time": "2022-07-24T05:55:36.381957",
     "status": "completed"
    },
    "tags": []
   },
   "outputs": [
    {
     "name": "stdout",
     "output_type": "stream",
     "text": [
      "[[68  1]\n",
      " [ 2 43]]\n",
      "The accuracy of this model is 97.37 %.\n",
      "The recall of this model is 95.56 %.\n"
     ]
    }
   ],
   "source": [
    "### Making the confusion matrix\n",
    "\n",
    "cm = confusion_matrix(Y_test, Y_pred)\n",
    "print(cm)\n",
    "\n",
    "### Printing the accuracy and recall of the model\n",
    "\n",
    "classifier_5nn_accuracy = round(100 * accuracy_score(Y_test, Y_pred), 2)\n",
    "model_accuracy['K - Nearest Neighbors (5 NN)'] = classifier_5nn_accuracy\n",
    "\n",
    "classifier_5nn_recall = round(100 * recall_score(Y_test, Y_pred), 2)\n",
    "model_recall['K - Nearest Neighbors (5 NN)'] = classifier_5nn_recall\n",
    "\n",
    "print('The accuracy of this model is {} %.'.format(classifier_5nn_accuracy))\n",
    "print('The recall of this model is {} %.'.format(classifier_5nn_recall))"
   ]
  },
  {
   "cell_type": "markdown",
   "id": "acc765d7",
   "metadata": {
    "papermill": {
     "duration": 0.040091,
     "end_time": "2022-07-24T05:55:36.531714",
     "exception": false,
     "start_time": "2022-07-24T05:55:36.491623",
     "status": "completed"
    },
    "tags": []
   },
   "source": [
    "##### 4.2.7 Applying K-Nearest Neighbors (7-NN)"
   ]
  },
  {
   "cell_type": "code",
   "execution_count": 46,
   "id": "d40b3cb3",
   "metadata": {
    "execution": {
     "iopub.execute_input": "2022-07-24T05:55:36.614878Z",
     "iopub.status.busy": "2022-07-24T05:55:36.614509Z",
     "iopub.status.idle": "2022-07-24T05:55:36.622759Z",
     "shell.execute_reply": "2022-07-24T05:55:36.621645Z"
    },
    "papermill": {
     "duration": 0.053024,
     "end_time": "2022-07-24T05:55:36.625150",
     "exception": false,
     "start_time": "2022-07-24T05:55:36.572126",
     "status": "completed"
    },
    "tags": []
   },
   "outputs": [
    {
     "data": {
      "text/plain": [
       "KNeighborsClassifier(n_neighbors=7)"
      ]
     },
     "execution_count": 46,
     "metadata": {},
     "output_type": "execute_result"
    }
   ],
   "source": [
    "### Applying 7NN model\n",
    "\n",
    "classifier_7nn = KNeighborsClassifier(n_neighbors = 7, algorithm = 'auto', p = 2, metric = 'minkowski')\n",
    "classifier_7nn.fit(X_train, Y_train)"
   ]
  },
  {
   "cell_type": "code",
   "execution_count": 47,
   "id": "62eb614d",
   "metadata": {
    "execution": {
     "iopub.execute_input": "2022-07-24T05:55:36.708401Z",
     "iopub.status.busy": "2022-07-24T05:55:36.707602Z",
     "iopub.status.idle": "2022-07-24T05:55:36.730447Z",
     "shell.execute_reply": "2022-07-24T05:55:36.729142Z"
    },
    "papermill": {
     "duration": 0.072426,
     "end_time": "2022-07-24T05:55:36.738244",
     "exception": false,
     "start_time": "2022-07-24T05:55:36.665818",
     "status": "completed"
    },
    "tags": []
   },
   "outputs": [
    {
     "name": "stdout",
     "output_type": "stream",
     "text": [
      "[[0 0]\n",
      " [0 0]\n",
      " [1 1]\n",
      " [1 1]\n",
      " [0 0]\n",
      " [0 0]\n",
      " [1 1]\n",
      " [0 0]\n",
      " [0 0]\n",
      " [1 1]\n",
      " [0 0]\n",
      " [1 1]\n",
      " [0 0]\n",
      " [0 0]\n",
      " [0 0]\n",
      " [0 0]\n",
      " [0 0]\n",
      " [1 1]\n",
      " [0 0]\n",
      " [0 0]\n",
      " [0 0]\n",
      " [1 1]\n",
      " [0 0]\n",
      " [0 0]\n",
      " [1 1]\n",
      " [0 0]\n",
      " [1 1]\n",
      " [1 1]\n",
      " [0 0]\n",
      " [1 1]\n",
      " [0 1]\n",
      " [0 0]\n",
      " [0 0]\n",
      " [0 0]\n",
      " [0 0]\n",
      " [0 0]\n",
      " [1 1]\n",
      " [1 1]\n",
      " [0 0]\n",
      " [0 0]\n",
      " [1 1]\n",
      " [1 1]\n",
      " [0 0]\n",
      " [1 1]\n",
      " [0 0]\n",
      " [1 1]\n",
      " [1 1]\n",
      " [1 1]\n",
      " [1 0]\n",
      " [1 1]\n",
      " [1 1]\n",
      " [0 0]\n",
      " [1 1]\n",
      " [1 1]\n",
      " [0 0]\n",
      " [0 0]\n",
      " [1 1]\n",
      " [0 0]\n",
      " [0 0]\n",
      " [0 0]\n",
      " [1 1]\n",
      " [0 0]\n",
      " [0 0]\n",
      " [0 0]\n",
      " [0 0]\n",
      " [0 0]\n",
      " [1 1]\n",
      " [0 0]\n",
      " [1 1]\n",
      " [0 0]\n",
      " [0 0]\n",
      " [1 1]\n",
      " [1 1]\n",
      " [0 0]\n",
      " [1 1]\n",
      " [0 0]\n",
      " [0 0]\n",
      " [1 1]\n",
      " [0 0]\n",
      " [1 1]\n",
      " [1 1]\n",
      " [1 1]\n",
      " [1 1]\n",
      " [0 0]\n",
      " [0 0]\n",
      " [0 0]\n",
      " [0 0]\n",
      " [1 1]\n",
      " [1 1]\n",
      " [0 0]\n",
      " [0 0]\n",
      " [1 1]\n",
      " [0 0]\n",
      " [1 1]\n",
      " [0 0]\n",
      " [0 0]\n",
      " [0 0]\n",
      " [0 0]\n",
      " [0 0]\n",
      " [1 1]\n",
      " [0 0]\n",
      " [0 0]\n",
      " [0 0]\n",
      " [0 0]\n",
      " [0 0]\n",
      " [0 0]\n",
      " [0 0]\n",
      " [1 1]\n",
      " [0 1]\n",
      " [1 1]\n",
      " [1 1]\n",
      " [0 0]\n",
      " [0 0]\n",
      " [0 0]]\n"
     ]
    }
   ],
   "source": [
    "### Predicting the Test set results\n",
    "\n",
    "Y_pred = classifier_7nn.predict(X_test)\n",
    "print(np.concatenate((Y_pred.reshape(len(Y_pred), 1), Y_test.reshape(len(Y_test), 1)), 1))"
   ]
  },
  {
   "cell_type": "code",
   "execution_count": 48,
   "id": "af8ecee9",
   "metadata": {
    "execution": {
     "iopub.execute_input": "2022-07-24T05:55:36.868699Z",
     "iopub.status.busy": "2022-07-24T05:55:36.867898Z",
     "iopub.status.idle": "2022-07-24T05:55:36.879843Z",
     "shell.execute_reply": "2022-07-24T05:55:36.878442Z"
    },
    "papermill": {
     "duration": 0.067811,
     "end_time": "2022-07-24T05:55:36.883547",
     "exception": false,
     "start_time": "2022-07-24T05:55:36.815736",
     "status": "completed"
    },
    "tags": []
   },
   "outputs": [
    {
     "name": "stdout",
     "output_type": "stream",
     "text": [
      "[[68  1]\n",
      " [ 2 43]]\n",
      "The accuracy of this model is 97.37 %.\n",
      "The recall of this model is 95.56 %.\n"
     ]
    }
   ],
   "source": [
    "### Making the confusion matrix\n",
    "\n",
    "cm = confusion_matrix(Y_test, Y_pred)\n",
    "print(cm)\n",
    "\n",
    "### Printing the accuracy and recall of the model\n",
    "\n",
    "classifier_7nn_accuracy = round(100 * accuracy_score(Y_test, Y_pred), 2)\n",
    "model_accuracy['K - Nearest Neighbors (7 NN)'] = classifier_7nn_accuracy\n",
    "\n",
    "classifier_7nn_recall = round(100 * recall_score(Y_test, Y_pred), 2)\n",
    "model_recall['K - Nearest Neighbors (7 NN)'] = classifier_7nn_recall\n",
    "\n",
    "print('The accuracy of this model is {} %.'.format(classifier_7nn_accuracy))\n",
    "print('The recall of this model is {} %.'.format(classifier_7nn_recall))"
   ]
  },
  {
   "cell_type": "markdown",
   "id": "aa677645",
   "metadata": {
    "papermill": {
     "duration": 0.040664,
     "end_time": "2022-07-24T05:55:36.970798",
     "exception": false,
     "start_time": "2022-07-24T05:55:36.930134",
     "status": "completed"
    },
    "tags": []
   },
   "source": [
    "##### 4.2.8 Applying K-Nearest Neighbors (9-NN)"
   ]
  },
  {
   "cell_type": "code",
   "execution_count": 49,
   "id": "51ce7f0b",
   "metadata": {
    "execution": {
     "iopub.execute_input": "2022-07-24T05:55:37.056107Z",
     "iopub.status.busy": "2022-07-24T05:55:37.054848Z",
     "iopub.status.idle": "2022-07-24T05:55:37.063687Z",
     "shell.execute_reply": "2022-07-24T05:55:37.062771Z"
    },
    "papermill": {
     "duration": 0.053814,
     "end_time": "2022-07-24T05:55:37.065816",
     "exception": false,
     "start_time": "2022-07-24T05:55:37.012002",
     "status": "completed"
    },
    "tags": []
   },
   "outputs": [
    {
     "data": {
      "text/plain": [
       "KNeighborsClassifier(n_neighbors=9)"
      ]
     },
     "execution_count": 49,
     "metadata": {},
     "output_type": "execute_result"
    }
   ],
   "source": [
    "### Applying 9NN model\n",
    "\n",
    "classifier_9nn = KNeighborsClassifier(n_neighbors = 9, algorithm = 'auto', p = 2, metric = 'minkowski')\n",
    "classifier_9nn.fit(X_train, Y_train)"
   ]
  },
  {
   "cell_type": "code",
   "execution_count": 50,
   "id": "55ed8878",
   "metadata": {
    "execution": {
     "iopub.execute_input": "2022-07-24T05:55:37.150029Z",
     "iopub.status.busy": "2022-07-24T05:55:37.149660Z",
     "iopub.status.idle": "2022-07-24T05:55:37.168842Z",
     "shell.execute_reply": "2022-07-24T05:55:37.167520Z"
    },
    "papermill": {
     "duration": 0.068422,
     "end_time": "2022-07-24T05:55:37.175868",
     "exception": false,
     "start_time": "2022-07-24T05:55:37.107446",
     "status": "completed"
    },
    "tags": []
   },
   "outputs": [
    {
     "name": "stdout",
     "output_type": "stream",
     "text": [
      "[[0 0]\n",
      " [0 0]\n",
      " [1 1]\n",
      " [1 1]\n",
      " [0 0]\n",
      " [0 0]\n",
      " [0 1]\n",
      " [0 0]\n",
      " [0 0]\n",
      " [1 1]\n",
      " [0 0]\n",
      " [0 1]\n",
      " [0 0]\n",
      " [0 0]\n",
      " [0 0]\n",
      " [0 0]\n",
      " [0 0]\n",
      " [1 1]\n",
      " [0 0]\n",
      " [0 0]\n",
      " [0 0]\n",
      " [1 1]\n",
      " [0 0]\n",
      " [0 0]\n",
      " [1 1]\n",
      " [0 0]\n",
      " [1 1]\n",
      " [1 1]\n",
      " [0 0]\n",
      " [1 1]\n",
      " [0 1]\n",
      " [0 0]\n",
      " [0 0]\n",
      " [0 0]\n",
      " [0 0]\n",
      " [0 0]\n",
      " [1 1]\n",
      " [1 1]\n",
      " [0 0]\n",
      " [0 0]\n",
      " [1 1]\n",
      " [1 1]\n",
      " [0 0]\n",
      " [1 1]\n",
      " [0 0]\n",
      " [1 1]\n",
      " [1 1]\n",
      " [1 1]\n",
      " [1 0]\n",
      " [1 1]\n",
      " [1 1]\n",
      " [0 0]\n",
      " [1 1]\n",
      " [1 1]\n",
      " [0 0]\n",
      " [0 0]\n",
      " [1 1]\n",
      " [0 0]\n",
      " [0 0]\n",
      " [0 0]\n",
      " [1 1]\n",
      " [0 0]\n",
      " [0 0]\n",
      " [0 0]\n",
      " [0 0]\n",
      " [0 0]\n",
      " [1 1]\n",
      " [0 0]\n",
      " [1 1]\n",
      " [0 0]\n",
      " [0 0]\n",
      " [1 1]\n",
      " [1 1]\n",
      " [0 0]\n",
      " [1 1]\n",
      " [0 0]\n",
      " [0 0]\n",
      " [1 1]\n",
      " [0 0]\n",
      " [1 1]\n",
      " [1 1]\n",
      " [1 1]\n",
      " [1 1]\n",
      " [0 0]\n",
      " [0 0]\n",
      " [0 0]\n",
      " [0 0]\n",
      " [1 1]\n",
      " [1 1]\n",
      " [0 0]\n",
      " [0 0]\n",
      " [1 1]\n",
      " [0 0]\n",
      " [1 1]\n",
      " [0 0]\n",
      " [0 0]\n",
      " [0 0]\n",
      " [0 0]\n",
      " [0 0]\n",
      " [1 1]\n",
      " [0 0]\n",
      " [0 0]\n",
      " [0 0]\n",
      " [0 0]\n",
      " [0 0]\n",
      " [0 0]\n",
      " [0 0]\n",
      " [1 1]\n",
      " [0 1]\n",
      " [1 1]\n",
      " [1 1]\n",
      " [0 0]\n",
      " [0 0]\n",
      " [0 0]]\n"
     ]
    }
   ],
   "source": [
    "### Predicting the Test set results\n",
    "\n",
    "Y_pred = classifier_9nn.predict(X_test)\n",
    "print(np.concatenate((Y_pred.reshape(len(Y_pred), 1), Y_test.reshape(len(Y_test), 1)), 1))"
   ]
  },
  {
   "cell_type": "code",
   "execution_count": 51,
   "id": "dcd0b477",
   "metadata": {
    "execution": {
     "iopub.execute_input": "2022-07-24T05:55:37.306394Z",
     "iopub.status.busy": "2022-07-24T05:55:37.305987Z",
     "iopub.status.idle": "2022-07-24T05:55:37.317252Z",
     "shell.execute_reply": "2022-07-24T05:55:37.315909Z"
    },
    "papermill": {
     "duration": 0.066035,
     "end_time": "2022-07-24T05:55:37.319690",
     "exception": false,
     "start_time": "2022-07-24T05:55:37.253655",
     "status": "completed"
    },
    "tags": []
   },
   "outputs": [
    {
     "name": "stdout",
     "output_type": "stream",
     "text": [
      "[[68  1]\n",
      " [ 4 41]]\n",
      "The accuracy of this model is 95.61 %.\n",
      "The recall of this model is 91.11 %.\n"
     ]
    }
   ],
   "source": [
    "### Making the confusion matrix\n",
    "\n",
    "cm = confusion_matrix(Y_test, Y_pred)\n",
    "print(cm)\n",
    "\n",
    "### Printing the accuracy and recall of the model\n",
    "\n",
    "classifier_9nn_accuracy = round(100 * accuracy_score(Y_test, Y_pred), 2)\n",
    "model_accuracy['K - Nearest Neighbors (9 NN)'] = classifier_9nn_accuracy\n",
    "\n",
    "classifier_9nn_recall = round(100 * recall_score(Y_test, Y_pred), 2)\n",
    "model_recall['K - Nearest Neighbors (9 NN)'] = classifier_9nn_recall\n",
    "\n",
    "print('The accuracy of this model is {} %.'.format(classifier_9nn_accuracy))\n",
    "print('The recall of this model is {} %.'.format(classifier_9nn_recall))"
   ]
  },
  {
   "cell_type": "markdown",
   "id": "5594d149",
   "metadata": {
    "papermill": {
     "duration": 0.041247,
     "end_time": "2022-07-24T05:55:37.402575",
     "exception": false,
     "start_time": "2022-07-24T05:55:37.361328",
     "status": "completed"
    },
    "tags": []
   },
   "source": [
    "##### 4.2.9 Applying K-Nearest Neighbors (11-NN)"
   ]
  },
  {
   "cell_type": "code",
   "execution_count": 52,
   "id": "e159bba0",
   "metadata": {
    "execution": {
     "iopub.execute_input": "2022-07-24T05:55:37.486944Z",
     "iopub.status.busy": "2022-07-24T05:55:37.486120Z",
     "iopub.status.idle": "2022-07-24T05:55:37.495226Z",
     "shell.execute_reply": "2022-07-24T05:55:37.494077Z"
    },
    "papermill": {
     "duration": 0.053856,
     "end_time": "2022-07-24T05:55:37.497589",
     "exception": false,
     "start_time": "2022-07-24T05:55:37.443733",
     "status": "completed"
    },
    "tags": []
   },
   "outputs": [
    {
     "data": {
      "text/plain": [
       "KNeighborsClassifier(n_neighbors=11)"
      ]
     },
     "execution_count": 52,
     "metadata": {},
     "output_type": "execute_result"
    }
   ],
   "source": [
    "### Applying 11NN model\n",
    "\n",
    "classifier_11nn = KNeighborsClassifier(n_neighbors = 11, algorithm = 'auto', p = 2, metric = 'minkowski')\n",
    "classifier_11nn.fit(X_train, Y_train)"
   ]
  },
  {
   "cell_type": "code",
   "execution_count": 53,
   "id": "2faae2be",
   "metadata": {
    "execution": {
     "iopub.execute_input": "2022-07-24T05:55:37.581396Z",
     "iopub.status.busy": "2022-07-24T05:55:37.580973Z",
     "iopub.status.idle": "2022-07-24T05:55:37.603450Z",
     "shell.execute_reply": "2022-07-24T05:55:37.602243Z"
    },
    "papermill": {
     "duration": 0.072859,
     "end_time": "2022-07-24T05:55:37.611329",
     "exception": false,
     "start_time": "2022-07-24T05:55:37.538470",
     "status": "completed"
    },
    "tags": []
   },
   "outputs": [
    {
     "name": "stdout",
     "output_type": "stream",
     "text": [
      "[[0 0]\n",
      " [0 0]\n",
      " [1 1]\n",
      " [1 1]\n",
      " [0 0]\n",
      " [0 0]\n",
      " [0 1]\n",
      " [0 0]\n",
      " [0 0]\n",
      " [1 1]\n",
      " [0 0]\n",
      " [0 1]\n",
      " [0 0]\n",
      " [0 0]\n",
      " [0 0]\n",
      " [0 0]\n",
      " [0 0]\n",
      " [1 1]\n",
      " [0 0]\n",
      " [0 0]\n",
      " [0 0]\n",
      " [1 1]\n",
      " [0 0]\n",
      " [0 0]\n",
      " [1 1]\n",
      " [0 0]\n",
      " [1 1]\n",
      " [1 1]\n",
      " [0 0]\n",
      " [1 1]\n",
      " [0 1]\n",
      " [0 0]\n",
      " [0 0]\n",
      " [0 0]\n",
      " [0 0]\n",
      " [0 0]\n",
      " [1 1]\n",
      " [1 1]\n",
      " [0 0]\n",
      " [0 0]\n",
      " [1 1]\n",
      " [1 1]\n",
      " [0 0]\n",
      " [1 1]\n",
      " [0 0]\n",
      " [1 1]\n",
      " [1 1]\n",
      " [1 1]\n",
      " [1 0]\n",
      " [1 1]\n",
      " [1 1]\n",
      " [0 0]\n",
      " [1 1]\n",
      " [1 1]\n",
      " [0 0]\n",
      " [0 0]\n",
      " [1 1]\n",
      " [0 0]\n",
      " [0 0]\n",
      " [0 0]\n",
      " [1 1]\n",
      " [0 0]\n",
      " [0 0]\n",
      " [0 0]\n",
      " [0 0]\n",
      " [0 0]\n",
      " [1 1]\n",
      " [0 0]\n",
      " [1 1]\n",
      " [0 0]\n",
      " [0 0]\n",
      " [1 1]\n",
      " [1 1]\n",
      " [0 0]\n",
      " [1 1]\n",
      " [0 0]\n",
      " [0 0]\n",
      " [1 1]\n",
      " [0 0]\n",
      " [1 1]\n",
      " [0 1]\n",
      " [1 1]\n",
      " [1 1]\n",
      " [0 0]\n",
      " [0 0]\n",
      " [0 0]\n",
      " [0 0]\n",
      " [1 1]\n",
      " [1 1]\n",
      " [0 0]\n",
      " [0 0]\n",
      " [1 1]\n",
      " [0 0]\n",
      " [1 1]\n",
      " [0 0]\n",
      " [0 0]\n",
      " [0 0]\n",
      " [0 0]\n",
      " [0 0]\n",
      " [1 1]\n",
      " [0 0]\n",
      " [0 0]\n",
      " [0 0]\n",
      " [0 0]\n",
      " [0 0]\n",
      " [0 0]\n",
      " [0 0]\n",
      " [1 1]\n",
      " [0 1]\n",
      " [1 1]\n",
      " [1 1]\n",
      " [0 0]\n",
      " [0 0]\n",
      " [0 0]]\n"
     ]
    }
   ],
   "source": [
    "### Predicting the Test set results\n",
    "\n",
    "Y_pred = classifier_11nn.predict(X_test)\n",
    "print(np.concatenate((Y_pred.reshape(len(Y_pred), 1), Y_test.reshape(len(Y_test), 1)), 1))"
   ]
  },
  {
   "cell_type": "code",
   "execution_count": 54,
   "id": "9d9c5187",
   "metadata": {
    "execution": {
     "iopub.execute_input": "2022-07-24T05:55:37.742262Z",
     "iopub.status.busy": "2022-07-24T05:55:37.741028Z",
     "iopub.status.idle": "2022-07-24T05:55:37.753236Z",
     "shell.execute_reply": "2022-07-24T05:55:37.752176Z"
    },
    "papermill": {
     "duration": 0.066728,
     "end_time": "2022-07-24T05:55:37.756908",
     "exception": false,
     "start_time": "2022-07-24T05:55:37.690180",
     "status": "completed"
    },
    "tags": []
   },
   "outputs": [
    {
     "name": "stdout",
     "output_type": "stream",
     "text": [
      "[[68  1]\n",
      " [ 5 40]]\n",
      "The accuracy of this model is 94.74 %.\n",
      "The recall of this model is 88.89 %.\n"
     ]
    }
   ],
   "source": [
    "### Making the confusion matrix\n",
    "\n",
    "cm = confusion_matrix(Y_test, Y_pred)\n",
    "print(cm)\n",
    "\n",
    "### Printing the accuracy and recall of the model\n",
    "\n",
    "classifier_11nn_accuracy = round(100 * accuracy_score(Y_test, Y_pred), 2)\n",
    "model_accuracy['K - Nearest Neighbors (11 NN)'] = classifier_11nn_accuracy\n",
    "\n",
    "classifier_11nn_recall = round(100 * recall_score(Y_test, Y_pred), 2)\n",
    "model_recall['K - Nearest Neighbors (11 NN)'] = classifier_11nn_recall\n",
    "\n",
    "print('The accuracy of this model is {} %.'.format(classifier_11nn_accuracy))\n",
    "print('The recall of this model is {} %.'.format(classifier_11nn_recall))"
   ]
  },
  {
   "cell_type": "markdown",
   "id": "7648c903",
   "metadata": {
    "papermill": {
     "duration": 0.04167,
     "end_time": "2022-07-24T05:55:37.842041",
     "exception": false,
     "start_time": "2022-07-24T05:55:37.800371",
     "status": "completed"
    },
    "tags": []
   },
   "source": [
    "Now let's plot the accuracies of all the nearest neighbor models. We can see that the accuracy first increases, reaches a peak and then decreases."
   ]
  },
  {
   "cell_type": "code",
   "execution_count": 55,
   "id": "868040ca",
   "metadata": {
    "execution": {
     "iopub.execute_input": "2022-07-24T05:55:37.927086Z",
     "iopub.status.busy": "2022-07-24T05:55:37.926331Z",
     "iopub.status.idle": "2022-07-24T05:55:38.057844Z",
     "shell.execute_reply": "2022-07-24T05:55:38.056902Z"
    },
    "papermill": {
     "duration": 0.176867,
     "end_time": "2022-07-24T05:55:38.060598",
     "exception": false,
     "start_time": "2022-07-24T05:55:37.883731",
     "status": "completed"
    },
    "tags": []
   },
   "outputs": [
    {
     "data": {
      "image/png": "[encoded data removed]",
      "text/plain": [
       "<Figure size 432x288 with 1 Axes>"
      ]
     },
     "metadata": {
      "needs_background": "light"
     },
     "output_type": "display_data"
    }
   ],
   "source": [
    "### Looking at the accuracy graph of all the nearest neighbors\n",
    "\n",
    "labels = ['1NN', '3NN', '5NN', '7NN', '9NN', '11NN']\n",
    "values = [classifier_1nn_accuracy, classifier_3nn_accuracy, classifier_5nn_accuracy, \n",
    "          classifier_7nn_accuracy, classifier_9nn_accuracy, classifier_11nn_accuracy]\n",
    "\n",
    "plt.title('Accuracies of all the nearest neighbor models')\n",
    "plt.xlabel('Model')\n",
    "plt.ylabel('Accuracy')\n",
    "plt.plot(labels, values, '*-')\n",
    "plt.show()"
   ]
  },
  {
   "cell_type": "markdown",
   "id": "c4e0cc80",
   "metadata": {
    "papermill": {
     "duration": 0.041453,
     "end_time": "2022-07-24T05:55:38.143974",
     "exception": false,
     "start_time": "2022-07-24T05:55:38.102521",
     "status": "completed"
    },
    "tags": []
   },
   "source": [
    "##### 4.2.10 Applying Gaussian Naive Bayes Classification"
   ]
  },
  {
   "cell_type": "code",
   "execution_count": 56,
   "id": "df1bfeb4",
   "metadata": {
    "execution": {
     "iopub.execute_input": "2022-07-24T05:55:38.229919Z",
     "iopub.status.busy": "2022-07-24T05:55:38.229169Z",
     "iopub.status.idle": "2022-07-24T05:55:38.238804Z",
     "shell.execute_reply": "2022-07-24T05:55:38.237705Z"
    },
    "papermill": {
     "duration": 0.055508,
     "end_time": "2022-07-24T05:55:38.241510",
     "exception": false,
     "start_time": "2022-07-24T05:55:38.186002",
     "status": "completed"
    },
    "tags": []
   },
   "outputs": [
    {
     "data": {
      "text/plain": [
       "GaussianNB()"
      ]
     },
     "execution_count": 56,
     "metadata": {},
     "output_type": "execute_result"
    }
   ],
   "source": [
    "### Applying Naive Bayes Classification model\n",
    "\n",
    "naive_bayes_classifier = GaussianNB()\n",
    "naive_bayes_classifier.fit(X_train, Y_train)"
   ]
  },
  {
   "cell_type": "code",
   "execution_count": 57,
   "id": "de663959",
   "metadata": {
    "execution": {
     "iopub.execute_input": "2022-07-24T05:55:38.328060Z",
     "iopub.status.busy": "2022-07-24T05:55:38.327666Z",
     "iopub.status.idle": "2022-07-24T05:55:38.336622Z",
     "shell.execute_reply": "2022-07-24T05:55:38.335284Z"
    },
    "papermill": {
     "duration": 0.058477,
     "end_time": "2022-07-24T05:55:38.341893",
     "exception": false,
     "start_time": "2022-07-24T05:55:38.283416",
     "status": "completed"
    },
    "tags": []
   },
   "outputs": [
    {
     "name": "stdout",
     "output_type": "stream",
     "text": [
      "[[0 0]\n",
      " [0 0]\n",
      " [1 1]\n",
      " [1 1]\n",
      " [0 0]\n",
      " [0 0]\n",
      " [1 1]\n",
      " [0 0]\n",
      " [0 0]\n",
      " [1 1]\n",
      " [0 0]\n",
      " [0 1]\n",
      " [0 0]\n",
      " [0 0]\n",
      " [0 0]\n",
      " [0 0]\n",
      " [0 0]\n",
      " [1 1]\n",
      " [0 0]\n",
      " [0 0]\n",
      " [0 0]\n",
      " [1 1]\n",
      " [0 0]\n",
      " [0 0]\n",
      " [1 1]\n",
      " [0 0]\n",
      " [1 1]\n",
      " [1 1]\n",
      " [0 0]\n",
      " [1 1]\n",
      " [0 1]\n",
      " [0 0]\n",
      " [0 0]\n",
      " [0 0]\n",
      " [0 0]\n",
      " [0 0]\n",
      " [1 1]\n",
      " [1 1]\n",
      " [0 0]\n",
      " [0 0]\n",
      " [1 1]\n",
      " [1 1]\n",
      " [0 0]\n",
      " [1 1]\n",
      " [0 0]\n",
      " [1 1]\n",
      " [1 1]\n",
      " [1 1]\n",
      " [0 0]\n",
      " [1 1]\n",
      " [1 1]\n",
      " [0 0]\n",
      " [1 1]\n",
      " [1 1]\n",
      " [0 0]\n",
      " [0 0]\n",
      " [1 1]\n",
      " [0 0]\n",
      " [0 0]\n",
      " [0 0]\n",
      " [1 1]\n",
      " [0 0]\n",
      " [0 0]\n",
      " [0 0]\n",
      " [0 0]\n",
      " [0 0]\n",
      " [1 1]\n",
      " [0 0]\n",
      " [1 1]\n",
      " [0 0]\n",
      " [0 0]\n",
      " [1 1]\n",
      " [1 1]\n",
      " [0 0]\n",
      " [1 1]\n",
      " [1 0]\n",
      " [0 0]\n",
      " [1 1]\n",
      " [0 0]\n",
      " [1 1]\n",
      " [0 1]\n",
      " [1 1]\n",
      " [1 1]\n",
      " [0 0]\n",
      " [0 0]\n",
      " [0 0]\n",
      " [0 0]\n",
      " [1 1]\n",
      " [1 1]\n",
      " [0 0]\n",
      " [0 0]\n",
      " [1 1]\n",
      " [0 0]\n",
      " [1 1]\n",
      " [0 0]\n",
      " [0 0]\n",
      " [0 0]\n",
      " [0 0]\n",
      " [0 0]\n",
      " [1 1]\n",
      " [0 0]\n",
      " [0 0]\n",
      " [0 0]\n",
      " [0 0]\n",
      " [0 0]\n",
      " [0 0]\n",
      " [0 0]\n",
      " [1 1]\n",
      " [0 1]\n",
      " [1 1]\n",
      " [1 1]\n",
      " [0 0]\n",
      " [0 0]\n",
      " [0 0]]\n"
     ]
    }
   ],
   "source": [
    "### Predicting the Test set results\n",
    "\n",
    "Y_pred = naive_bayes_classifier.predict(X_test)\n",
    "print(np.concatenate((Y_pred.reshape(len(Y_pred), 1), Y_test.reshape(len(Y_test), 1)), 1))"
   ]
  },
  {
   "cell_type": "code",
   "execution_count": 58,
   "id": "9afb55db",
   "metadata": {
    "execution": {
     "iopub.execute_input": "2022-07-24T05:55:38.428604Z",
     "iopub.status.busy": "2022-07-24T05:55:38.428182Z",
     "iopub.status.idle": "2022-07-24T05:55:38.439515Z",
     "shell.execute_reply": "2022-07-24T05:55:38.438260Z"
    },
    "papermill": {
     "duration": 0.057572,
     "end_time": "2022-07-24T05:55:38.442014",
     "exception": false,
     "start_time": "2022-07-24T05:55:38.384442",
     "status": "completed"
    },
    "tags": []
   },
   "outputs": [
    {
     "name": "stdout",
     "output_type": "stream",
     "text": [
      "[[68  1]\n",
      " [ 4 41]]\n",
      "The accuracy of this model is 95.61 %.\n",
      "The recall of this model is 91.11 %.\n"
     ]
    }
   ],
   "source": [
    "### Making the confusion matrix\n",
    "\n",
    "cm = confusion_matrix(Y_test, Y_pred)\n",
    "print(cm)\n",
    "\n",
    "### Printing the accuracy and recall of the model\n",
    "\n",
    "naive_bayes_accuracy = round(100 * accuracy_score(Y_test, Y_pred), 2)\n",
    "model_accuracy['Gaussian Naive Bayes'] = naive_bayes_accuracy\n",
    "\n",
    "naive_bayes_recall = round(100 * recall_score(Y_test, Y_pred), 2)\n",
    "model_recall['Gaussian Naive Bayes'] = naive_bayes_recall\n",
    "\n",
    "print('The accuracy of this model is {} %.'.format(naive_bayes_accuracy))\n",
    "print('The recall of this model is {} %.'.format(naive_bayes_recall))"
   ]
  },
  {
   "cell_type": "markdown",
   "id": "d697caf4",
   "metadata": {
    "papermill": {
     "duration": 0.044398,
     "end_time": "2022-07-24T05:55:38.529146",
     "exception": false,
     "start_time": "2022-07-24T05:55:38.484748",
     "status": "completed"
    },
    "tags": []
   },
   "source": [
    "##### 4.2.11 Applying Decision Tree Classification"
   ]
  },
  {
   "cell_type": "code",
   "execution_count": 59,
   "id": "893bd7b1",
   "metadata": {
    "execution": {
     "iopub.execute_input": "2022-07-24T05:55:38.619250Z",
     "iopub.status.busy": "2022-07-24T05:55:38.617901Z",
     "iopub.status.idle": "2022-07-24T05:55:38.636836Z",
     "shell.execute_reply": "2022-07-24T05:55:38.635468Z"
    },
    "papermill": {
     "duration": 0.065499,
     "end_time": "2022-07-24T05:55:38.639682",
     "exception": false,
     "start_time": "2022-07-24T05:55:38.574183",
     "status": "completed"
    },
    "tags": []
   },
   "outputs": [
    {
     "data": {
      "text/plain": [
       "DecisionTreeClassifier(criterion='entropy', random_state=27)"
      ]
     },
     "execution_count": 59,
     "metadata": {},
     "output_type": "execute_result"
    }
   ],
   "source": [
    "### Applying Decision Tree Classification model\n",
    "\n",
    "decision_tree_classifier = DecisionTreeClassifier(criterion = 'entropy', random_state = 27)\n",
    "decision_tree_classifier.fit(X_train, Y_train)"
   ]
  },
  {
   "cell_type": "code",
   "execution_count": 60,
   "id": "78ec4506",
   "metadata": {
    "execution": {
     "iopub.execute_input": "2022-07-24T05:55:38.728012Z",
     "iopub.status.busy": "2022-07-24T05:55:38.727634Z",
     "iopub.status.idle": "2022-07-24T05:55:38.735090Z",
     "shell.execute_reply": "2022-07-24T05:55:38.734281Z"
    },
    "papermill": {
     "duration": 0.054784,
     "end_time": "2022-07-24T05:55:38.738042",
     "exception": false,
     "start_time": "2022-07-24T05:55:38.683258",
     "status": "completed"
    },
    "tags": []
   },
   "outputs": [
    {
     "name": "stdout",
     "output_type": "stream",
     "text": [
      "[[1 0]\n",
      " [0 0]\n",
      " [1 1]\n",
      " [1 1]\n",
      " [0 0]\n",
      " [1 0]\n",
      " [1 1]\n",
      " [0 0]\n",
      " [0 0]\n",
      " [1 1]\n",
      " [0 0]\n",
      " [1 1]\n",
      " [0 0]\n",
      " [0 0]\n",
      " [1 0]\n",
      " [0 0]\n",
      " [0 0]\n",
      " [1 1]\n",
      " [0 0]\n",
      " [0 0]\n",
      " [0 0]\n",
      " [1 1]\n",
      " [0 0]\n",
      " [0 0]\n",
      " [1 1]\n",
      " [0 0]\n",
      " [1 1]\n",
      " [1 1]\n",
      " [0 0]\n",
      " [1 1]\n",
      " [0 1]\n",
      " [0 0]\n",
      " [0 0]\n",
      " [0 0]\n",
      " [0 0]\n",
      " [0 0]\n",
      " [1 1]\n",
      " [1 1]\n",
      " [0 0]\n",
      " [0 0]\n",
      " [1 1]\n",
      " [1 1]\n",
      " [0 0]\n",
      " [1 1]\n",
      " [0 0]\n",
      " [1 1]\n",
      " [1 1]\n",
      " [1 1]\n",
      " [1 0]\n",
      " [1 1]\n",
      " [1 1]\n",
      " [0 0]\n",
      " [1 1]\n",
      " [1 1]\n",
      " [0 0]\n",
      " [0 0]\n",
      " [1 1]\n",
      " [0 0]\n",
      " [0 0]\n",
      " [0 0]\n",
      " [1 1]\n",
      " [0 0]\n",
      " [0 0]\n",
      " [0 0]\n",
      " [0 0]\n",
      " [0 0]\n",
      " [1 1]\n",
      " [0 0]\n",
      " [1 1]\n",
      " [0 0]\n",
      " [0 0]\n",
      " [1 1]\n",
      " [1 1]\n",
      " [0 0]\n",
      " [1 1]\n",
      " [1 0]\n",
      " [1 0]\n",
      " [1 1]\n",
      " [0 0]\n",
      " [1 1]\n",
      " [1 1]\n",
      " [1 1]\n",
      " [1 1]\n",
      " [0 0]\n",
      " [0 0]\n",
      " [0 0]\n",
      " [0 0]\n",
      " [1 1]\n",
      " [1 1]\n",
      " [0 0]\n",
      " [0 0]\n",
      " [1 1]\n",
      " [0 0]\n",
      " [0 1]\n",
      " [0 0]\n",
      " [0 0]\n",
      " [0 0]\n",
      " [0 0]\n",
      " [0 0]\n",
      " [1 1]\n",
      " [0 0]\n",
      " [0 0]\n",
      " [0 0]\n",
      " [0 0]\n",
      " [0 0]\n",
      " [0 0]\n",
      " [0 0]\n",
      " [1 1]\n",
      " [0 1]\n",
      " [1 1]\n",
      " [1 1]\n",
      " [0 0]\n",
      " [0 0]\n",
      " [0 0]]\n"
     ]
    }
   ],
   "source": [
    "### Predicting the Test set results\n",
    "\n",
    "Y_pred = decision_tree_classifier.predict(X_test)\n",
    "print(np.concatenate((Y_pred.reshape(len(Y_pred), 1), Y_test.reshape(len(Y_test), 1)), 1))"
   ]
  },
  {
   "cell_type": "code",
   "execution_count": 61,
   "id": "6edf823f",
   "metadata": {
    "execution": {
     "iopub.execute_input": "2022-07-24T05:55:38.826640Z",
     "iopub.status.busy": "2022-07-24T05:55:38.826176Z",
     "iopub.status.idle": "2022-07-24T05:55:38.838008Z",
     "shell.execute_reply": "2022-07-24T05:55:38.836634Z"
    },
    "papermill": {
     "duration": 0.059086,
     "end_time": "2022-07-24T05:55:38.840839",
     "exception": false,
     "start_time": "2022-07-24T05:55:38.781753",
     "status": "completed"
    },
    "tags": []
   },
   "outputs": [
    {
     "name": "stdout",
     "output_type": "stream",
     "text": [
      "[[63  6]\n",
      " [ 3 42]]\n",
      "The accuracy of this model is 92.11 %.\n",
      "The recall of this model is 93.33 %.\n"
     ]
    }
   ],
   "source": [
    "### Making the confusion matrix\n",
    "\n",
    "cm = confusion_matrix(Y_test, Y_pred)\n",
    "print(cm)\n",
    "\n",
    "### Printing the accuracy and recall of the model\n",
    "\n",
    "decision_tree_accuracy = round(100 * accuracy_score(Y_test, Y_pred), 2)\n",
    "model_accuracy['Decision Tree Classification'] = decision_tree_accuracy\n",
    "\n",
    "decision_tree_recall = round(100 * recall_score(Y_test, Y_pred), 2)\n",
    "model_recall['Decision Tree Classification'] = decision_tree_recall\n",
    "\n",
    "print('The accuracy of this model is {} %.'.format(decision_tree_accuracy))\n",
    "print('The recall of this model is {} %.'.format(decision_tree_recall))"
   ]
  },
  {
   "cell_type": "markdown",
   "id": "0c902e1a",
   "metadata": {
    "papermill": {
     "duration": 0.043506,
     "end_time": "2022-07-24T05:55:38.927209",
     "exception": false,
     "start_time": "2022-07-24T05:55:38.883703",
     "status": "completed"
    },
    "tags": []
   },
   "source": [
    "##### 4.2.12 Applying Random Forest Classification (10 trees)"
   ]
  },
  {
   "cell_type": "code",
   "execution_count": 62,
   "id": "171a56eb",
   "metadata": {
    "execution": {
     "iopub.execute_input": "2022-07-24T05:55:39.015599Z",
     "iopub.status.busy": "2022-07-24T05:55:39.015169Z",
     "iopub.status.idle": "2022-07-24T05:55:39.055737Z",
     "shell.execute_reply": "2022-07-24T05:55:39.054407Z"
    },
    "papermill": {
     "duration": 0.087588,
     "end_time": "2022-07-24T05:55:39.058505",
     "exception": false,
     "start_time": "2022-07-24T05:55:38.970917",
     "status": "completed"
    },
    "tags": []
   },
   "outputs": [
    {
     "data": {
      "text/plain": [
       "RandomForestClassifier(criterion='entropy', n_estimators=10, random_state=27)"
      ]
     },
     "execution_count": 62,
     "metadata": {},
     "output_type": "execute_result"
    }
   ],
   "source": [
    "### Applying Random Forest Classification model (10 trees)\n",
    "\n",
    "random_forest_10_classifier = RandomForestClassifier(n_estimators = 10, criterion = 'entropy', random_state = 27)\n",
    "random_forest_10_classifier.fit(X_train, Y_train)"
   ]
  },
  {
   "cell_type": "code",
   "execution_count": 63,
   "id": "b5ca33fb",
   "metadata": {
    "execution": {
     "iopub.execute_input": "2022-07-24T05:55:39.147659Z",
     "iopub.status.busy": "2022-07-24T05:55:39.147238Z",
     "iopub.status.idle": "2022-07-24T05:55:39.159716Z",
     "shell.execute_reply": "2022-07-24T05:55:39.158156Z"
    },
    "papermill": {
     "duration": 0.060309,
     "end_time": "2022-07-24T05:55:39.162625",
     "exception": false,
     "start_time": "2022-07-24T05:55:39.102316",
     "status": "completed"
    },
    "tags": []
   },
   "outputs": [
    {
     "name": "stdout",
     "output_type": "stream",
     "text": [
      "[[1 0]\n",
      " [0 0]\n",
      " [1 1]\n",
      " [1 1]\n",
      " [0 0]\n",
      " [0 0]\n",
      " [1 1]\n",
      " [0 0]\n",
      " [1 0]\n",
      " [1 1]\n",
      " [0 0]\n",
      " [1 1]\n",
      " [0 0]\n",
      " [0 0]\n",
      " [0 0]\n",
      " [0 0]\n",
      " [0 0]\n",
      " [1 1]\n",
      " [0 0]\n",
      " [0 0]\n",
      " [0 0]\n",
      " [1 1]\n",
      " [0 0]\n",
      " [0 0]\n",
      " [1 1]\n",
      " [0 0]\n",
      " [1 1]\n",
      " [0 1]\n",
      " [0 0]\n",
      " [1 1]\n",
      " [0 1]\n",
      " [0 0]\n",
      " [0 0]\n",
      " [0 0]\n",
      " [0 0]\n",
      " [0 0]\n",
      " [1 1]\n",
      " [1 1]\n",
      " [0 0]\n",
      " [0 0]\n",
      " [1 1]\n",
      " [1 1]\n",
      " [0 0]\n",
      " [1 1]\n",
      " [0 0]\n",
      " [1 1]\n",
      " [1 1]\n",
      " [1 1]\n",
      " [0 0]\n",
      " [1 1]\n",
      " [1 1]\n",
      " [0 0]\n",
      " [1 1]\n",
      " [1 1]\n",
      " [0 0]\n",
      " [0 0]\n",
      " [1 1]\n",
      " [0 0]\n",
      " [0 0]\n",
      " [0 0]\n",
      " [1 1]\n",
      " [0 0]\n",
      " [0 0]\n",
      " [0 0]\n",
      " [0 0]\n",
      " [0 0]\n",
      " [1 1]\n",
      " [0 0]\n",
      " [1 1]\n",
      " [0 0]\n",
      " [0 0]\n",
      " [1 1]\n",
      " [1 1]\n",
      " [0 0]\n",
      " [1 1]\n",
      " [0 0]\n",
      " [0 0]\n",
      " [1 1]\n",
      " [0 0]\n",
      " [1 1]\n",
      " [0 1]\n",
      " [1 1]\n",
      " [1 1]\n",
      " [0 0]\n",
      " [0 0]\n",
      " [0 0]\n",
      " [0 0]\n",
      " [1 1]\n",
      " [1 1]\n",
      " [0 0]\n",
      " [0 0]\n",
      " [1 1]\n",
      " [0 0]\n",
      " [1 1]\n",
      " [0 0]\n",
      " [0 0]\n",
      " [0 0]\n",
      " [0 0]\n",
      " [0 0]\n",
      " [1 1]\n",
      " [0 0]\n",
      " [0 0]\n",
      " [0 0]\n",
      " [0 0]\n",
      " [0 0]\n",
      " [0 0]\n",
      " [0 0]\n",
      " [1 1]\n",
      " [0 1]\n",
      " [1 1]\n",
      " [1 1]\n",
      " [0 0]\n",
      " [0 0]\n",
      " [0 0]]\n"
     ]
    }
   ],
   "source": [
    "### Predicting the Test set results\n",
    "\n",
    "Y_pred = random_forest_10_classifier.predict(X_test)\n",
    "print(np.concatenate((Y_pred.reshape(len(Y_pred), 1), Y_test.reshape(len(Y_test), 1)), 1))"
   ]
  },
  {
   "cell_type": "code",
   "execution_count": 64,
   "id": "87329ea6",
   "metadata": {
    "execution": {
     "iopub.execute_input": "2022-07-24T05:55:39.250974Z",
     "iopub.status.busy": "2022-07-24T05:55:39.250559Z",
     "iopub.status.idle": "2022-07-24T05:55:39.262796Z",
     "shell.execute_reply": "2022-07-24T05:55:39.261555Z"
    },
    "papermill": {
     "duration": 0.05957,
     "end_time": "2022-07-24T05:55:39.265495",
     "exception": false,
     "start_time": "2022-07-24T05:55:39.205925",
     "status": "completed"
    },
    "tags": []
   },
   "outputs": [
    {
     "name": "stdout",
     "output_type": "stream",
     "text": [
      "[[67  2]\n",
      " [ 4 41]]\n",
      "The accuracy of this model is 94.74 %.\n",
      "The recall of this model is 91.11 %.\n"
     ]
    }
   ],
   "source": [
    "### Making the confusion matrix\n",
    "\n",
    "cm = confusion_matrix(Y_test, Y_pred)\n",
    "print(cm)\n",
    "\n",
    "### Printing the accuracy and recall of the model\n",
    "\n",
    "random_forest_10_accuracy = round(100 * accuracy_score(Y_test, Y_pred), 2)\n",
    "model_accuracy['Random Forest Classification (10 trees)'] = random_forest_10_accuracy\n",
    "\n",
    "random_forest_10_recall = round(100 * recall_score(Y_test, Y_pred), 2)\n",
    "model_recall['Random Forest Classification (10 trees)'] = random_forest_10_recall\n",
    "\n",
    "print('The accuracy of this model is {} %.'.format(random_forest_10_accuracy))\n",
    "print('The recall of this model is {} %.'.format(random_forest_10_recall))"
   ]
  },
  {
   "cell_type": "markdown",
   "id": "b9a83dc2",
   "metadata": {
    "papermill": {
     "duration": 0.043148,
     "end_time": "2022-07-24T05:55:39.352554",
     "exception": false,
     "start_time": "2022-07-24T05:55:39.309406",
     "status": "completed"
    },
    "tags": []
   },
   "source": [
    "##### 4.2.13 Applying Random Forest Classification (25 trees)"
   ]
  },
  {
   "cell_type": "code",
   "execution_count": 65,
   "id": "01193a1f",
   "metadata": {
    "execution": {
     "iopub.execute_input": "2022-07-24T05:55:39.441800Z",
     "iopub.status.busy": "2022-07-24T05:55:39.441402Z",
     "iopub.status.idle": "2022-07-24T05:55:39.516059Z",
     "shell.execute_reply": "2022-07-24T05:55:39.514870Z"
    },
    "papermill": {
     "duration": 0.122416,
     "end_time": "2022-07-24T05:55:39.518628",
     "exception": false,
     "start_time": "2022-07-24T05:55:39.396212",
     "status": "completed"
    },
    "tags": []
   },
   "outputs": [
    {
     "data": {
      "text/plain": [
       "RandomForestClassifier(criterion='entropy', n_estimators=25, random_state=27)"
      ]
     },
     "execution_count": 65,
     "metadata": {},
     "output_type": "execute_result"
    }
   ],
   "source": [
    "### Applying Random Forest Classification model (25 trees)\n",
    "\n",
    "random_forest_25_classifier = RandomForestClassifier(n_estimators = 25, criterion = 'entropy', random_state = 27)\n",
    "random_forest_25_classifier.fit(X_train, Y_train)"
   ]
  },
  {
   "cell_type": "code",
   "execution_count": 66,
   "id": "1f476021",
   "metadata": {
    "execution": {
     "iopub.execute_input": "2022-07-24T05:55:39.609173Z",
     "iopub.status.busy": "2022-07-24T05:55:39.608162Z",
     "iopub.status.idle": "2022-07-24T05:55:39.621436Z",
     "shell.execute_reply": "2022-07-24T05:55:39.619322Z"
    },
    "papermill": {
     "duration": 0.062613,
     "end_time": "2022-07-24T05:55:39.625747",
     "exception": false,
     "start_time": "2022-07-24T05:55:39.563134",
     "status": "completed"
    },
    "tags": []
   },
   "outputs": [
    {
     "name": "stdout",
     "output_type": "stream",
     "text": [
      "[[0 0]\n",
      " [0 0]\n",
      " [1 1]\n",
      " [1 1]\n",
      " [0 0]\n",
      " [0 0]\n",
      " [1 1]\n",
      " [0 0]\n",
      " [1 0]\n",
      " [1 1]\n",
      " [0 0]\n",
      " [1 1]\n",
      " [0 0]\n",
      " [0 0]\n",
      " [0 0]\n",
      " [0 0]\n",
      " [0 0]\n",
      " [1 1]\n",
      " [0 0]\n",
      " [0 0]\n",
      " [0 0]\n",
      " [1 1]\n",
      " [0 0]\n",
      " [0 0]\n",
      " [1 1]\n",
      " [0 0]\n",
      " [1 1]\n",
      " [1 1]\n",
      " [0 0]\n",
      " [1 1]\n",
      " [0 1]\n",
      " [0 0]\n",
      " [0 0]\n",
      " [0 0]\n",
      " [0 0]\n",
      " [0 0]\n",
      " [1 1]\n",
      " [1 1]\n",
      " [0 0]\n",
      " [0 0]\n",
      " [1 1]\n",
      " [1 1]\n",
      " [0 0]\n",
      " [1 1]\n",
      " [0 0]\n",
      " [1 1]\n",
      " [1 1]\n",
      " [1 1]\n",
      " [0 0]\n",
      " [1 1]\n",
      " [1 1]\n",
      " [0 0]\n",
      " [1 1]\n",
      " [1 1]\n",
      " [0 0]\n",
      " [0 0]\n",
      " [1 1]\n",
      " [0 0]\n",
      " [0 0]\n",
      " [0 0]\n",
      " [1 1]\n",
      " [0 0]\n",
      " [0 0]\n",
      " [0 0]\n",
      " [0 0]\n",
      " [0 0]\n",
      " [1 1]\n",
      " [0 0]\n",
      " [1 1]\n",
      " [0 0]\n",
      " [0 0]\n",
      " [1 1]\n",
      " [1 1]\n",
      " [0 0]\n",
      " [1 1]\n",
      " [0 0]\n",
      " [0 0]\n",
      " [1 1]\n",
      " [0 0]\n",
      " [1 1]\n",
      " [0 1]\n",
      " [1 1]\n",
      " [1 1]\n",
      " [0 0]\n",
      " [0 0]\n",
      " [0 0]\n",
      " [0 0]\n",
      " [1 1]\n",
      " [1 1]\n",
      " [0 0]\n",
      " [0 0]\n",
      " [1 1]\n",
      " [0 0]\n",
      " [1 1]\n",
      " [0 0]\n",
      " [0 0]\n",
      " [0 0]\n",
      " [0 0]\n",
      " [0 0]\n",
      " [1 1]\n",
      " [0 0]\n",
      " [0 0]\n",
      " [0 0]\n",
      " [0 0]\n",
      " [0 0]\n",
      " [0 0]\n",
      " [0 0]\n",
      " [1 1]\n",
      " [0 1]\n",
      " [1 1]\n",
      " [1 1]\n",
      " [0 0]\n",
      " [0 0]\n",
      " [0 0]]\n"
     ]
    }
   ],
   "source": [
    "### Predicting the Test set results\n",
    "\n",
    "Y_pred = random_forest_25_classifier.predict(X_test)\n",
    "print(np.concatenate((Y_pred.reshape(len(Y_pred), 1), Y_test.reshape(len(Y_test), 1)), 1))"
   ]
  },
  {
   "cell_type": "code",
   "execution_count": 67,
   "id": "d322cc4b",
   "metadata": {
    "execution": {
     "iopub.execute_input": "2022-07-24T05:55:39.718926Z",
     "iopub.status.busy": "2022-07-24T05:55:39.718041Z",
     "iopub.status.idle": "2022-07-24T05:55:39.729960Z",
     "shell.execute_reply": "2022-07-24T05:55:39.728676Z"
    },
    "papermill": {
     "duration": 0.06133,
     "end_time": "2022-07-24T05:55:39.732744",
     "exception": false,
     "start_time": "2022-07-24T05:55:39.671414",
     "status": "completed"
    },
    "tags": []
   },
   "outputs": [
    {
     "name": "stdout",
     "output_type": "stream",
     "text": [
      "[[68  1]\n",
      " [ 3 42]]\n",
      "The accuracy of this model is 96.49 %.\n",
      "The recall of this model is 93.33 %.\n"
     ]
    }
   ],
   "source": [
    "### Making the confusion matrix\n",
    "\n",
    "cm = confusion_matrix(Y_test, Y_pred)\n",
    "print(cm)\n",
    "\n",
    "### Printing the accuracy and recall of the model\n",
    "\n",
    "random_forest_25_accuracy = round(100 * accuracy_score(Y_test, Y_pred), 2)\n",
    "model_accuracy['Random Forest Classification (25 trees)'] = random_forest_25_accuracy\n",
    "\n",
    "random_forest_25_recall = round(100 * recall_score(Y_test, Y_pred), 2)\n",
    "model_recall['Random Forest Classification (25 trees)'] = random_forest_25_recall\n",
    "\n",
    "print('The accuracy of this model is {} %.'.format(random_forest_25_accuracy))\n",
    "print('The recall of this model is {} %.'.format(random_forest_25_recall))"
   ]
  },
  {
   "cell_type": "markdown",
   "id": "4e598d45",
   "metadata": {
    "papermill": {
     "duration": 0.045476,
     "end_time": "2022-07-24T05:55:39.821488",
     "exception": false,
     "start_time": "2022-07-24T05:55:39.776012",
     "status": "completed"
    },
    "tags": []
   },
   "source": [
    "##### 4.2.14 Applying Random Forest Classification (50 trees)"
   ]
  },
  {
   "cell_type": "code",
   "execution_count": 68,
   "id": "772fbd3b",
   "metadata": {
    "execution": {
     "iopub.execute_input": "2022-07-24T05:55:39.913839Z",
     "iopub.status.busy": "2022-07-24T05:55:39.913045Z",
     "iopub.status.idle": "2022-07-24T05:55:40.051174Z",
     "shell.execute_reply": "2022-07-24T05:55:40.049906Z"
    },
    "papermill": {
     "duration": 0.187735,
     "end_time": "2022-07-24T05:55:40.054271",
     "exception": false,
     "start_time": "2022-07-24T05:55:39.866536",
     "status": "completed"
    },
    "tags": []
   },
   "outputs": [
    {
     "data": {
      "text/plain": [
       "RandomForestClassifier(criterion='entropy', n_estimators=50, random_state=27)"
      ]
     },
     "execution_count": 68,
     "metadata": {},
     "output_type": "execute_result"
    }
   ],
   "source": [
    "### Applying Random Forest Classification model (50 trees)\n",
    "\n",
    "random_forest_50_classifier = RandomForestClassifier(n_estimators = 50, criterion = 'entropy', random_state = 27)\n",
    "random_forest_50_classifier.fit(X_train, Y_train)"
   ]
  },
  {
   "cell_type": "code",
   "execution_count": 69,
   "id": "3267e12a",
   "metadata": {
    "execution": {
     "iopub.execute_input": "2022-07-24T05:55:40.147462Z",
     "iopub.status.busy": "2022-07-24T05:55:40.146264Z",
     "iopub.status.idle": "2022-07-24T05:55:40.162869Z",
     "shell.execute_reply": "2022-07-24T05:55:40.160719Z"
    },
    "papermill": {
     "duration": 0.06763,
     "end_time": "2022-07-24T05:55:40.166568",
     "exception": false,
     "start_time": "2022-07-24T05:55:40.098938",
     "status": "completed"
    },
    "tags": []
   },
   "outputs": [
    {
     "name": "stdout",
     "output_type": "stream",
     "text": [
      "[[0 0]\n",
      " [0 0]\n",
      " [1 1]\n",
      " [1 1]\n",
      " [0 0]\n",
      " [0 0]\n",
      " [1 1]\n",
      " [0 0]\n",
      " [1 0]\n",
      " [1 1]\n",
      " [0 0]\n",
      " [1 1]\n",
      " [0 0]\n",
      " [0 0]\n",
      " [0 0]\n",
      " [0 0]\n",
      " [0 0]\n",
      " [1 1]\n",
      " [0 0]\n",
      " [0 0]\n",
      " [0 0]\n",
      " [1 1]\n",
      " [0 0]\n",
      " [0 0]\n",
      " [1 1]\n",
      " [0 0]\n",
      " [1 1]\n",
      " [1 1]\n",
      " [0 0]\n",
      " [1 1]\n",
      " [0 1]\n",
      " [0 0]\n",
      " [0 0]\n",
      " [0 0]\n",
      " [0 0]\n",
      " [0 0]\n",
      " [1 1]\n",
      " [1 1]\n",
      " [0 0]\n",
      " [0 0]\n",
      " [1 1]\n",
      " [1 1]\n",
      " [0 0]\n",
      " [1 1]\n",
      " [0 0]\n",
      " [1 1]\n",
      " [1 1]\n",
      " [1 1]\n",
      " [0 0]\n",
      " [0 1]\n",
      " [1 1]\n",
      " [0 0]\n",
      " [1 1]\n",
      " [1 1]\n",
      " [0 0]\n",
      " [0 0]\n",
      " [1 1]\n",
      " [0 0]\n",
      " [0 0]\n",
      " [0 0]\n",
      " [1 1]\n",
      " [0 0]\n",
      " [0 0]\n",
      " [0 0]\n",
      " [0 0]\n",
      " [0 0]\n",
      " [1 1]\n",
      " [0 0]\n",
      " [1 1]\n",
      " [0 0]\n",
      " [0 0]\n",
      " [1 1]\n",
      " [1 1]\n",
      " [0 0]\n",
      " [1 1]\n",
      " [1 0]\n",
      " [0 0]\n",
      " [1 1]\n",
      " [0 0]\n",
      " [1 1]\n",
      " [1 1]\n",
      " [1 1]\n",
      " [1 1]\n",
      " [0 0]\n",
      " [0 0]\n",
      " [0 0]\n",
      " [0 0]\n",
      " [1 1]\n",
      " [1 1]\n",
      " [0 0]\n",
      " [0 0]\n",
      " [1 1]\n",
      " [0 0]\n",
      " [1 1]\n",
      " [0 0]\n",
      " [0 0]\n",
      " [0 0]\n",
      " [0 0]\n",
      " [0 0]\n",
      " [1 1]\n",
      " [0 0]\n",
      " [0 0]\n",
      " [0 0]\n",
      " [0 0]\n",
      " [0 0]\n",
      " [0 0]\n",
      " [0 0]\n",
      " [1 1]\n",
      " [0 1]\n",
      " [1 1]\n",
      " [1 1]\n",
      " [0 0]\n",
      " [0 0]\n",
      " [0 0]]\n"
     ]
    }
   ],
   "source": [
    "### Predicting the Test set results\n",
    "\n",
    "Y_pred = random_forest_50_classifier.predict(X_test)\n",
    "print(np.concatenate((Y_pred.reshape(len(Y_pred), 1), Y_test.reshape(len(Y_test), 1)), 1))"
   ]
  },
  {
   "cell_type": "code",
   "execution_count": 70,
   "id": "af5503b2",
   "metadata": {
    "execution": {
     "iopub.execute_input": "2022-07-24T05:55:40.257435Z",
     "iopub.status.busy": "2022-07-24T05:55:40.256644Z",
     "iopub.status.idle": "2022-07-24T05:55:40.267917Z",
     "shell.execute_reply": "2022-07-24T05:55:40.266737Z"
    },
    "papermill": {
     "duration": 0.058966,
     "end_time": "2022-07-24T05:55:40.270500",
     "exception": false,
     "start_time": "2022-07-24T05:55:40.211534",
     "status": "completed"
    },
    "tags": []
   },
   "outputs": [
    {
     "name": "stdout",
     "output_type": "stream",
     "text": [
      "[[67  2]\n",
      " [ 3 42]]\n",
      "The accuracy of this model is 95.61 %.\n",
      "The recall of this model is 93.33 %.\n"
     ]
    }
   ],
   "source": [
    "### Making the confusion matrix\n",
    "\n",
    "cm = confusion_matrix(Y_test, Y_pred)\n",
    "print(cm)\n",
    "\n",
    "### Printing the accuracy and recall of the model\n",
    "\n",
    "random_forest_50_accuracy = round(100 * accuracy_score(Y_test, Y_pred), 2)\n",
    "model_accuracy['Random Forest Classification (50 trees)'] = random_forest_50_accuracy\n",
    "\n",
    "random_forest_50_recall = round(100 * recall_score(Y_test, Y_pred), 2)\n",
    "model_recall['Random Forest Classification (50 trees)'] = random_forest_50_recall\n",
    "\n",
    "print('The accuracy of this model is {} %.'.format(random_forest_50_accuracy))\n",
    "print('The recall of this model is {} %.'.format(random_forest_50_recall))"
   ]
  },
  {
   "cell_type": "markdown",
   "id": "464f82b0",
   "metadata": {
    "papermill": {
     "duration": 0.043722,
     "end_time": "2022-07-24T05:55:40.358327",
     "exception": false,
     "start_time": "2022-07-24T05:55:40.314605",
     "status": "completed"
    },
    "tags": []
   },
   "source": [
    "##### 4.2.15 Applying Random Forest Classification (100 trees)"
   ]
  },
  {
   "cell_type": "code",
   "execution_count": 71,
   "id": "94325785",
   "metadata": {
    "execution": {
     "iopub.execute_input": "2022-07-24T05:55:40.453521Z",
     "iopub.status.busy": "2022-07-24T05:55:40.452105Z",
     "iopub.status.idle": "2022-07-24T05:55:40.720160Z",
     "shell.execute_reply": "2022-07-24T05:55:40.719167Z"
    },
    "papermill": {
     "duration": 0.319845,
     "end_time": "2022-07-24T05:55:40.722615",
     "exception": false,
     "start_time": "2022-07-24T05:55:40.402770",
     "status": "completed"
    },
    "tags": []
   },
   "outputs": [
    {
     "data": {
      "text/plain": [
       "RandomForestClassifier(criterion='entropy', random_state=27)"
      ]
     },
     "execution_count": 71,
     "metadata": {},
     "output_type": "execute_result"
    }
   ],
   "source": [
    "### Applying Random Forest Classification model (100 trees)\n",
    "\n",
    "random_forest_100_classifier = RandomForestClassifier(n_estimators = 100, criterion = 'entropy', random_state = 27)\n",
    "random_forest_100_classifier.fit(X_train, Y_train)"
   ]
  },
  {
   "cell_type": "code",
   "execution_count": 72,
   "id": "4b4939cc",
   "metadata": {
    "execution": {
     "iopub.execute_input": "2022-07-24T05:55:40.813929Z",
     "iopub.status.busy": "2022-07-24T05:55:40.812695Z",
     "iopub.status.idle": "2022-07-24T05:55:40.835054Z",
     "shell.execute_reply": "2022-07-24T05:55:40.834059Z"
    },
    "papermill": {
     "duration": 0.071648,
     "end_time": "2022-07-24T05:55:40.838169",
     "exception": false,
     "start_time": "2022-07-24T05:55:40.766521",
     "status": "completed"
    },
    "tags": []
   },
   "outputs": [
    {
     "name": "stdout",
     "output_type": "stream",
     "text": [
      "[[0 0]\n",
      " [0 0]\n",
      " [1 1]\n",
      " [1 1]\n",
      " [0 0]\n",
      " [0 0]\n",
      " [1 1]\n",
      " [0 0]\n",
      " [1 0]\n",
      " [1 1]\n",
      " [0 0]\n",
      " [1 1]\n",
      " [0 0]\n",
      " [0 0]\n",
      " [0 0]\n",
      " [0 0]\n",
      " [0 0]\n",
      " [1 1]\n",
      " [0 0]\n",
      " [0 0]\n",
      " [0 0]\n",
      " [1 1]\n",
      " [0 0]\n",
      " [0 0]\n",
      " [1 1]\n",
      " [0 0]\n",
      " [1 1]\n",
      " [1 1]\n",
      " [0 0]\n",
      " [1 1]\n",
      " [0 1]\n",
      " [0 0]\n",
      " [0 0]\n",
      " [0 0]\n",
      " [0 0]\n",
      " [0 0]\n",
      " [1 1]\n",
      " [1 1]\n",
      " [0 0]\n",
      " [0 0]\n",
      " [1 1]\n",
      " [1 1]\n",
      " [0 0]\n",
      " [1 1]\n",
      " [0 0]\n",
      " [1 1]\n",
      " [1 1]\n",
      " [1 1]\n",
      " [0 0]\n",
      " [0 1]\n",
      " [1 1]\n",
      " [0 0]\n",
      " [1 1]\n",
      " [1 1]\n",
      " [0 0]\n",
      " [0 0]\n",
      " [1 1]\n",
      " [0 0]\n",
      " [0 0]\n",
      " [0 0]\n",
      " [1 1]\n",
      " [0 0]\n",
      " [0 0]\n",
      " [0 0]\n",
      " [0 0]\n",
      " [0 0]\n",
      " [1 1]\n",
      " [0 0]\n",
      " [1 1]\n",
      " [0 0]\n",
      " [0 0]\n",
      " [1 1]\n",
      " [1 1]\n",
      " [0 0]\n",
      " [1 1]\n",
      " [1 0]\n",
      " [0 0]\n",
      " [1 1]\n",
      " [0 0]\n",
      " [1 1]\n",
      " [1 1]\n",
      " [1 1]\n",
      " [1 1]\n",
      " [0 0]\n",
      " [0 0]\n",
      " [0 0]\n",
      " [0 0]\n",
      " [1 1]\n",
      " [1 1]\n",
      " [0 0]\n",
      " [0 0]\n",
      " [1 1]\n",
      " [0 0]\n",
      " [1 1]\n",
      " [0 0]\n",
      " [0 0]\n",
      " [0 0]\n",
      " [0 0]\n",
      " [0 0]\n",
      " [1 1]\n",
      " [0 0]\n",
      " [0 0]\n",
      " [0 0]\n",
      " [0 0]\n",
      " [0 0]\n",
      " [0 0]\n",
      " [0 0]\n",
      " [1 1]\n",
      " [0 1]\n",
      " [1 1]\n",
      " [1 1]\n",
      " [0 0]\n",
      " [0 0]\n",
      " [0 0]]\n"
     ]
    }
   ],
   "source": [
    "### Predicting the Test set results\n",
    "\n",
    "Y_pred = random_forest_100_classifier.predict(X_test)\n",
    "print(np.concatenate((Y_pred.reshape(len(Y_pred), 1), Y_test.reshape(len(Y_test), 1)), 1))"
   ]
  },
  {
   "cell_type": "code",
   "execution_count": 73,
   "id": "3767b799",
   "metadata": {
    "execution": {
     "iopub.execute_input": "2022-07-24T05:55:40.931133Z",
     "iopub.status.busy": "2022-07-24T05:55:40.929804Z",
     "iopub.status.idle": "2022-07-24T05:55:40.941308Z",
     "shell.execute_reply": "2022-07-24T05:55:40.939673Z"
    },
    "papermill": {
     "duration": 0.061562,
     "end_time": "2022-07-24T05:55:40.944127",
     "exception": false,
     "start_time": "2022-07-24T05:55:40.882565",
     "status": "completed"
    },
    "tags": []
   },
   "outputs": [
    {
     "name": "stdout",
     "output_type": "stream",
     "text": [
      "[[67  2]\n",
      " [ 3 42]]\n",
      "The accuracy of this model is 95.61 %.\n",
      "The recall of this model is 93.33 %.\n"
     ]
    }
   ],
   "source": [
    "### Making the confusion matrix\n",
    "\n",
    "cm = confusion_matrix(Y_test, Y_pred)\n",
    "print(cm)\n",
    "\n",
    "### Printing the accuracy and recall of the model\n",
    "\n",
    "random_forest_100_accuracy = round(100 * accuracy_score(Y_test, Y_pred), 2)\n",
    "model_accuracy['Random Forest Classification (100 trees)'] = random_forest_100_accuracy\n",
    "\n",
    "random_forest_100_recall = round(100 * recall_score(Y_test, Y_pred), 2)\n",
    "model_recall['Random Forest Classification (100 trees)'] = random_forest_100_recall\n",
    "\n",
    "print('The accuracy of this model is {} %.'.format(random_forest_100_accuracy))\n",
    "print('The recall of this model is {} %.'.format(random_forest_100_recall))"
   ]
  },
  {
   "cell_type": "markdown",
   "id": "0b855f28",
   "metadata": {
    "papermill": {
     "duration": 0.045017,
     "end_time": "2022-07-24T05:55:41.034112",
     "exception": false,
     "start_time": "2022-07-24T05:55:40.989095",
     "status": "completed"
    },
    "tags": []
   },
   "source": [
    "##### 4.2.16 Applying Stacking Classifier"
   ]
  },
  {
   "cell_type": "code",
   "execution_count": 74,
   "id": "8064a0b9",
   "metadata": {
    "execution": {
     "iopub.execute_input": "2022-07-24T05:55:41.126124Z",
     "iopub.status.busy": "2022-07-24T05:55:41.125679Z",
     "iopub.status.idle": "2022-07-24T05:55:41.131905Z",
     "shell.execute_reply": "2022-07-24T05:55:41.130656Z"
    },
    "papermill": {
     "duration": 0.055276,
     "end_time": "2022-07-24T05:55:41.134244",
     "exception": false,
     "start_time": "2022-07-24T05:55:41.078968",
     "status": "completed"
    },
    "tags": []
   },
   "outputs": [],
   "source": [
    "### Preparing the Stacking Classifier\n",
    "\n",
    "### Define the base models\n",
    "\n",
    "base_models = list()\n",
    "\n",
    "base_models.append(('kernel_svc', kernel_svm_classifier))\n",
    "base_models.append(('5nn', classifier_5nn))\n",
    "base_models.append(('random_forest_25', random_forest_25_classifier))\n",
    "\n",
    "### Define the meta models\n",
    "\n",
    "meta_model = logistic_classifier"
   ]
  },
  {
   "cell_type": "code",
   "execution_count": 75,
   "id": "1a364242",
   "metadata": {
    "execution": {
     "iopub.execute_input": "2022-07-24T05:55:41.225327Z",
     "iopub.status.busy": "2022-07-24T05:55:41.224443Z",
     "iopub.status.idle": "2022-07-24T05:55:41.745353Z",
     "shell.execute_reply": "2022-07-24T05:55:41.743950Z"
    },
    "papermill": {
     "duration": 0.570038,
     "end_time": "2022-07-24T05:55:41.748024",
     "exception": false,
     "start_time": "2022-07-24T05:55:41.177986",
     "status": "completed"
    },
    "tags": []
   },
   "outputs": [
    {
     "data": {
      "text/plain": [
       "StackingClassifier(estimators=[('kernel_svc', SVC(random_state=27)),\n",
       "                               ('5nn', KNeighborsClassifier()),\n",
       "                               ('random_forest_25',\n",
       "                                RandomForestClassifier(criterion='entropy',\n",
       "                                                       n_estimators=25,\n",
       "                                                       random_state=27))],\n",
       "                   final_estimator=LogisticRegression(random_state=27))"
      ]
     },
     "execution_count": 75,
     "metadata": {},
     "output_type": "execute_result"
    }
   ],
   "source": [
    "### Applying Stacking Classification\n",
    "\n",
    "stacking_classifier = StackingClassifier(estimators = base_models, final_estimator = meta_model)\n",
    "stacking_classifier.fit(X_train, Y_train)"
   ]
  },
  {
   "cell_type": "code",
   "execution_count": 76,
   "id": "ec755934",
   "metadata": {
    "execution": {
     "iopub.execute_input": "2022-07-24T05:55:41.839659Z",
     "iopub.status.busy": "2022-07-24T05:55:41.839232Z",
     "iopub.status.idle": "2022-07-24T05:55:41.862467Z",
     "shell.execute_reply": "2022-07-24T05:55:41.861185Z"
    },
    "papermill": {
     "duration": 0.073663,
     "end_time": "2022-07-24T05:55:41.866140",
     "exception": false,
     "start_time": "2022-07-24T05:55:41.792477",
     "status": "completed"
    },
    "tags": []
   },
   "outputs": [
    {
     "name": "stdout",
     "output_type": "stream",
     "text": [
      "[[0 0]\n",
      " [0 0]\n",
      " [1 1]\n",
      " [1 1]\n",
      " [0 0]\n",
      " [0 0]\n",
      " [1 1]\n",
      " [0 0]\n",
      " [0 0]\n",
      " [1 1]\n",
      " [0 0]\n",
      " [1 1]\n",
      " [0 0]\n",
      " [0 0]\n",
      " [0 0]\n",
      " [0 0]\n",
      " [0 0]\n",
      " [1 1]\n",
      " [0 0]\n",
      " [0 0]\n",
      " [0 0]\n",
      " [1 1]\n",
      " [0 0]\n",
      " [0 0]\n",
      " [1 1]\n",
      " [0 0]\n",
      " [1 1]\n",
      " [1 1]\n",
      " [0 0]\n",
      " [1 1]\n",
      " [0 1]\n",
      " [0 0]\n",
      " [0 0]\n",
      " [0 0]\n",
      " [0 0]\n",
      " [0 0]\n",
      " [1 1]\n",
      " [1 1]\n",
      " [0 0]\n",
      " [0 0]\n",
      " [1 1]\n",
      " [1 1]\n",
      " [0 0]\n",
      " [1 1]\n",
      " [0 0]\n",
      " [1 1]\n",
      " [1 1]\n",
      " [1 1]\n",
      " [0 0]\n",
      " [1 1]\n",
      " [1 1]\n",
      " [0 0]\n",
      " [1 1]\n",
      " [1 1]\n",
      " [0 0]\n",
      " [0 0]\n",
      " [1 1]\n",
      " [0 0]\n",
      " [0 0]\n",
      " [0 0]\n",
      " [1 1]\n",
      " [0 0]\n",
      " [0 0]\n",
      " [0 0]\n",
      " [0 0]\n",
      " [0 0]\n",
      " [1 1]\n",
      " [0 0]\n",
      " [1 1]\n",
      " [0 0]\n",
      " [0 0]\n",
      " [1 1]\n",
      " [1 1]\n",
      " [0 0]\n",
      " [1 1]\n",
      " [0 0]\n",
      " [0 0]\n",
      " [1 1]\n",
      " [0 0]\n",
      " [1 1]\n",
      " [1 1]\n",
      " [1 1]\n",
      " [1 1]\n",
      " [0 0]\n",
      " [0 0]\n",
      " [0 0]\n",
      " [0 0]\n",
      " [1 1]\n",
      " [1 1]\n",
      " [0 0]\n",
      " [0 0]\n",
      " [1 1]\n",
      " [0 0]\n",
      " [1 1]\n",
      " [0 0]\n",
      " [0 0]\n",
      " [0 0]\n",
      " [0 0]\n",
      " [0 0]\n",
      " [1 1]\n",
      " [0 0]\n",
      " [0 0]\n",
      " [0 0]\n",
      " [0 0]\n",
      " [0 0]\n",
      " [0 0]\n",
      " [0 0]\n",
      " [1 1]\n",
      " [0 1]\n",
      " [1 1]\n",
      " [1 1]\n",
      " [0 0]\n",
      " [0 0]\n",
      " [0 0]]\n"
     ]
    }
   ],
   "source": [
    "### Predicting the Test set results\n",
    "\n",
    "Y_pred = stacking_classifier.predict(X_test)\n",
    "print(np.concatenate((Y_pred.reshape(len(Y_pred), 1), Y_test.reshape(len(Y_test), 1)), 1))"
   ]
  },
  {
   "cell_type": "code",
   "execution_count": 77,
   "id": "d2661137",
   "metadata": {
    "execution": {
     "iopub.execute_input": "2022-07-24T05:55:42.008263Z",
     "iopub.status.busy": "2022-07-24T05:55:42.007836Z",
     "iopub.status.idle": "2022-07-24T05:55:42.020627Z",
     "shell.execute_reply": "2022-07-24T05:55:42.019157Z"
    },
    "papermill": {
     "duration": 0.070402,
     "end_time": "2022-07-24T05:55:42.024981",
     "exception": false,
     "start_time": "2022-07-24T05:55:41.954579",
     "status": "completed"
    },
    "tags": []
   },
   "outputs": [
    {
     "name": "stdout",
     "output_type": "stream",
     "text": [
      "[[69  0]\n",
      " [ 2 43]]\n",
      "The accuracy of this model is 98.25 %.\n",
      "The recall of this model is 95.56 %.\n"
     ]
    }
   ],
   "source": [
    "### Making the confusion matrix\n",
    "\n",
    "cm = confusion_matrix(Y_test, Y_pred)\n",
    "print(cm)\n",
    "\n",
    "### Printing the accuracy and recall of the model\n",
    "\n",
    "stacking_classifier_accuracy = round(100 * accuracy_score(Y_test, Y_pred), 2)\n",
    "model_accuracy['Stacking Classifier'] = stacking_classifier_accuracy\n",
    "\n",
    "stacking_classifier_recall = round(100 * recall_score(Y_test, Y_pred), 2)\n",
    "model_recall['Stacking Classifier'] = stacking_classifier_recall\n",
    "\n",
    "print('The accuracy of this model is {} %.'.format(stacking_classifier_accuracy))\n",
    "print('The recall of this model is {} %.'.format(stacking_classifier_recall))"
   ]
  },
  {
   "cell_type": "markdown",
   "id": "645a0356",
   "metadata": {
    "papermill": {
     "duration": 0.044457,
     "end_time": "2022-07-24T05:55:42.115119",
     "exception": false,
     "start_time": "2022-07-24T05:55:42.070662",
     "status": "completed"
    },
    "tags": []
   },
   "source": [
    "#### 4.3 Model evaluation"
   ]
  },
  {
   "cell_type": "markdown",
   "id": "ea63069b",
   "metadata": {
    "papermill": {
     "duration": 0.050294,
     "end_time": "2022-07-24T05:55:42.209704",
     "exception": false,
     "start_time": "2022-07-24T05:55:42.159410",
     "status": "completed"
    },
    "tags": []
   },
   "source": [
    "Model evaluation is the process of using different evaluation metrics to understand a machine learning model's performance, as well as its strengths and weaknesses."
   ]
  },
  {
   "cell_type": "markdown",
   "id": "df69b32a",
   "metadata": {
    "papermill": {
     "duration": 0.044463,
     "end_time": "2022-07-24T05:55:42.300340",
     "exception": false,
     "start_time": "2022-07-24T05:55:42.255877",
     "status": "completed"
    },
    "tags": []
   },
   "source": [
    "##### 4.3.1 Training accuracy of the models"
   ]
  },
  {
   "cell_type": "markdown",
   "id": "9ba84c5f",
   "metadata": {
    "papermill": {
     "duration": 0.045059,
     "end_time": "2022-07-24T05:55:42.389401",
     "exception": false,
     "start_time": "2022-07-24T05:55:42.344342",
     "status": "completed"
    },
    "tags": []
   },
   "source": [
    "Now we will tabulate all the models along with their accuracies. This data is stored in the model_performance dictionary. We will use the tabulate package for tabulating the results."
   ]
  },
  {
   "cell_type": "code",
   "execution_count": 78,
   "id": "5a2427ea",
   "metadata": {
    "execution": {
     "iopub.execute_input": "2022-07-24T05:55:42.485472Z",
     "iopub.status.busy": "2022-07-24T05:55:42.484610Z",
     "iopub.status.idle": "2022-07-24T05:55:42.492012Z",
     "shell.execute_reply": "2022-07-24T05:55:42.490849Z"
    },
    "papermill": {
     "duration": 0.060749,
     "end_time": "2022-07-24T05:55:42.494446",
     "exception": false,
     "start_time": "2022-07-24T05:55:42.433697",
     "status": "completed"
    },
    "tags": []
   },
   "outputs": [
    {
     "data": {
      "text/plain": [
       "OrderedDict([('Logistic Regression', 97.37),\n",
       "             ('Linear SVM', 97.37),\n",
       "             ('Kernel SVM', 98.25),\n",
       "             ('K - Nearest Neighbors (1 NN)', 94.74),\n",
       "             ('K - Nearest Neighbors (3 NN)', 97.37),\n",
       "             ('K - Nearest Neighbors (5 NN)', 97.37),\n",
       "             ('K - Nearest Neighbors (7 NN)', 97.37),\n",
       "             ('K - Nearest Neighbors (9 NN)', 95.61),\n",
       "             ('K - Nearest Neighbors (11 NN)', 94.74),\n",
       "             ('Gaussian Naive Bayes', 95.61),\n",
       "             ('Decision Tree Classification', 92.11),\n",
       "             ('Random Forest Classification (10 trees)', 94.74),\n",
       "             ('Random Forest Classification (25 trees)', 96.49),\n",
       "             ('Random Forest Classification (50 trees)', 95.61),\n",
       "             ('Random Forest Classification (100 trees)', 95.61),\n",
       "             ('Stacking Classifier', 98.25)])"
      ]
     },
     "execution_count": 78,
     "metadata": {},
     "output_type": "execute_result"
    }
   ],
   "source": [
    "### Looking at the model accuracy dictionary\n",
    "\n",
    "model_accuracy"
   ]
  },
  {
   "cell_type": "code",
   "execution_count": 79,
   "id": "9d6aafe7",
   "metadata": {
    "execution": {
     "iopub.execute_input": "2022-07-24T05:55:42.590480Z",
     "iopub.status.busy": "2022-07-24T05:55:42.589666Z",
     "iopub.status.idle": "2022-07-24T05:55:42.597657Z",
     "shell.execute_reply": "2022-07-24T05:55:42.596412Z"
    },
    "papermill": {
     "duration": 0.058978,
     "end_time": "2022-07-24T05:55:42.600088",
     "exception": false,
     "start_time": "2022-07-24T05:55:42.541110",
     "status": "completed"
    },
    "tags": []
   },
   "outputs": [
    {
     "data": {
      "text/plain": [
       "OrderedDict([('Logistic Regression', 93.33),\n",
       "             ('Linear SVM', 93.33),\n",
       "             ('Kernel SVM', 95.56),\n",
       "             ('K - Nearest Neighbors (1 NN)', 93.33),\n",
       "             ('K - Nearest Neighbors (3 NN)', 95.56),\n",
       "             ('K - Nearest Neighbors (5 NN)', 95.56),\n",
       "             ('K - Nearest Neighbors (7 NN)', 95.56),\n",
       "             ('K - Nearest Neighbors (9 NN)', 91.11),\n",
       "             ('K - Nearest Neighbors (11 NN)', 88.89),\n",
       "             ('Gaussian Naive Bayes', 91.11),\n",
       "             ('Decision Tree Classification', 93.33),\n",
       "             ('Random Forest Classification (10 trees)', 91.11),\n",
       "             ('Random Forest Classification (25 trees)', 93.33),\n",
       "             ('Random Forest Classification (50 trees)', 93.33),\n",
       "             ('Random Forest Classification (100 trees)', 93.33),\n",
       "             ('Stacking Classifier', 95.56)])"
      ]
     },
     "execution_count": 79,
     "metadata": {},
     "output_type": "execute_result"
    }
   ],
   "source": [
    "### Looking at the model recall dictionary\n",
    "\n",
    "model_recall"
   ]
  },
  {
   "cell_type": "code",
   "execution_count": 80,
   "id": "93ef94c1",
   "metadata": {
    "execution": {
     "iopub.execute_input": "2022-07-24T05:55:42.691928Z",
     "iopub.status.busy": "2022-07-24T05:55:42.691146Z",
     "iopub.status.idle": "2022-07-24T05:55:42.702329Z",
     "shell.execute_reply": "2022-07-24T05:55:42.701312Z"
    },
    "papermill": {
     "duration": 0.06304,
     "end_time": "2022-07-24T05:55:42.707575",
     "exception": false,
     "start_time": "2022-07-24T05:55:42.644535",
     "status": "completed"
    },
    "tags": []
   },
   "outputs": [
    {
     "name": "stdout",
     "output_type": "stream",
     "text": [
      "╒═════════╤══════════════════════════════════════════╤══════════════════╤════════════════╕\n",
      "│   S.No. │ Classification Model                     │   Model Accuracy │   Model Recall │\n",
      "╞═════════╪══════════════════════════════════════════╪══════════════════╪════════════════╡\n",
      "│       1 │ Logistic Regression                      │            97.37 │          93.33 │\n",
      "├─────────┼──────────────────────────────────────────┼──────────────────┼────────────────┤\n",
      "│       2 │ Linear SVM                               │            97.37 │          93.33 │\n",
      "├─────────┼──────────────────────────────────────────┼──────────────────┼────────────────┤\n",
      "│       3 │ Kernel SVM                               │            98.25 │          95.56 │\n",
      "├─────────┼──────────────────────────────────────────┼──────────────────┼────────────────┤\n",
      "│       4 │ K - Nearest Neighbors (1 NN)             │            94.74 │          93.33 │\n",
      "├─────────┼──────────────────────────────────────────┼──────────────────┼────────────────┤\n",
      "│       5 │ K - Nearest Neighbors (3 NN)             │            97.37 │          95.56 │\n",
      "├─────────┼──────────────────────────────────────────┼──────────────────┼────────────────┤\n",
      "│       6 │ K - Nearest Neighbors (5 NN)             │            97.37 │          95.56 │\n",
      "├─────────┼──────────────────────────────────────────┼──────────────────┼────────────────┤\n",
      "│       7 │ K - Nearest Neighbors (7 NN)             │            97.37 │          95.56 │\n",
      "├─────────┼──────────────────────────────────────────┼──────────────────┼────────────────┤\n",
      "│       8 │ K - Nearest Neighbors (9 NN)             │            95.61 │          91.11 │\n",
      "├─────────┼──────────────────────────────────────────┼──────────────────┼────────────────┤\n",
      "│       9 │ K - Nearest Neighbors (11 NN)            │            94.74 │          88.89 │\n",
      "├─────────┼──────────────────────────────────────────┼──────────────────┼────────────────┤\n",
      "│      10 │ Gaussian Naive Bayes                     │            95.61 │          91.11 │\n",
      "├─────────┼──────────────────────────────────────────┼──────────────────┼────────────────┤\n",
      "│      11 │ Decision Tree Classification             │            92.11 │          93.33 │\n",
      "├─────────┼──────────────────────────────────────────┼──────────────────┼────────────────┤\n",
      "│      12 │ Random Forest Classification (10 trees)  │            94.74 │          91.11 │\n",
      "├─────────┼──────────────────────────────────────────┼──────────────────┼────────────────┤\n",
      "│      13 │ Random Forest Classification (25 trees)  │            96.49 │          93.33 │\n",
      "├─────────┼──────────────────────────────────────────┼──────────────────┼────────────────┤\n",
      "│      14 │ Random Forest Classification (50 trees)  │            95.61 │          93.33 │\n",
      "├─────────┼──────────────────────────────────────────┼──────────────────┼────────────────┤\n",
      "│      15 │ Random Forest Classification (100 trees) │            95.61 │          93.33 │\n",
      "├─────────┼──────────────────────────────────────────┼──────────────────┼────────────────┤\n",
      "│      16 │ Stacking Classifier                      │            98.25 │          95.56 │\n",
      "╘═════════╧══════════════════════════════════════════╧══════════════════╧════════════════╛\n"
     ]
    }
   ],
   "source": [
    "### Tabulating the results\n",
    "\n",
    "table = []\n",
    "table.append(['S.No.', 'Classification Model', 'Model Accuracy', 'Model Recall'])\n",
    "count = 1\n",
    "\n",
    "for model in model_accuracy:\n",
    "    row = [count, model, model_accuracy[model], model_recall[model]]\n",
    "    table.append(row)\n",
    "    count += 1\n",
    "    \n",
    "print(tabulate(table, headers = 'firstrow', tablefmt = 'fancy_grid'))"
   ]
  },
  {
   "cell_type": "markdown",
   "id": "ab936a4f",
   "metadata": {
    "papermill": {
     "duration": 0.045662,
     "end_time": "2022-07-24T05:55:42.798941",
     "exception": false,
     "start_time": "2022-07-24T05:55:42.753279",
     "status": "completed"
    },
    "tags": []
   },
   "source": [
    "From the above table, we can see that the model - Kernel Support Vector Classification has the highest accuracy of 98.25 percent and a high recall of 95.56 percent."
   ]
  },
  {
   "cell_type": "markdown",
   "id": "40464764",
   "metadata": {
    "papermill": {
     "duration": 0.044645,
     "end_time": "2022-07-24T05:55:42.891012",
     "exception": false,
     "start_time": "2022-07-24T05:55:42.846367",
     "status": "completed"
    },
    "tags": []
   },
   "source": [
    "##### 4.3.2 Applying K-fold Cross Validation"
   ]
  },
  {
   "cell_type": "markdown",
   "id": "83a26189",
   "metadata": {
    "papermill": {
     "duration": 0.045294,
     "end_time": "2022-07-24T05:55:42.982347",
     "exception": false,
     "start_time": "2022-07-24T05:55:42.937053",
     "status": "completed"
    },
    "tags": []
   },
   "source": [
    "It is important to not get too carried away with models with impressive training accuracy as what we should focus on instead is the model's ability to predict out-of-samples data, in other words, data our model has not seen before. This is where k-fold cross validation comes in. K-fold cross validation is a technique whereby a subset of our training set is kept aside and will act as holdout set for testing purposes."
   ]
  },
  {
   "cell_type": "code",
   "execution_count": 81,
   "id": "eb0add63",
   "metadata": {
    "execution": {
     "iopub.execute_input": "2022-07-24T05:55:43.073953Z",
     "iopub.status.busy": "2022-07-24T05:55:43.073543Z",
     "iopub.status.idle": "2022-07-24T05:55:43.083088Z",
     "shell.execute_reply": "2022-07-24T05:55:43.081371Z"
    },
    "papermill": {
     "duration": 0.058494,
     "end_time": "2022-07-24T05:55:43.085760",
     "exception": false,
     "start_time": "2022-07-24T05:55:43.027266",
     "status": "completed"
    },
    "tags": []
   },
   "outputs": [],
   "source": [
    "### Create a list of classifiers\n",
    "\n",
    "classifiers = []\n",
    "classifiers.append(logistic_classifier)\n",
    "classifiers.append(linear_svm_classifier)\n",
    "classifiers.append(kernel_svm_classifier)\n",
    "classifiers.append(classifier_1nn)\n",
    "classifiers.append(classifier_3nn)\n",
    "classifiers.append(classifier_5nn)\n",
    "classifiers.append(classifier_7nn)\n",
    "classifiers.append(classifier_9nn)\n",
    "classifiers.append(classifier_11nn)\n",
    "classifiers.append(naive_bayes_classifier)\n",
    "classifiers.append(decision_tree_classifier)\n",
    "classifiers.append(random_forest_10_classifier)\n",
    "classifiers.append(random_forest_25_classifier)\n",
    "classifiers.append(random_forest_50_classifier)\n",
    "classifiers.append(random_forest_100_classifier)\n",
    "classifiers.append(stacking_classifier)"
   ]
  },
  {
   "cell_type": "markdown",
   "id": "c4554ab7",
   "metadata": {
    "papermill": {
     "duration": 0.046073,
     "end_time": "2022-07-24T05:55:43.176353",
     "exception": false,
     "start_time": "2022-07-24T05:55:43.130280",
     "status": "completed"
    },
    "tags": []
   },
   "source": [
    "We will now use this list of classifiers to perform K-fold cross validation."
   ]
  },
  {
   "cell_type": "code",
   "execution_count": 82,
   "id": "15025d88",
   "metadata": {
    "execution": {
     "iopub.execute_input": "2022-07-24T05:55:43.271477Z",
     "iopub.status.busy": "2022-07-24T05:55:43.268907Z",
     "iopub.status.idle": "2022-07-24T05:56:34.136094Z",
     "shell.execute_reply": "2022-07-24T05:56:34.134984Z"
    },
    "papermill": {
     "duration": 50.962168,
     "end_time": "2022-07-24T05:56:34.183313",
     "exception": false,
     "start_time": "2022-07-24T05:55:43.221145",
     "status": "completed"
    },
    "tags": []
   },
   "outputs": [
    {
     "data": {
      "text/plain": [
       "[96.51111111111112,\n",
       " 97.42222222222222,\n",
       " 97.37777777777778,\n",
       " 94.93333333333334,\n",
       " 96.93333333333334,\n",
       " 96.26666666666668,\n",
       " 96.93333333333334,\n",
       " 97.82222222222222,\n",
       " 97.60000000000001,\n",
       " 93.17777777777778,\n",
       " 92.53333333333332,\n",
       " 96.26666666666667,\n",
       " 95.82222222222222,\n",
       " 95.82222222222222,\n",
       " 96.48888888888888,\n",
       " 97.6]"
      ]
     },
     "execution_count": 82,
     "metadata": {},
     "output_type": "execute_result"
    }
   ],
   "source": [
    "### Applying K-fold cross validation and tabulating the results\n",
    "\n",
    "validation_accuracies = []\n",
    "standard_deviations = []\n",
    "\n",
    "for each_classifier in classifiers:\n",
    "    accuracy = cross_val_score(estimator = each_classifier, X = X_train, y = Y_train, cv = 50)\n",
    "    validation_accuracies.append(np.mean(accuracy) * 100)\n",
    "    standard_deviations.append(accuracy.std() * 100)\n",
    "    \n",
    "validation_accuracies"
   ]
  },
  {
   "cell_type": "code",
   "execution_count": 83,
   "id": "d01a7107",
   "metadata": {
    "execution": {
     "iopub.execute_input": "2022-07-24T05:56:34.273871Z",
     "iopub.status.busy": "2022-07-24T05:56:34.273488Z",
     "iopub.status.idle": "2022-07-24T05:56:34.283525Z",
     "shell.execute_reply": "2022-07-24T05:56:34.282476Z"
    },
    "papermill": {
     "duration": 0.05859,
     "end_time": "2022-07-24T05:56:34.286173",
     "exception": false,
     "start_time": "2022-07-24T05:56:34.227583",
     "status": "completed"
    },
    "tags": []
   },
   "outputs": [
    {
     "name": "stdout",
     "output_type": "stream",
     "text": [
      "╒══════════════════════════════════════════╤══════════════════╤════════════════╤═══════════════════════╤══════════════════╕\n",
      "│ Model                                    │   Model Accuracy │   Model Recall │   Validation Accuracy │   Std. Deviation │\n",
      "╞══════════════════════════════════════════╪══════════════════╪════════════════╪═══════════════════════╪══════════════════╡\n",
      "│ Logistic Regression                      │            97.37 │          93.33 │               96.5111 │          5.5556  │\n",
      "├──────────────────────────────────────────┼──────────────────┼────────────────┼───────────────────────┼──────────────────┤\n",
      "│ Linear SVM                               │            97.37 │          93.33 │               97.4222 │          4.59436 │\n",
      "├──────────────────────────────────────────┼──────────────────┼────────────────┼───────────────────────┼──────────────────┤\n",
      "│ Kernel SVM                               │            98.25 │          95.56 │               97.3778 │          5.17239 │\n",
      "├──────────────────────────────────────────┼──────────────────┼────────────────┼───────────────────────┼──────────────────┤\n",
      "│ K - Nearest Neighbors (1 NN)             │            94.74 │          93.33 │               94.9333 │          7.40757 │\n",
      "├──────────────────────────────────────────┼──────────────────┼────────────────┼───────────────────────┼──────────────────┤\n",
      "│ K - Nearest Neighbors (3 NN)             │            97.37 │          95.56 │               96.9333 │          5.83967 │\n",
      "├──────────────────────────────────────────┼──────────────────┼────────────────┼───────────────────────┼──────────────────┤\n",
      "│ K - Nearest Neighbors (5 NN)             │            97.37 │          95.56 │               96.2667 │          6.08077 │\n",
      "├──────────────────────────────────────────┼──────────────────┼────────────────┼───────────────────────┼──────────────────┤\n",
      "│ K - Nearest Neighbors (7 NN)             │            97.37 │          95.56 │               96.9333 │          4.92191 │\n",
      "├──────────────────────────────────────────┼──────────────────┼────────────────┼───────────────────────┼──────────────────┤\n",
      "│ K - Nearest Neighbors (9 NN)             │            95.61 │          91.11 │               97.8222 │          4.36009 │\n",
      "├──────────────────────────────────────────┼──────────────────┼────────────────┼───────────────────────┼──────────────────┤\n",
      "│ K - Nearest Neighbors (11 NN)            │            94.74 │          88.89 │               97.6    │          4.52352 │\n",
      "├──────────────────────────────────────────┼──────────────────┼────────────────┼───────────────────────┼──────────────────┤\n",
      "│ Gaussian Naive Bayes                     │            95.61 │          91.11 │               93.1778 │          7.88814 │\n",
      "├──────────────────────────────────────────┼──────────────────┼────────────────┼───────────────────────┼──────────────────┤\n",
      "│ Decision Tree Classification             │            92.11 │          93.33 │               92.5333 │          8.64681 │\n",
      "├──────────────────────────────────────────┼──────────────────┼────────────────┼───────────────────────┼──────────────────┤\n",
      "│ Random Forest Classification (10 trees)  │            94.74 │          91.11 │               96.2667 │          5.66017 │\n",
      "├──────────────────────────────────────────┼──────────────────┼────────────────┼───────────────────────┼──────────────────┤\n",
      "│ Random Forest Classification (25 trees)  │            96.49 │          93.33 │               95.8222 │          5.78444 │\n",
      "├──────────────────────────────────────────┼──────────────────┼────────────────┼───────────────────────┼──────────────────┤\n",
      "│ Random Forest Classification (50 trees)  │            95.61 │          93.33 │               95.8222 │          6.19661 │\n",
      "├──────────────────────────────────────────┼──────────────────┼────────────────┼───────────────────────┼──────────────────┤\n",
      "│ Random Forest Classification (100 trees) │            95.61 │          93.33 │               96.4889 │          5.58375 │\n",
      "├──────────────────────────────────────────┼──────────────────┼────────────────┼───────────────────────┼──────────────────┤\n",
      "│ Stacking Classifier                      │            98.25 │          95.56 │               97.6    │          5.03989 │\n",
      "╘══════════════════════════════════════════╧══════════════════╧════════════════╧═══════════════════════╧══════════════════╛\n"
     ]
    }
   ],
   "source": [
    "### Tabulating the results\n",
    "\n",
    "table = []\n",
    "table.append(['Model', 'Model Accuracy', 'Model Recall', 'Validation Accuracy', 'Std. Deviation'])\n",
    "count = 1\n",
    "\n",
    "for model in model_accuracy:\n",
    "    row = [model, model_accuracy[model], model_recall[model], validation_accuracies[count - 1], \n",
    "           standard_deviations[count - 1]]\n",
    "    table.append(row)\n",
    "    count += 1\n",
    "    \n",
    "print(tabulate(table, headers = 'firstrow', tablefmt = 'fancy_grid'))"
   ]
  },
  {
   "cell_type": "markdown",
   "id": "619647a5",
   "metadata": {
    "papermill": {
     "duration": 0.04467,
     "end_time": "2022-07-24T05:56:34.375505",
     "exception": false,
     "start_time": "2022-07-24T05:56:34.330835",
     "status": "completed"
    },
    "tags": []
   },
   "source": [
    "From the above table, we can see that the validation accuracy is higher in 9 Nearest Neighbors. However, on comparing the models - Kernel SVM, Stacking Classifier and 9 Nearest Neighbors we can see that the Training accuracy, recall, and Validation accuracy is stable in Stacking Classifier model (less standard deviation). Hence, we use the model Stacking Classifier for Breast Cancer Detection."
   ]
  },
  {
   "cell_type": "markdown",
   "id": "8c59a7a2",
   "metadata": {
    "papermill": {
     "duration": 0.044009,
     "end_time": "2022-07-24T05:56:34.463854",
     "exception": false,
     "start_time": "2022-07-24T05:56:34.419845",
     "status": "completed"
    },
    "tags": []
   },
   "source": [
    "##### 4.3.3 Plotting the ROC graph"
   ]
  },
  {
   "cell_type": "code",
   "execution_count": 84,
   "id": "370d80e4",
   "metadata": {
    "execution": {
     "iopub.execute_input": "2022-07-24T05:56:34.555470Z",
     "iopub.status.busy": "2022-07-24T05:56:34.554633Z",
     "iopub.status.idle": "2022-07-24T05:56:34.583719Z",
     "shell.execute_reply": "2022-07-24T05:56:34.582265Z"
    },
    "papermill": {
     "duration": 0.079144,
     "end_time": "2022-07-24T05:56:34.587752",
     "exception": false,
     "start_time": "2022-07-24T05:56:34.508608",
     "status": "completed"
    },
    "tags": []
   },
   "outputs": [],
   "source": [
    "### Generate probabilities - No Skill, Stacking Classifier probabilities\n",
    "\n",
    "no_skill_probabilities = [0] * len(Y_test)\n",
    "stacking_classifier_probabilities = stacking_classifier.predict_proba(X_test)[:, 1]\n",
    "\n",
    "### Calculate Scores\n",
    "\n",
    "no_skill_auc = roc_auc_score(Y_test, no_skill_probabilities)\n",
    "stacking_classifier_auc = roc_auc_score(Y_test, stacking_classifier_probabilities)"
   ]
  },
  {
   "cell_type": "code",
   "execution_count": 85,
   "id": "554d4fbd",
   "metadata": {
    "execution": {
     "iopub.execute_input": "2022-07-24T05:56:34.725888Z",
     "iopub.status.busy": "2022-07-24T05:56:34.724882Z",
     "iopub.status.idle": "2022-07-24T05:56:34.730106Z",
     "shell.execute_reply": "2022-07-24T05:56:34.729340Z"
    },
    "papermill": {
     "duration": 0.061861,
     "end_time": "2022-07-24T05:56:34.733022",
     "exception": false,
     "start_time": "2022-07-24T05:56:34.671161",
     "status": "completed"
    },
    "tags": []
   },
   "outputs": [
    {
     "name": "stdout",
     "output_type": "stream",
     "text": [
      "No Skill: ROC AUC = 0.500\n",
      "Stacking Classifier: ROC AUC = 0.997\n"
     ]
    }
   ],
   "source": [
    "### Summarize Scores\n",
    "\n",
    "print('No Skill: ROC AUC = %.3f' % (no_skill_auc))\n",
    "print('Stacking Classifier: ROC AUC = %.3f' % (stacking_classifier_auc))"
   ]
  },
  {
   "cell_type": "code",
   "execution_count": 86,
   "id": "fb6468e0",
   "metadata": {
    "execution": {
     "iopub.execute_input": "2022-07-24T05:56:34.826168Z",
     "iopub.status.busy": "2022-07-24T05:56:34.824911Z",
     "iopub.status.idle": "2022-07-24T05:56:34.832006Z",
     "shell.execute_reply": "2022-07-24T05:56:34.830784Z"
    },
    "papermill": {
     "duration": 0.056242,
     "end_time": "2022-07-24T05:56:34.834706",
     "exception": false,
     "start_time": "2022-07-24T05:56:34.778464",
     "status": "completed"
    },
    "tags": []
   },
   "outputs": [],
   "source": [
    "### Calculate ROC curves\n",
    "\n",
    "no_skill_fpr, no_skill_tpr, _ = roc_curve(Y_test, no_skill_probabilities)\n",
    "stacking_classifier_fpr, stacking_classifier_tpr, _ = roc_curve(Y_test, stacking_classifier_probabilities)"
   ]
  },
  {
   "cell_type": "code",
   "execution_count": 87,
   "id": "1641ad26",
   "metadata": {
    "execution": {
     "iopub.execute_input": "2022-07-24T05:56:34.927024Z",
     "iopub.status.busy": "2022-07-24T05:56:34.926576Z",
     "iopub.status.idle": "2022-07-24T05:56:35.141444Z",
     "shell.execute_reply": "2022-07-24T05:56:35.140278Z"
    },
    "papermill": {
     "duration": 0.264146,
     "end_time": "2022-07-24T05:56:35.144368",
     "exception": false,
     "start_time": "2022-07-24T05:56:34.880222",
     "status": "completed"
    },
    "tags": []
   },
   "outputs": [
    {
     "data": {
      "image/png": "[encoded data removed]",
      "text/plain": [
       "<Figure size 432x288 with 1 Axes>"
      ]
     },
     "metadata": {
      "needs_background": "light"
     },
     "output_type": "display_data"
    }
   ],
   "source": [
    "### Plot the ROC Curve\n",
    "\n",
    "plt.title('ROC Curve - Stacking Classifier')\n",
    "plt.xlabel('False Positive Rate')\n",
    "plt.ylabel('True Positive Rate')\n",
    "plt.plot(no_skill_fpr, no_skill_tpr, linestyle = '--', \n",
    "         label = 'No Skill = ' + str(round(no_skill_auc * 100, 2)) + '%')\n",
    "plt.plot(stacking_classifier_fpr, stacking_classifier_tpr, marker = '.', \n",
    "         label = 'Stacking Classifier = ' + str(round(stacking_classifier_auc * 100, 2)) + '%')\n",
    "plt.legend()\n",
    "plt.show()"
   ]
  },
  {
   "cell_type": "markdown",
   "id": "0b0de4c1",
   "metadata": {
    "papermill": {
     "duration": 0.045012,
     "end_time": "2022-07-24T05:56:35.235796",
     "exception": false,
     "start_time": "2022-07-24T05:56:35.190784",
     "status": "completed"
    },
    "tags": []
   },
   "source": [
    "### 5. Conclusion"
   ]
  },
  {
   "cell_type": "markdown",
   "id": "31fd6fb2",
   "metadata": {
    "papermill": {
     "duration": 0.0444,
     "end_time": "2022-07-24T05:56:35.325039",
     "exception": false,
     "start_time": "2022-07-24T05:56:35.280639",
     "status": "completed"
    },
    "tags": []
   },
   "source": [
    "Hence our recommended model - Stacking Classifier provides a model accuracy of 98.25 percent, a model recall of 95.56 percent, and a validation accuracy of 97.6 percent. "
   ]
  }
 ],
 "metadata": {
  "kernelspec": {
   "display_name": "Python 3",
   "language": "python",
   "name": "python3"
  },
  "language_info": {
   "codemirror_mode": {
    "name": "ipython",
    "version": 3
   },
   "file_extension": ".py",
   "mimetype": "text/x-python",
   "name": "python",
   "nbconvert_exporter": "python",
   "pygments_lexer": "ipython3",
   "version": "3.7.12"
  },
  "papermill": {
   "default_parameters": {},
   "duration": 80.252641,
   "end_time": "2022-07-24T05:56:36.193937",
   "environment_variables": {},
   "exception": null,
   "input_path": "__notebook__.ipynb",
   "output_path": "__notebook__.ipynb",
   "parameters": {},
   "start_time": "2022-07-24T05:55:15.941296",
   "version": "2.3.4"
  }
 },
 "nbformat": 4,
 "nbformat_minor": 5
}
